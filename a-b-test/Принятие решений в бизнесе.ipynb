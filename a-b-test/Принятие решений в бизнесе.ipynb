{
 "cells": [
  {
   "cell_type": "markdown",
   "metadata": {},
   "source": [
    "##  Приоритизация гипотез."
   ]
  },
  {
   "cell_type": "markdown",
   "metadata": {},
   "source": [
    "**Загрузка данных и подготовка их к анализу**"
   ]
  },
  {
   "cell_type": "markdown",
   "metadata": {},
   "source": [
    "Я — аналитик крупного интернет-магазина. Вместе с отделом маркетинга мы подготовили список гипотез для увеличения выручки.\n",
    "Приоритизируем гипотезы, запустим A/B-тест и проанализируем результаты."
   ]
  },
  {
   "cell_type": "markdown",
   "metadata": {},
   "source": [
    "Для начала импортируем библиотеки."
   ]
  },
  {
   "cell_type": "code",
   "execution_count": 1,
   "metadata": {},
   "outputs": [],
   "source": [
    "import pandas as pd\n",
    "import scipy.stats as stats\n",
    "import numpy as np\n",
    "import datetime as dt\n",
    "from matplotlib import pyplot as plt"
   ]
  },
  {
   "cell_type": "code",
   "execution_count": 2,
   "metadata": {},
   "outputs": [],
   "source": [
    "data = pd.read_csv('/datasets/hypothesis.csv')  # журнал гипотез\n",
    "orders = pd.read_csv('/datasets/orders.csv')  # покупки\n",
    "visitors = pd.read_csv('/datasets/visitors.csv')  # группы"
   ]
  },
  {
   "cell_type": "markdown",
   "metadata": {},
   "source": [
    "Рассмотрим гипотезы, и используя фреймворки ICE и RICE найдем наиболее приоритетные.\n",
    "\n",
    "\n",
    "Hypothesis — краткое описание гипотезы;\n",
    "Reach — охват пользователей по 10-балльной шкале;\n",
    "Impact — влияние на пользователей по 10-балльной шкале;\n",
    "Confidence — уверенность в гипотезе по 10-балльной шкале;\n",
    "Efforts — затраты ресурсов на проверку гипотезы по 10-балльной шкале. Чем больше значение Efforts, тем дороже проверка гипотезы."
   ]
  },
  {
   "cell_type": "markdown",
   "metadata": {},
   "source": [
    "Приведем столбцы к приемлемому виду"
   ]
  },
  {
   "cell_type": "code",
   "execution_count": 3,
   "metadata": {},
   "outputs": [],
   "source": [
    "data.columns = data.columns.str.lower().str.replace(' ', '_')\n",
    "orders.columns = orders.columns.str.lower().str.replace(' ', '_')\n",
    "visitors.columns = visitors.columns.str.lower().str.replace(' ', '_')"
   ]
  },
  {
   "cell_type": "code",
   "execution_count": 4,
   "metadata": {
    "scrolled": true
   },
   "outputs": [],
   "source": [
    "data\n",
    "pd.set_option('display.max_colwidth', None)"
   ]
  },
  {
   "cell_type": "markdown",
   "metadata": {},
   "source": [
    "Применим фреймворк ICE для приоритизации гипотез. Отсортируем их по убыванию приоритета."
   ]
  },
  {
   "cell_type": "code",
   "execution_count": 5,
   "metadata": {},
   "outputs": [
    {
     "name": "stdout",
     "output_type": "stream",
     "text": [
      "                                                                                                     hypothesis  \\\n",
      "8                                                       Запустить акцию, дающую скидку на товар в день рождения   \n",
      "0            Добавить два новых канала привлечения трафика, что позволит привлекать на 30% больше пользователей   \n",
      "7              Добавить форму подписки на все основные страницы, чтобы собрать базу клиентов для email-рассылок   \n",
      "6          Показать на главной странице баннеры с актуальными акциями и распродажами, чтобы увеличить конверсию   \n",
      "2  Добавить блоки рекомендаций товаров на сайт интернет магазина, чтобы повысить конверсию и средний чек заказа   \n",
      "1                                     Запустить собственную службу доставки, что сократит срок доставки заказов   \n",
      "5                      Добавить страницу отзывов клиентов о магазине, что позволит увеличить количество заказов   \n",
      "3           Изменить структура категорий, что увеличит конверсию, т.к. пользователи быстрее найдут нужный товар   \n",
      "4                              Изменить цвет фона главной страницы, чтобы увеличить вовлеченность пользователей   \n",
      "\n",
      "         ICE  \n",
      "8  16.200000  \n",
      "0  13.333333  \n",
      "7  11.200000  \n",
      "6   8.000000  \n",
      "2   7.000000  \n",
      "1   2.000000  \n",
      "5   1.333333  \n",
      "3   1.125000  \n",
      "4   1.000000  \n"
     ]
    }
   ],
   "source": [
    "data['ICE'] = (data['impact'] * data['confidence'])/data['efforts']\n",
    "print(data[['hypothesis','ICE']].sort_values(by='ICE', ascending=False))"
   ]
  },
  {
   "cell_type": "markdown",
   "metadata": {},
   "source": [
    "Применим фреймворк RICE для приоритизации гипотез. Отсортируем их по убыванию приоритета."
   ]
  },
  {
   "cell_type": "code",
   "execution_count": 6,
   "metadata": {},
   "outputs": [
    {
     "name": "stdout",
     "output_type": "stream",
     "text": [
      "                                                                                                     hypothesis  \\\n",
      "7              Добавить форму подписки на все основные страницы, чтобы собрать базу клиентов для email-рассылок   \n",
      "2  Добавить блоки рекомендаций товаров на сайт интернет магазина, чтобы повысить конверсию и средний чек заказа   \n",
      "0            Добавить два новых канала привлечения трафика, что позволит привлекать на 30% больше пользователей   \n",
      "6          Показать на главной странице баннеры с актуальными акциями и распродажами, чтобы увеличить конверсию   \n",
      "8                                                       Запустить акцию, дающую скидку на товар в день рождения   \n",
      "3           Изменить структура категорий, что увеличит конверсию, т.к. пользователи быстрее найдут нужный товар   \n",
      "1                                     Запустить собственную службу доставки, что сократит срок доставки заказов   \n",
      "5                      Добавить страницу отзывов клиентов о магазине, что позволит увеличить количество заказов   \n",
      "4                              Изменить цвет фона главной страницы, чтобы увеличить вовлеченность пользователей   \n",
      "\n",
      "    RICE  \n",
      "7  112.0  \n",
      "2   56.0  \n",
      "0   40.0  \n",
      "6   40.0  \n",
      "8   16.2  \n",
      "3    9.0  \n",
      "1    4.0  \n",
      "5    4.0  \n",
      "4    3.0  \n"
     ]
    }
   ],
   "source": [
    "data['RICE'] = (data['reach']*data['impact'] * data['confidence'])/data['efforts']\n",
    "print(data[['hypothesis','RICE']].sort_values(by='RICE', ascending=False))"
   ]
  },
  {
   "cell_type": "markdown",
   "metadata": {},
   "source": [
    "Приоритизация изменилась, из-за того, что мы добавили в формулу RICE критерий \"охват пользователей\". Я считаю, так как мы крупный интернет-магазин, то нам стоит больше ориентироваться на такой способ приоритизации задач, как RICE, поэтому первым делом следует добавить форму подписки на все основные страницы, и далее по списку."
   ]
  },
  {
   "cell_type": "markdown",
   "metadata": {},
   "source": [
    "## Анализ A/B-теста\n",
    "Мы провели A/B-тест и получили результаты.\n"
   ]
  },
  {
   "cell_type": "code",
   "execution_count": 7,
   "metadata": {
    "scrolled": false
   },
   "outputs": [
    {
     "data": {
      "text/html": [
       "<div>\n",
       "<style scoped>\n",
       "    .dataframe tbody tr th:only-of-type {\n",
       "        vertical-align: middle;\n",
       "    }\n",
       "\n",
       "    .dataframe tbody tr th {\n",
       "        vertical-align: top;\n",
       "    }\n",
       "\n",
       "    .dataframe thead th {\n",
       "        text-align: right;\n",
       "    }\n",
       "</style>\n",
       "<table border=\"1\" class=\"dataframe\">\n",
       "  <thead>\n",
       "    <tr style=\"text-align: right;\">\n",
       "      <th></th>\n",
       "      <th>transactionid</th>\n",
       "      <th>visitorid</th>\n",
       "      <th>date</th>\n",
       "      <th>revenue</th>\n",
       "      <th>group</th>\n",
       "    </tr>\n",
       "  </thead>\n",
       "  <tbody>\n",
       "    <tr>\n",
       "      <th>0</th>\n",
       "      <td>3667963787</td>\n",
       "      <td>3312258926</td>\n",
       "      <td>2019-08-15</td>\n",
       "      <td>1650</td>\n",
       "      <td>B</td>\n",
       "    </tr>\n",
       "    <tr>\n",
       "      <th>1</th>\n",
       "      <td>2804400009</td>\n",
       "      <td>3642806036</td>\n",
       "      <td>2019-08-15</td>\n",
       "      <td>730</td>\n",
       "      <td>B</td>\n",
       "    </tr>\n",
       "    <tr>\n",
       "      <th>2</th>\n",
       "      <td>2961555356</td>\n",
       "      <td>4069496402</td>\n",
       "      <td>2019-08-15</td>\n",
       "      <td>400</td>\n",
       "      <td>A</td>\n",
       "    </tr>\n",
       "    <tr>\n",
       "      <th>3</th>\n",
       "      <td>3797467345</td>\n",
       "      <td>1196621759</td>\n",
       "      <td>2019-08-15</td>\n",
       "      <td>9759</td>\n",
       "      <td>B</td>\n",
       "    </tr>\n",
       "    <tr>\n",
       "      <th>4</th>\n",
       "      <td>2282983706</td>\n",
       "      <td>2322279887</td>\n",
       "      <td>2019-08-15</td>\n",
       "      <td>2308</td>\n",
       "      <td>B</td>\n",
       "    </tr>\n",
       "    <tr>\n",
       "      <th>...</th>\n",
       "      <td>...</td>\n",
       "      <td>...</td>\n",
       "      <td>...</td>\n",
       "      <td>...</td>\n",
       "      <td>...</td>\n",
       "    </tr>\n",
       "    <tr>\n",
       "      <th>1192</th>\n",
       "      <td>2662137336</td>\n",
       "      <td>3733762160</td>\n",
       "      <td>2019-08-14</td>\n",
       "      <td>6490</td>\n",
       "      <td>B</td>\n",
       "    </tr>\n",
       "    <tr>\n",
       "      <th>1193</th>\n",
       "      <td>2203539145</td>\n",
       "      <td>370388673</td>\n",
       "      <td>2019-08-14</td>\n",
       "      <td>3190</td>\n",
       "      <td>A</td>\n",
       "    </tr>\n",
       "    <tr>\n",
       "      <th>1194</th>\n",
       "      <td>1807773912</td>\n",
       "      <td>573423106</td>\n",
       "      <td>2019-08-14</td>\n",
       "      <td>10550</td>\n",
       "      <td>A</td>\n",
       "    </tr>\n",
       "    <tr>\n",
       "      <th>1195</th>\n",
       "      <td>1947021204</td>\n",
       "      <td>1614305549</td>\n",
       "      <td>2019-08-14</td>\n",
       "      <td>100</td>\n",
       "      <td>A</td>\n",
       "    </tr>\n",
       "    <tr>\n",
       "      <th>1196</th>\n",
       "      <td>3936777065</td>\n",
       "      <td>2108080724</td>\n",
       "      <td>2019-08-15</td>\n",
       "      <td>202740</td>\n",
       "      <td>B</td>\n",
       "    </tr>\n",
       "  </tbody>\n",
       "</table>\n",
       "<p>1197 rows × 5 columns</p>\n",
       "</div>"
      ],
      "text/plain": [
       "      transactionid   visitorid        date  revenue group\n",
       "0        3667963787  3312258926  2019-08-15     1650     B\n",
       "1        2804400009  3642806036  2019-08-15      730     B\n",
       "2        2961555356  4069496402  2019-08-15      400     A\n",
       "3        3797467345  1196621759  2019-08-15     9759     B\n",
       "4        2282983706  2322279887  2019-08-15     2308     B\n",
       "...             ...         ...         ...      ...   ...\n",
       "1192     2662137336  3733762160  2019-08-14     6490     B\n",
       "1193     2203539145   370388673  2019-08-14     3190     A\n",
       "1194     1807773912   573423106  2019-08-14    10550     A\n",
       "1195     1947021204  1614305549  2019-08-14      100     A\n",
       "1196     3936777065  2108080724  2019-08-15   202740     B\n",
       "\n",
       "[1197 rows x 5 columns]"
      ]
     },
     "execution_count": 7,
     "metadata": {},
     "output_type": "execute_result"
    }
   ],
   "source": [
    "orders"
   ]
  },
  {
   "cell_type": "markdown",
   "metadata": {},
   "source": [
    "**Рассмотрим, как распределены участники по группам**."
   ]
  },
  {
   "cell_type": "markdown",
   "metadata": {},
   "source": [
    "Найдем, сколько участников в группе А"
   ]
  },
  {
   "cell_type": "code",
   "execution_count": 8,
   "metadata": {},
   "outputs": [],
   "source": [
    "groupA=orders.query('group==\"A\"')"
   ]
  },
  {
   "cell_type": "code",
   "execution_count": 9,
   "metadata": {},
   "outputs": [
    {
     "data": {
      "text/plain": [
       "557"
      ]
     },
     "execution_count": 9,
     "metadata": {},
     "output_type": "execute_result"
    }
   ],
   "source": [
    "len(groupA)"
   ]
  },
  {
   "cell_type": "markdown",
   "metadata": {},
   "source": [
    "Найдем, сколько участников в группе В"
   ]
  },
  {
   "cell_type": "code",
   "execution_count": 10,
   "metadata": {},
   "outputs": [],
   "source": [
    "groupB=orders.query('group==\"B\"')"
   ]
  },
  {
   "cell_type": "code",
   "execution_count": 11,
   "metadata": {
    "scrolled": true
   },
   "outputs": [
    {
     "data": {
      "text/plain": [
       "640"
      ]
     },
     "execution_count": 11,
     "metadata": {},
     "output_type": "execute_result"
    }
   ],
   "source": [
    "len(groupB)"
   ]
  },
  {
   "cell_type": "markdown",
   "metadata": {},
   "source": [
    "**В группе А 557 участников, в группе B чуть больше(640). Но в целом, группы примерно поровну наполнены**."
   ]
  },
  {
   "cell_type": "code",
   "execution_count": 12,
   "metadata": {},
   "outputs": [
    {
     "name": "stdout",
     "output_type": "stream",
     "text": [
      "<class 'pandas.core.frame.DataFrame'>\n",
      "RangeIndex: 1197 entries, 0 to 1196\n",
      "Data columns (total 5 columns):\n",
      " #   Column         Non-Null Count  Dtype \n",
      "---  ------         --------------  ----- \n",
      " 0   transactionid  1197 non-null   int64 \n",
      " 1   visitorid      1197 non-null   int64 \n",
      " 2   date           1197 non-null   object\n",
      " 3   revenue        1197 non-null   int64 \n",
      " 4   group          1197 non-null   object\n",
      "dtypes: int64(3), object(2)\n",
      "memory usage: 46.9+ KB\n"
     ]
    }
   ],
   "source": [
    "orders.info()"
   ]
  },
  {
   "cell_type": "code",
   "execution_count": 13,
   "metadata": {},
   "outputs": [],
   "source": [
    "orders['date'] = pd.to_datetime(orders['date'])\n"
   ]
  },
  {
   "cell_type": "code",
   "execution_count": 14,
   "metadata": {
    "scrolled": true
   },
   "outputs": [
    {
     "data": {
      "text/html": [
       "<div>\n",
       "<style scoped>\n",
       "    .dataframe tbody tr th:only-of-type {\n",
       "        vertical-align: middle;\n",
       "    }\n",
       "\n",
       "    .dataframe tbody tr th {\n",
       "        vertical-align: top;\n",
       "    }\n",
       "\n",
       "    .dataframe thead th {\n",
       "        text-align: right;\n",
       "    }\n",
       "</style>\n",
       "<table border=\"1\" class=\"dataframe\">\n",
       "  <thead>\n",
       "    <tr style=\"text-align: right;\">\n",
       "      <th></th>\n",
       "      <th>transactionid</th>\n",
       "      <th>visitorid</th>\n",
       "      <th>date</th>\n",
       "      <th>revenue</th>\n",
       "      <th>group</th>\n",
       "    </tr>\n",
       "  </thead>\n",
       "  <tbody>\n",
       "    <tr>\n",
       "      <th>0</th>\n",
       "      <td>3667963787</td>\n",
       "      <td>3312258926</td>\n",
       "      <td>2019-08-15</td>\n",
       "      <td>1650</td>\n",
       "      <td>B</td>\n",
       "    </tr>\n",
       "    <tr>\n",
       "      <th>1</th>\n",
       "      <td>2804400009</td>\n",
       "      <td>3642806036</td>\n",
       "      <td>2019-08-15</td>\n",
       "      <td>730</td>\n",
       "      <td>B</td>\n",
       "    </tr>\n",
       "    <tr>\n",
       "      <th>2</th>\n",
       "      <td>2961555356</td>\n",
       "      <td>4069496402</td>\n",
       "      <td>2019-08-15</td>\n",
       "      <td>400</td>\n",
       "      <td>A</td>\n",
       "    </tr>\n",
       "    <tr>\n",
       "      <th>3</th>\n",
       "      <td>3797467345</td>\n",
       "      <td>1196621759</td>\n",
       "      <td>2019-08-15</td>\n",
       "      <td>9759</td>\n",
       "      <td>B</td>\n",
       "    </tr>\n",
       "    <tr>\n",
       "      <th>4</th>\n",
       "      <td>2282983706</td>\n",
       "      <td>2322279887</td>\n",
       "      <td>2019-08-15</td>\n",
       "      <td>2308</td>\n",
       "      <td>B</td>\n",
       "    </tr>\n",
       "  </tbody>\n",
       "</table>\n",
       "</div>"
      ],
      "text/plain": [
       "   transactionid   visitorid       date  revenue group\n",
       "0     3667963787  3312258926 2019-08-15     1650     B\n",
       "1     2804400009  3642806036 2019-08-15      730     B\n",
       "2     2961555356  4069496402 2019-08-15      400     A\n",
       "3     3797467345  1196621759 2019-08-15     9759     B\n",
       "4     2282983706  2322279887 2019-08-15     2308     B"
      ]
     },
     "execution_count": 14,
     "metadata": {},
     "output_type": "execute_result"
    }
   ],
   "source": [
    "orders.head()"
   ]
  },
  {
   "cell_type": "code",
   "execution_count": 15,
   "metadata": {},
   "outputs": [],
   "source": [
    "visitors['date'] = pd.to_datetime(visitors['date'])"
   ]
  },
  {
   "cell_type": "code",
   "execution_count": 16,
   "metadata": {},
   "outputs": [
    {
     "data": {
      "text/html": [
       "<div>\n",
       "<style scoped>\n",
       "    .dataframe tbody tr th:only-of-type {\n",
       "        vertical-align: middle;\n",
       "    }\n",
       "\n",
       "    .dataframe tbody tr th {\n",
       "        vertical-align: top;\n",
       "    }\n",
       "\n",
       "    .dataframe thead th {\n",
       "        text-align: right;\n",
       "    }\n",
       "</style>\n",
       "<table border=\"1\" class=\"dataframe\">\n",
       "  <thead>\n",
       "    <tr style=\"text-align: right;\">\n",
       "      <th></th>\n",
       "      <th>date</th>\n",
       "      <th>group</th>\n",
       "      <th>visitors</th>\n",
       "    </tr>\n",
       "  </thead>\n",
       "  <tbody>\n",
       "    <tr>\n",
       "      <th>0</th>\n",
       "      <td>2019-08-01</td>\n",
       "      <td>A</td>\n",
       "      <td>719</td>\n",
       "    </tr>\n",
       "    <tr>\n",
       "      <th>1</th>\n",
       "      <td>2019-08-02</td>\n",
       "      <td>A</td>\n",
       "      <td>619</td>\n",
       "    </tr>\n",
       "    <tr>\n",
       "      <th>2</th>\n",
       "      <td>2019-08-03</td>\n",
       "      <td>A</td>\n",
       "      <td>507</td>\n",
       "    </tr>\n",
       "    <tr>\n",
       "      <th>3</th>\n",
       "      <td>2019-08-04</td>\n",
       "      <td>A</td>\n",
       "      <td>717</td>\n",
       "    </tr>\n",
       "    <tr>\n",
       "      <th>4</th>\n",
       "      <td>2019-08-05</td>\n",
       "      <td>A</td>\n",
       "      <td>756</td>\n",
       "    </tr>\n",
       "  </tbody>\n",
       "</table>\n",
       "</div>"
      ],
      "text/plain": [
       "        date group  visitors\n",
       "0 2019-08-01     A       719\n",
       "1 2019-08-02     A       619\n",
       "2 2019-08-03     A       507\n",
       "3 2019-08-04     A       717\n",
       "4 2019-08-05     A       756"
      ]
     },
     "execution_count": 16,
     "metadata": {},
     "output_type": "execute_result"
    }
   ],
   "source": [
    "visitors.head()"
   ]
  },
  {
   "cell_type": "code",
   "execution_count": 17,
   "metadata": {},
   "outputs": [
    {
     "name": "stdout",
     "output_type": "stream",
     "text": [
      "<class 'pandas.core.frame.DataFrame'>\n",
      "RangeIndex: 62 entries, 0 to 61\n",
      "Data columns (total 3 columns):\n",
      " #   Column    Non-Null Count  Dtype         \n",
      "---  ------    --------------  -----         \n",
      " 0   date      62 non-null     datetime64[ns]\n",
      " 1   group     62 non-null     object        \n",
      " 2   visitors  62 non-null     int64         \n",
      "dtypes: datetime64[ns](1), int64(1), object(1)\n",
      "memory usage: 1.6+ KB\n"
     ]
    }
   ],
   "source": [
    "visitors.info()"
   ]
  },
  {
   "cell_type": "code",
   "execution_count": 18,
   "metadata": {
    "scrolled": true
   },
   "outputs": [
    {
     "data": {
      "text/html": [
       "<div>\n",
       "<style scoped>\n",
       "    .dataframe tbody tr th:only-of-type {\n",
       "        vertical-align: middle;\n",
       "    }\n",
       "\n",
       "    .dataframe tbody tr th {\n",
       "        vertical-align: top;\n",
       "    }\n",
       "\n",
       "    .dataframe thead th {\n",
       "        text-align: right;\n",
       "    }\n",
       "</style>\n",
       "<table border=\"1\" class=\"dataframe\">\n",
       "  <thead>\n",
       "    <tr style=\"text-align: right;\">\n",
       "      <th></th>\n",
       "      <th>transactionid</th>\n",
       "      <th>visitorid</th>\n",
       "      <th>date</th>\n",
       "      <th>revenue</th>\n",
       "      <th>group</th>\n",
       "    </tr>\n",
       "  </thead>\n",
       "  <tbody>\n",
       "    <tr>\n",
       "      <th>0</th>\n",
       "      <td>3667963787</td>\n",
       "      <td>3312258926</td>\n",
       "      <td>2019-08-15</td>\n",
       "      <td>1650</td>\n",
       "      <td>B</td>\n",
       "    </tr>\n",
       "    <tr>\n",
       "      <th>1</th>\n",
       "      <td>2804400009</td>\n",
       "      <td>3642806036</td>\n",
       "      <td>2019-08-15</td>\n",
       "      <td>730</td>\n",
       "      <td>B</td>\n",
       "    </tr>\n",
       "    <tr>\n",
       "      <th>2</th>\n",
       "      <td>2961555356</td>\n",
       "      <td>4069496402</td>\n",
       "      <td>2019-08-15</td>\n",
       "      <td>400</td>\n",
       "      <td>A</td>\n",
       "    </tr>\n",
       "    <tr>\n",
       "      <th>3</th>\n",
       "      <td>3797467345</td>\n",
       "      <td>1196621759</td>\n",
       "      <td>2019-08-15</td>\n",
       "      <td>9759</td>\n",
       "      <td>B</td>\n",
       "    </tr>\n",
       "    <tr>\n",
       "      <th>4</th>\n",
       "      <td>2282983706</td>\n",
       "      <td>2322279887</td>\n",
       "      <td>2019-08-15</td>\n",
       "      <td>2308</td>\n",
       "      <td>B</td>\n",
       "    </tr>\n",
       "  </tbody>\n",
       "</table>\n",
       "</div>"
      ],
      "text/plain": [
       "   transactionid   visitorid       date  revenue group\n",
       "0     3667963787  3312258926 2019-08-15     1650     B\n",
       "1     2804400009  3642806036 2019-08-15      730     B\n",
       "2     2961555356  4069496402 2019-08-15      400     A\n",
       "3     3797467345  1196621759 2019-08-15     9759     B\n",
       "4     2282983706  2322279887 2019-08-15     2308     B"
      ]
     },
     "execution_count": 18,
     "metadata": {},
     "output_type": "execute_result"
    }
   ],
   "source": [
    "orders.head()"
   ]
  },
  {
   "cell_type": "markdown",
   "metadata": {},
   "source": [
    "Проверим данные на наличие пропусков и дубликатов:"
   ]
  },
  {
   "cell_type": "code",
   "execution_count": 19,
   "metadata": {
    "scrolled": true
   },
   "outputs": [
    {
     "data": {
      "text/plain": [
       "transactionid    0\n",
       "visitorid        0\n",
       "date             0\n",
       "revenue          0\n",
       "group            0\n",
       "dtype: int64"
      ]
     },
     "execution_count": 19,
     "metadata": {},
     "output_type": "execute_result"
    }
   ],
   "source": [
    "orders.isna().sum()"
   ]
  },
  {
   "cell_type": "code",
   "execution_count": 20,
   "metadata": {},
   "outputs": [
    {
     "data": {
      "text/plain": [
       "date        0\n",
       "group       0\n",
       "visitors    0\n",
       "dtype: int64"
      ]
     },
     "execution_count": 20,
     "metadata": {},
     "output_type": "execute_result"
    }
   ],
   "source": [
    "visitors.isna().sum()"
   ]
  },
  {
   "cell_type": "markdown",
   "metadata": {},
   "source": [
    "Пропусков в данных нет. Теперь проверим данные на дубликаты."
   ]
  },
  {
   "cell_type": "code",
   "execution_count": 21,
   "metadata": {},
   "outputs": [],
   "source": [
    "orders.rename(columns = {'transactionid':'orderId', 'visitorid':'userId'}, inplace = True )     "
   ]
  },
  {
   "cell_type": "code",
   "execution_count": 22,
   "metadata": {},
   "outputs": [
    {
     "data": {
      "text/plain": [
       "0"
      ]
     },
     "execution_count": 22,
     "metadata": {},
     "output_type": "execute_result"
    }
   ],
   "source": [
    "orders['orderId'].duplicated().sum()"
   ]
  },
  {
   "cell_type": "code",
   "execution_count": 23,
   "metadata": {},
   "outputs": [
    {
     "data": {
      "text/plain": [
       "0"
      ]
     },
     "execution_count": 23,
     "metadata": {},
     "output_type": "execute_result"
    }
   ],
   "source": [
    "visitors.duplicated().sum()"
   ]
  },
  {
   "cell_type": "markdown",
   "metadata": {},
   "source": [
    "**Дубликатов тоже не обнаружено. Наши данные готовы к работе.**"
   ]
  },
  {
   "cell_type": "code",
   "execution_count": 24,
   "metadata": {
    "scrolled": true
   },
   "outputs": [
    {
     "data": {
      "text/html": [
       "<div>\n",
       "<style scoped>\n",
       "    .dataframe tbody tr th:only-of-type {\n",
       "        vertical-align: middle;\n",
       "    }\n",
       "\n",
       "    .dataframe tbody tr th {\n",
       "        vertical-align: top;\n",
       "    }\n",
       "\n",
       "    .dataframe thead th {\n",
       "        text-align: right;\n",
       "    }\n",
       "</style>\n",
       "<table border=\"1\" class=\"dataframe\">\n",
       "  <thead>\n",
       "    <tr style=\"text-align: right;\">\n",
       "      <th></th>\n",
       "      <th>orderId</th>\n",
       "      <th>userId</th>\n",
       "      <th>date</th>\n",
       "      <th>revenue</th>\n",
       "      <th>group</th>\n",
       "    </tr>\n",
       "  </thead>\n",
       "  <tbody>\n",
       "    <tr>\n",
       "      <th>0</th>\n",
       "      <td>3667963787</td>\n",
       "      <td>3312258926</td>\n",
       "      <td>2019-08-15</td>\n",
       "      <td>1650</td>\n",
       "      <td>B</td>\n",
       "    </tr>\n",
       "    <tr>\n",
       "      <th>1</th>\n",
       "      <td>2804400009</td>\n",
       "      <td>3642806036</td>\n",
       "      <td>2019-08-15</td>\n",
       "      <td>730</td>\n",
       "      <td>B</td>\n",
       "    </tr>\n",
       "    <tr>\n",
       "      <th>2</th>\n",
       "      <td>2961555356</td>\n",
       "      <td>4069496402</td>\n",
       "      <td>2019-08-15</td>\n",
       "      <td>400</td>\n",
       "      <td>A</td>\n",
       "    </tr>\n",
       "    <tr>\n",
       "      <th>3</th>\n",
       "      <td>3797467345</td>\n",
       "      <td>1196621759</td>\n",
       "      <td>2019-08-15</td>\n",
       "      <td>9759</td>\n",
       "      <td>B</td>\n",
       "    </tr>\n",
       "    <tr>\n",
       "      <th>4</th>\n",
       "      <td>2282983706</td>\n",
       "      <td>2322279887</td>\n",
       "      <td>2019-08-15</td>\n",
       "      <td>2308</td>\n",
       "      <td>B</td>\n",
       "    </tr>\n",
       "    <tr>\n",
       "      <th>...</th>\n",
       "      <td>...</td>\n",
       "      <td>...</td>\n",
       "      <td>...</td>\n",
       "      <td>...</td>\n",
       "      <td>...</td>\n",
       "    </tr>\n",
       "    <tr>\n",
       "      <th>1192</th>\n",
       "      <td>2662137336</td>\n",
       "      <td>3733762160</td>\n",
       "      <td>2019-08-14</td>\n",
       "      <td>6490</td>\n",
       "      <td>B</td>\n",
       "    </tr>\n",
       "    <tr>\n",
       "      <th>1193</th>\n",
       "      <td>2203539145</td>\n",
       "      <td>370388673</td>\n",
       "      <td>2019-08-14</td>\n",
       "      <td>3190</td>\n",
       "      <td>A</td>\n",
       "    </tr>\n",
       "    <tr>\n",
       "      <th>1194</th>\n",
       "      <td>1807773912</td>\n",
       "      <td>573423106</td>\n",
       "      <td>2019-08-14</td>\n",
       "      <td>10550</td>\n",
       "      <td>A</td>\n",
       "    </tr>\n",
       "    <tr>\n",
       "      <th>1195</th>\n",
       "      <td>1947021204</td>\n",
       "      <td>1614305549</td>\n",
       "      <td>2019-08-14</td>\n",
       "      <td>100</td>\n",
       "      <td>A</td>\n",
       "    </tr>\n",
       "    <tr>\n",
       "      <th>1196</th>\n",
       "      <td>3936777065</td>\n",
       "      <td>2108080724</td>\n",
       "      <td>2019-08-15</td>\n",
       "      <td>202740</td>\n",
       "      <td>B</td>\n",
       "    </tr>\n",
       "  </tbody>\n",
       "</table>\n",
       "<p>1197 rows × 5 columns</p>\n",
       "</div>"
      ],
      "text/plain": [
       "         orderId      userId       date  revenue group\n",
       "0     3667963787  3312258926 2019-08-15     1650     B\n",
       "1     2804400009  3642806036 2019-08-15      730     B\n",
       "2     2961555356  4069496402 2019-08-15      400     A\n",
       "3     3797467345  1196621759 2019-08-15     9759     B\n",
       "4     2282983706  2322279887 2019-08-15     2308     B\n",
       "...          ...         ...        ...      ...   ...\n",
       "1192  2662137336  3733762160 2019-08-14     6490     B\n",
       "1193  2203539145   370388673 2019-08-14     3190     A\n",
       "1194  1807773912   573423106 2019-08-14    10550     A\n",
       "1195  1947021204  1614305549 2019-08-14      100     A\n",
       "1196  3936777065  2108080724 2019-08-15   202740     B\n",
       "\n",
       "[1197 rows x 5 columns]"
      ]
     },
     "execution_count": 24,
     "metadata": {},
     "output_type": "execute_result"
    }
   ],
   "source": [
    "orders"
   ]
  },
  {
   "cell_type": "code",
   "execution_count": 25,
   "metadata": {
    "scrolled": false
   },
   "outputs": [
    {
     "name": "stdout",
     "output_type": "stream",
     "text": [
      "         date group  orders  buyers  revenue  visitors\n",
      "0  2019-08-01     A      24      20   148579       719\n",
      "1  2019-08-01     B      21      20   101217       713\n",
      "2  2019-08-02     A      44      38   242401      1338\n",
      "3  2019-08-02     B      45      43   266748      1294\n",
      "4  2019-08-03     A      68      62   354874      1845\n",
      "..        ...   ...     ...     ...      ...       ...\n",
      "57 2019-08-29     B     596     544  5559398     17708\n",
      "58 2019-08-30     A     545     493  4022970     18037\n",
      "59 2019-08-30     B     620     567  5774631     18198\n",
      "60 2019-08-31     A     557     503  4084803     18736\n",
      "61 2019-08-31     B     640     586  5907760     18916\n",
      "\n",
      "[62 rows x 6 columns]\n"
     ]
    }
   ],
   "source": [
    "# создаем массив уникальных пар значений дат и групп теста\n",
    "datesGroups = orders[['date','group']].drop_duplicates()\n",
    "\n",
    "# получаем агрегированные кумулятивные по дням данные о заказах \n",
    "ordersAggregated = datesGroups.apply(lambda x: orders[np.logical_and(orders['date'] <= x['date'], orders['group'] == x['group'])].agg({'date' : 'max', 'group' : 'max', 'orderId' : 'nunique', 'userId' : 'nunique', 'revenue' : 'sum'}), axis=1).sort_values(by=['date','group'])\n",
    "\n",
    "# получаем агрегированные кумулятивные по дням данные о посетителях интернет-магазина \n",
    "visitorsAggregated = datesGroups.apply(lambda x: visitors[np.logical_and(visitors['date'] <= x['date'], visitors['group'] == x['group'])].agg({'date' : 'max', 'group' : 'max', 'visitors' : 'sum'}), axis=1).sort_values(by=['date','group'])\n",
    "\n",
    "# объединяем кумулятивные данные в одной таблице и присваиваем ее столбцам понятные названия\n",
    "cumulativeData = ordersAggregated.merge(visitorsAggregated, left_on=['date', 'group'], right_on=['date', 'group'])\n",
    "cumulativeData.columns = ['date', 'group', 'orders', 'buyers', 'revenue', 'visitors']\n",
    "\n",
    "print(cumulativeData) \n"
   ]
  },
  {
   "cell_type": "markdown",
   "metadata": {},
   "source": [
    "**Построим график кумулятивной выручки по группам.**"
   ]
  },
  {
   "cell_type": "code",
   "execution_count": 26,
   "metadata": {
    "scrolled": true
   },
   "outputs": [
    {
     "data": {
      "text/plain": [
       "<matplotlib.legend.Legend at 0x7f571bfaa370>"
      ]
     },
     "execution_count": 26,
     "metadata": {},
     "output_type": "execute_result"
    },
    {
     "data": {
      "image/png": "[encoded data removed]",
      "text/plain": [
       "<Figure size 432x288 with 1 Axes>"
      ]
     },
     "metadata": {
      "needs_background": "light"
     },
     "output_type": "display_data"
    }
   ],
   "source": [
    "# датафрейм с кумулятивным количеством заказов и кумулятивной выручкой по дням в группе А\n",
    "cumulativeRevenueA = cumulativeData[cumulativeData['group']=='A'][['date','revenue', 'orders']]\n",
    "\n",
    "# датафрейм с кумулятивным количеством заказов и кумулятивной выручкой по дням в группе B\n",
    "cumulativeRevenueB = cumulativeData[cumulativeData['group']=='B'][['date','revenue', 'orders']]\n",
    "\n",
    "# Строим график выручки группы А\n",
    "plt.plot(cumulativeRevenueA['date'], cumulativeRevenueA['revenue'], label='A')\n",
    "\n",
    "# Строим график выручки группы B\n",
    "plt.plot(cumulativeRevenueB['date'], cumulativeRevenueB['revenue'], label='B')\n",
    "\n",
    "plt.xticks(rotation=45)\n",
    "plt.title('Выручка по дням и группам A/B тестирования.')\n",
    "plt.xlabel('Дата')\n",
    "plt.ylabel('Выручка')\n",
    "plt.grid()\n",
    "plt.legend() \n"
   ]
  },
  {
   "cell_type": "markdown",
   "metadata": {},
   "source": [
    "Выручка почти равномерно увеличивается в течение всего теста. Хороший знак.\n",
    "Однако графики выручки обеих групп в нескольких точках резко растут. Это может сигнализировать о всплесках числа заказов, либо о появлении очень дорогих заказов в выборке. Такие выбросы проанализируем дальше."
   ]
  },
  {
   "cell_type": "markdown",
   "metadata": {},
   "source": [
    "**Построим графики среднего чека по группам — разделим кумулятивную выручку на кумулятивное число заказов.**"
   ]
  },
  {
   "cell_type": "code",
   "execution_count": 27,
   "metadata": {
    "scrolled": false
   },
   "outputs": [
    {
     "data": {
      "text/plain": [
       "<matplotlib.legend.Legend at 0x7f571bb99a00>"
      ]
     },
     "execution_count": 27,
     "metadata": {},
     "output_type": "execute_result"
    },
    {
     "data": {
      "image/png": "[encoded data removed]",
      "text/plain": [
       "<Figure size 432x288 with 1 Axes>"
      ]
     },
     "metadata": {
      "needs_background": "light"
     },
     "output_type": "display_data"
    }
   ],
   "source": [
    "plt.plot(cumulativeRevenueA['date'], cumulativeRevenueA['revenue']/cumulativeRevenueA['orders'], label='A')\n",
    "plt.plot(cumulativeRevenueB['date'], cumulativeRevenueB['revenue']/cumulativeRevenueB['orders'], label='B')\n",
    "plt.xticks(rotation=45)\n",
    "plt.title('Средний чек по дням и группам A/B тестирования.')\n",
    "plt.xlabel('Дата')\n",
    "plt.ylabel('Средний чек')\n",
    "plt.grid()\n",
    "plt.legend() "
   ]
  },
  {
   "cell_type": "markdown",
   "metadata": {},
   "source": [
    "Средний чек тоже становится равномерным ближе к концу теста: установился для группы A и резко возрос для группы B. Возможно, в группу B во второй половине теста попали крупные заказы (резкий всплеск на графике). Тогда ей нужно больше данных, чтобы прийти к реальному среднему чеку и установиться на его уровне."
   ]
  },
  {
   "cell_type": "markdown",
   "metadata": {},
   "source": [
    "**Построим график относительного различия для среднего чека. Добавим горизонтальную ось методом axhline()**."
   ]
  },
  {
   "cell_type": "code",
   "execution_count": 28,
   "metadata": {},
   "outputs": [
    {
     "data": {
      "image/png": "[encoded data removed]",
      "text/plain": [
       "<Figure size 432x288 with 1 Axes>"
      ]
     },
     "metadata": {
      "needs_background": "light"
     },
     "output_type": "display_data"
    }
   ],
   "source": [
    "# собираем данные в одном датафрейме\n",
    "mergedCumulativeRevenue = cumulativeRevenueA.merge(cumulativeRevenueB, left_on='date', right_on='date', how='left', suffixes=['A', 'B'])\n",
    "\n",
    "# cтроим отношение средних чеков\n",
    "plt.plot(mergedCumulativeRevenue['date'], (mergedCumulativeRevenue['revenueB']/mergedCumulativeRevenue['ordersB'])/(mergedCumulativeRevenue['revenueA']/mergedCumulativeRevenue['ordersA'])-1)\n",
    "\n",
    "# добавляем ось X\n",
    "plt.axhline(y=0, color='black', linestyle='--') \n",
    "plt.title('Относительное различие среднего чека группы B к группе A')\n",
    "plt.xlabel('Дата')\n",
    "plt.ylabel('Относительное различие')\n",
    "plt.grid()\n"
   ]
  },
  {
   "cell_type": "markdown",
   "metadata": {},
   "source": [
    "Почти на всем графике выборка B доминирует по среднему чеку."
   ]
  },
  {
   "cell_type": "markdown",
   "metadata": {},
   "source": [
    "**Аналогично проанализируем график кумулятивной конверсии.**."
   ]
  },
  {
   "cell_type": "code",
   "execution_count": 29,
   "metadata": {
    "scrolled": true
   },
   "outputs": [
    {
     "data": {
      "text/plain": [
       "<matplotlib.legend.Legend at 0x7f571bab2f70>"
      ]
     },
     "execution_count": 29,
     "metadata": {},
     "output_type": "execute_result"
    },
    {
     "data": {
      "image/png": "[encoded data removed]",
      "text/plain": [
       "<Figure size 432x288 with 1 Axes>"
      ]
     },
     "metadata": {
      "needs_background": "light"
     },
     "output_type": "display_data"
    }
   ],
   "source": [
    "# считаем кумулятивную конверсию\n",
    "cumulativeData['conversion'] = cumulativeData['orders']/cumulativeData['visitors']\n",
    "\n",
    "# отделяем данные по группе A\n",
    "cumulativeDataA = cumulativeData[cumulativeData['group']=='A']\n",
    "\n",
    "# отделяем данные по группе B\n",
    "cumulativeDataB = cumulativeData[cumulativeData['group']=='B']\n",
    "\n",
    "# строим графики\n",
    "plt.plot(cumulativeDataA['date'], cumulativeDataA['conversion'], label='A')\n",
    "plt.plot(cumulativeDataB['date'], cumulativeDataB['conversion'], label='B')\n",
    "plt.title('Конверсия по дням и группам A/B тестирования.')\n",
    "plt.xlabel('Дата')\n",
    "plt.ylabel('Конверсия')\n",
    "plt.grid()\n",
    "plt.legend() \n",
    "\n",
    "# задаем масштаб осей\n",
    "\n"
   ]
  },
  {
   "cell_type": "markdown",
   "metadata": {},
   "source": [
    "Конверсия группы B также заметно опережает конверсию группы A начиная со второй недели в среднем на 0.05."
   ]
  },
  {
   "cell_type": "markdown",
   "metadata": {},
   "source": [
    "**Построим график относительного различия кумулятивных конверсий**."
   ]
  },
  {
   "cell_type": "code",
   "execution_count": 30,
   "metadata": {
    "scrolled": true
   },
   "outputs": [
    {
     "data": {
      "text/plain": [
       "<matplotlib.lines.Line2D at 0x7f571ba36e20>"
      ]
     },
     "execution_count": 30,
     "metadata": {},
     "output_type": "execute_result"
    },
    {
     "data": {
      "image/png": "[encoded data removed]",
      "text/plain": [
       "<Figure size 432x288 with 1 Axes>"
      ]
     },
     "metadata": {
      "needs_background": "light"
     },
     "output_type": "display_data"
    }
   ],
   "source": [
    "mergedCumulativeConversions = cumulativeDataA[['date','conversion']].merge(cumulativeDataB[['date','conversion']], left_on='date', right_on='date', how='left', suffixes=['A', 'B'])\n",
    "\n",
    "plt.plot(mergedCumulativeConversions['date'], mergedCumulativeConversions['conversionB']/mergedCumulativeConversions['conversionA']-1, label=\"Относительный прирост конверсии группы B относительно группы A\")\n",
    "plt.legend()\n",
    "\n",
    "plt.axhline(y=0, color='black', linestyle='--')\n",
    "plt.axhline(y=-0.1, color='grey', linestyle='--')\n"
   ]
  },
  {
   "cell_type": "markdown",
   "metadata": {},
   "source": [
    "Да, это подтвердилось в относительном различии. Конверсия группы B относительно больше на 15-20%."
   ]
  },
  {
   "cell_type": "markdown",
   "metadata": {},
   "source": [
    "**В целом ситуация группы B значительно превосходит группу A, однако, стоит проанализировать аномалии, возможно, они изменят картину.**"
   ]
  },
  {
   "cell_type": "markdown",
   "metadata": {},
   "source": [
    "**Для этого построим точечный график стоимостей заказов.**\n"
   ]
  },
  {
   "cell_type": "code",
   "execution_count": 31,
   "metadata": {},
   "outputs": [
    {
     "data": {
      "text/html": [
       "<div>\n",
       "<style scoped>\n",
       "    .dataframe tbody tr th:only-of-type {\n",
       "        vertical-align: middle;\n",
       "    }\n",
       "\n",
       "    .dataframe tbody tr th {\n",
       "        vertical-align: top;\n",
       "    }\n",
       "\n",
       "    .dataframe thead th {\n",
       "        text-align: right;\n",
       "    }\n",
       "</style>\n",
       "<table border=\"1\" class=\"dataframe\">\n",
       "  <thead>\n",
       "    <tr style=\"text-align: right;\">\n",
       "      <th></th>\n",
       "      <th>orderId</th>\n",
       "      <th>userId</th>\n",
       "      <th>date</th>\n",
       "      <th>revenue</th>\n",
       "      <th>group</th>\n",
       "    </tr>\n",
       "  </thead>\n",
       "  <tbody>\n",
       "    <tr>\n",
       "      <th>0</th>\n",
       "      <td>3667963787</td>\n",
       "      <td>3312258926</td>\n",
       "      <td>2019-08-15</td>\n",
       "      <td>1650</td>\n",
       "      <td>B</td>\n",
       "    </tr>\n",
       "    <tr>\n",
       "      <th>1</th>\n",
       "      <td>2804400009</td>\n",
       "      <td>3642806036</td>\n",
       "      <td>2019-08-15</td>\n",
       "      <td>730</td>\n",
       "      <td>B</td>\n",
       "    </tr>\n",
       "    <tr>\n",
       "      <th>2</th>\n",
       "      <td>2961555356</td>\n",
       "      <td>4069496402</td>\n",
       "      <td>2019-08-15</td>\n",
       "      <td>400</td>\n",
       "      <td>A</td>\n",
       "    </tr>\n",
       "    <tr>\n",
       "      <th>3</th>\n",
       "      <td>3797467345</td>\n",
       "      <td>1196621759</td>\n",
       "      <td>2019-08-15</td>\n",
       "      <td>9759</td>\n",
       "      <td>B</td>\n",
       "    </tr>\n",
       "    <tr>\n",
       "      <th>4</th>\n",
       "      <td>2282983706</td>\n",
       "      <td>2322279887</td>\n",
       "      <td>2019-08-15</td>\n",
       "      <td>2308</td>\n",
       "      <td>B</td>\n",
       "    </tr>\n",
       "    <tr>\n",
       "      <th>...</th>\n",
       "      <td>...</td>\n",
       "      <td>...</td>\n",
       "      <td>...</td>\n",
       "      <td>...</td>\n",
       "      <td>...</td>\n",
       "    </tr>\n",
       "    <tr>\n",
       "      <th>1192</th>\n",
       "      <td>2662137336</td>\n",
       "      <td>3733762160</td>\n",
       "      <td>2019-08-14</td>\n",
       "      <td>6490</td>\n",
       "      <td>B</td>\n",
       "    </tr>\n",
       "    <tr>\n",
       "      <th>1193</th>\n",
       "      <td>2203539145</td>\n",
       "      <td>370388673</td>\n",
       "      <td>2019-08-14</td>\n",
       "      <td>3190</td>\n",
       "      <td>A</td>\n",
       "    </tr>\n",
       "    <tr>\n",
       "      <th>1194</th>\n",
       "      <td>1807773912</td>\n",
       "      <td>573423106</td>\n",
       "      <td>2019-08-14</td>\n",
       "      <td>10550</td>\n",
       "      <td>A</td>\n",
       "    </tr>\n",
       "    <tr>\n",
       "      <th>1195</th>\n",
       "      <td>1947021204</td>\n",
       "      <td>1614305549</td>\n",
       "      <td>2019-08-14</td>\n",
       "      <td>100</td>\n",
       "      <td>A</td>\n",
       "    </tr>\n",
       "    <tr>\n",
       "      <th>1196</th>\n",
       "      <td>3936777065</td>\n",
       "      <td>2108080724</td>\n",
       "      <td>2019-08-15</td>\n",
       "      <td>202740</td>\n",
       "      <td>B</td>\n",
       "    </tr>\n",
       "  </tbody>\n",
       "</table>\n",
       "<p>1197 rows × 5 columns</p>\n",
       "</div>"
      ],
      "text/plain": [
       "         orderId      userId       date  revenue group\n",
       "0     3667963787  3312258926 2019-08-15     1650     B\n",
       "1     2804400009  3642806036 2019-08-15      730     B\n",
       "2     2961555356  4069496402 2019-08-15      400     A\n",
       "3     3797467345  1196621759 2019-08-15     9759     B\n",
       "4     2282983706  2322279887 2019-08-15     2308     B\n",
       "...          ...         ...        ...      ...   ...\n",
       "1192  2662137336  3733762160 2019-08-14     6490     B\n",
       "1193  2203539145   370388673 2019-08-14     3190     A\n",
       "1194  1807773912   573423106 2019-08-14    10550     A\n",
       "1195  1947021204  1614305549 2019-08-14      100     A\n",
       "1196  3936777065  2108080724 2019-08-15   202740     B\n",
       "\n",
       "[1197 rows x 5 columns]"
      ]
     },
     "execution_count": 31,
     "metadata": {},
     "output_type": "execute_result"
    }
   ],
   "source": [
    "orders"
   ]
  },
  {
   "cell_type": "code",
   "execution_count": 32,
   "metadata": {},
   "outputs": [
    {
     "data": {
      "text/plain": [
       "Text(0, 0.5, 'Стоимость')"
      ]
     },
     "execution_count": 32,
     "metadata": {},
     "output_type": "execute_result"
    },
    {
     "data": {
      "image/png": "[encoded data removed]",
      "text/plain": [
       "<Figure size 432x288 with 1 Axes>"
      ]
     },
     "metadata": {
      "needs_background": "light"
     },
     "output_type": "display_data"
    }
   ],
   "source": [
    "x_values = pd.Series(range(0,len(orders['revenue'])))\n",
    "plt.scatter(x_values, orders['revenue'])\n",
    "plt.title('Стоимости всех заказов.')\n",
    "plt.ylabel('Стоимость')"
   ]
  },
  {
   "cell_type": "markdown",
   "metadata": {},
   "source": [
    "Как мы видим, кроме двух заказов, стоимость их не превышает 150000 рублей."
   ]
  },
  {
   "cell_type": "markdown",
   "metadata": {},
   "source": [
    "Найдем 95-й и 99-й перцентили стоимости заказов."
   ]
  },
  {
   "cell_type": "code",
   "execution_count": 33,
   "metadata": {},
   "outputs": [
    {
     "name": "stdout",
     "output_type": "stream",
     "text": [
      "[28000.  58233.2]\n"
     ]
    }
   ],
   "source": [
    "print(np.percentile(orders['revenue'], [95, 99])) "
   ]
  },
  {
   "cell_type": "markdown",
   "metadata": {},
   "source": [
    "Лишь 5 процентов заказов стоили дороже 28000 рублей, и только один процент дороже 58233 рублей "
   ]
  },
  {
   "cell_type": "markdown",
   "metadata": {},
   "source": [
    "Подсчитаем количество заказов по пользователям и посмотрим на результат:"
   ]
  },
  {
   "cell_type": "code",
   "execution_count": 34,
   "metadata": {},
   "outputs": [
    {
     "name": "stdout",
     "output_type": "stream",
     "text": [
      "          userId  orders\n",
      "1023  4256040402      11\n",
      "591   2458001652      11\n",
      "569   2378935119       9\n",
      "487   2038680547       8\n",
      "44     199603092       5\n",
      "744   3062433592       5\n",
      "55     237748145       5\n",
      "917   3803269165       5\n",
      "299   1230306981       5\n",
      "897   3717692402       5\n"
     ]
    }
   ],
   "source": [
    "ordersByUsers = (\n",
    "    orders.groupby('userId', as_index=False)\n",
    "    .agg({'orderId': 'nunique'})\n",
    ")\n",
    "\n",
    "ordersByUsers.columns = ['userId', 'orders']\n",
    "\n",
    "print(ordersByUsers.sort_values(by='orders', ascending=False).head(10)) "
   ]
  },
  {
   "cell_type": "markdown",
   "metadata": {},
   "source": [
    "рекордом по количеству заказов является 11 заказов, которые сделали 2 пользователя, а больше 5 заказов было только у 4 пользователей."
   ]
  },
  {
   "cell_type": "markdown",
   "metadata": {},
   "source": [
    "Рассмотрим распределение количества заказов на гистограмме и точечном графике."
   ]
  },
  {
   "cell_type": "code",
   "execution_count": 35,
   "metadata": {},
   "outputs": [
    {
     "data": {
      "text/plain": [
       "Text(0, 0.5, 'Частота')"
      ]
     },
     "execution_count": 35,
     "metadata": {},
     "output_type": "execute_result"
    },
    {
     "data": {
      "image/png": "[encoded data removed]",
      "text/plain": [
       "<Figure size 432x288 with 1 Axes>"
      ]
     },
     "metadata": {
      "needs_background": "light"
     },
     "output_type": "display_data"
    }
   ],
   "source": [
    "plt.hist(ordersByUsers['orders'])\n",
    "plt.title('Количество заказов на каждого пользователя')\n",
    "plt.xlabel('Количество заказов')\n",
    "plt.ylabel('Частота')"
   ]
  },
  {
   "cell_type": "code",
   "execution_count": 36,
   "metadata": {
    "scrolled": true
   },
   "outputs": [
    {
     "data": {
      "text/plain": [
       "Text(0, 0.5, 'Количество заказов')"
      ]
     },
     "execution_count": 36,
     "metadata": {},
     "output_type": "execute_result"
    },
    {
     "data": {
      "image/png": "[encoded data removed]",
      "text/plain": [
       "<Figure size 432x288 with 1 Axes>"
      ]
     },
     "metadata": {
      "needs_background": "light"
     },
     "output_type": "display_data"
    }
   ],
   "source": [
    "x_values = pd.Series(range(0,len(ordersByUsers)))\n",
    "\n",
    "plt.scatter(x_values, ordersByUsers['orders'])\n",
    "plt.title('Количество заказов на каждого пользователя')\n",
    "plt.ylabel('Количество заказов')"
   ]
  },
  {
   "cell_type": "markdown",
   "metadata": {},
   "source": [
    "Можно видеть, что больше трех заказов сделали не так много людей, как 1 или 2 заказа."
   ]
  },
  {
   "cell_type": "markdown",
   "metadata": {},
   "source": [
    "Найдем 95-й и 99-й перцентили количества заказов на пользователя."
   ]
  },
  {
   "cell_type": "code",
   "execution_count": 37,
   "metadata": {},
   "outputs": [
    {
     "name": "stdout",
     "output_type": "stream",
     "text": [
      "[2. 4.]\n"
     ]
    }
   ],
   "source": [
    "print(np.percentile(ordersByUsers['orders'], [95, 99])) "
   ]
  },
  {
   "cell_type": "markdown",
   "metadata": {},
   "source": [
    "как мы и ожидали, больше 95% пользователей не сделали и трех заказов."
   ]
  },
  {
   "cell_type": "markdown",
   "metadata": {},
   "source": [
    "**В прошлых двух уроках мы:\n",
    "Оценили результаты A/B-теста визуально и выяснили, что в данных, скорее всего, есть выбросы;\n",
    "Увидели выбросы и нашли границу для их определения.\n",
    "Посчитаем статистическую значимость различий в среднем числе заказов на пользователя и среднем чеке между группами по «сырым» данным — без удаления аномальных пользователей.\n",
    "Сформулируем гипотезы. Нулевая: различий в среднем количестве заказов между группами нет. Альтернативная: различия в среднем между группами есть.**\n"
   ]
  },
  {
   "cell_type": "code",
   "execution_count": 38,
   "metadata": {},
   "outputs": [],
   "source": [
    "visitorsADaily = visitors[visitors['group'] == 'A'][['date', 'visitors']]\n",
    "visitorsADaily.columns = ['date', 'visitorsPerDateA']\n",
    "\n",
    "visitorsACummulative = visitorsADaily.apply(\n",
    "    lambda x: visitorsADaily[visitorsADaily['date'] <= x['date']].agg(\n",
    "        {'date': 'max', 'visitorsPerDateA': 'sum'}\n",
    "    ),\n",
    "    axis=1,\n",
    ")\n",
    "visitorsACummulative.columns = ['date', 'visitorsCummulativeA']\n",
    "\n",
    "visitorsBDaily = visitors[visitors['group'] == 'B'][['date', 'visitors']]\n",
    "visitorsBDaily.columns = ['date', 'visitorsPerDateB']\n",
    "\n",
    "visitorsBCummulative = visitorsBDaily.apply(\n",
    "    lambda x: visitorsBDaily[visitorsBDaily['date'] <= x['date']].agg(\n",
    "        {'date': 'max', 'visitorsPerDateB': 'sum'}\n",
    "    ),\n",
    "    axis=1,\n",
    ")\n",
    "visitorsBCummulative.columns = ['date', 'visitorsCummulativeB']\n",
    "\n",
    "ordersADaily = (\n",
    "    orders[orders['group'] == 'A'][['date', 'orderId', 'userId', 'revenue']]\n",
    "    .groupby('date', as_index=False)\n",
    "    .agg({'orderId': pd.Series.nunique, 'revenue': 'sum'})\n",
    ")\n",
    "ordersADaily.columns = ['date', 'ordersPerDateA', 'revenuePerDateA']\n",
    "\n",
    "ordersACummulative = ordersADaily.apply(\n",
    "    lambda x: ordersADaily[ordersADaily['date'] <= x['date']].agg(\n",
    "        {'date': 'max', 'ordersPerDateA': 'sum', 'revenuePerDateA': 'sum'}\n",
    "    ),\n",
    "    axis=1,\n",
    ").sort_values(by=['date'])\n",
    "ordersACummulative.columns = [\n",
    "    'date',\n",
    "    'ordersCummulativeA',\n",
    "    'revenueCummulativeA',\n",
    "]\n",
    "\n",
    "ordersBDaily = (\n",
    "    orders[orders['group'] == 'B'][['date', 'orderId', 'userId', 'revenue']]\n",
    "    .groupby('date', as_index=False)\n",
    "    .agg({'orderId': pd.Series.nunique, 'revenue': 'sum'})\n",
    ")\n",
    "ordersBDaily.columns = ['date', 'ordersPerDateB', 'revenuePerDateB']\n",
    "\n",
    "ordersBCummulative = ordersBDaily.apply(\n",
    "    lambda x: ordersBDaily[ordersBDaily['date'] <= x['date']].agg(\n",
    "        {'date': 'max', 'ordersPerDateB': 'sum', 'revenuePerDateB': 'sum'}\n",
    "    ),\n",
    "    axis=1,\n",
    ").sort_values(by=['date'])\n",
    "ordersBCummulative.columns = [\n",
    "    'date',\n",
    "    'ordersCummulativeB',\n",
    "    'revenueCummulativeB',\n",
    "]\n",
    "\n",
    "data = (\n",
    "    ordersADaily.merge(\n",
    "        ordersBDaily, left_on='date', right_on='date', how='left'\n",
    "    )\n",
    "    .merge(ordersACummulative, left_on='date', right_on='date', how='left')\n",
    "    .merge(ordersBCummulative, left_on='date', right_on='date', how='left')\n",
    "    .merge(visitorsADaily, left_on='date', right_on='date', how='left')\n",
    "    .merge(visitorsBDaily, left_on='date', right_on='date', how='left')\n",
    "    .merge(visitorsACummulative, left_on='date', right_on='date', how='left')\n",
    "    .merge(visitorsBCummulative, left_on='date', right_on='date', how='left')\n",
    ")\n"
   ]
  },
  {
   "cell_type": "code",
   "execution_count": 39,
   "metadata": {},
   "outputs": [
    {
     "name": "stdout",
     "output_type": "stream",
     "text": [
      "        date  ordersPerDateA  revenuePerDateA  ordersPerDateB  \\\n",
      "0 2019-08-01              24           148579              21   \n",
      "1 2019-08-02              20            93822              24   \n",
      "2 2019-08-03              24           112473              16   \n",
      "3 2019-08-04              16            70825              17   \n",
      "4 2019-08-05              25           124218              23   \n",
      "\n",
      "   revenuePerDateB  ordersCummulativeA  revenueCummulativeA  \\\n",
      "0           101217                  24               148579   \n",
      "1           165531                  44               242401   \n",
      "2           114248                  68               354874   \n",
      "3           108571                  84               425699   \n",
      "4            92428                 109               549917   \n",
      "\n",
      "   ordersCummulativeB  revenueCummulativeB  visitorsPerDateA  \\\n",
      "0                  21               101217               719   \n",
      "1                  45               266748               619   \n",
      "2                  61               380996               507   \n",
      "3                  78               489567               717   \n",
      "4                 101               581995               756   \n",
      "\n",
      "   visitorsPerDateB  visitorsCummulativeA  visitorsCummulativeB  \n",
      "0               713                   719                   713  \n",
      "1               581                  1338                  1294  \n",
      "2               509                  1845                  1803  \n",
      "3               770                  2562                  2573  \n",
      "4               707                  3318                  3280  \n"
     ]
    }
   ],
   "source": [
    "print(data.head(5)) "
   ]
  },
  {
   "cell_type": "markdown",
   "metadata": {},
   "source": [
    "что означает каждый столбец:\n",
    "- ordersPerDateA — количество заказов в выбранную дату в группе A;\n",
    "- revenuePerDateA — суммарная выручка в выбранную дату в группе A;\n",
    "- ordersPerDateB — количество заказов в выбранную дату в группе B;\n",
    "- revenuePerDateB — суммарная выручка в выбранную дату в группе B;\n",
    "- ordersCummulativeA — суммарное число заказов до выбранной даты включительно в группе A;\n",
    "- revenueCummulativeA — суммарная выручка до выбранной даты включительно в группе A;\n",
    "- ordersCummulativeB — суммарное количество заказов до выбранной даты включительно в группе B;\n",
    "- revenueCummulativeB — суммарная выручка до выбранной даты включительно в группе B;\n",
    "- visitorsPerDateA — количество пользователей в выбранную дату в группе A;\n",
    "- visitorsPerDateB — количество пользователей в выбранную дату в группе B;\n",
    "- visitorsCummulativeA — количество пользователей до выбранной даты включительно в группе A;\n",
    "- visitorsCummulativeB — количество пользователей до выбранной даты включительно в группе B."
   ]
  },
  {
   "cell_type": "code",
   "execution_count": 40,
   "metadata": {},
   "outputs": [
    {
     "name": "stdout",
     "output_type": "stream",
     "text": [
      "0.017\n",
      "0.138\n"
     ]
    }
   ],
   "source": [
    "ordersByUsersA = (\n",
    "    orders[orders['group'] == 'A']\n",
    "    .groupby('userId', as_index=False)\n",
    "    .agg({'orderId': pd.Series.nunique})\n",
    ")\n",
    "ordersByUsersA.columns = ['userId', 'orders']\n",
    "\n",
    "ordersByUsersB = (\n",
    "    orders[orders['group'] == 'B']\n",
    "    .groupby('userId', as_index=False)\n",
    "    .agg({'orderId': pd.Series.nunique})\n",
    ")\n",
    "ordersByUsersB.columns = ['userId', 'orders']\n",
    "\n",
    "sampleA = pd.concat(\n",
    "    [\n",
    "        ordersByUsersA['orders'],\n",
    "        pd.Series(\n",
    "            0,\n",
    "            index=np.arange(\n",
    "                data['visitorsPerDateA'].sum() - len(ordersByUsersA['orders'])\n",
    "            ),\n",
    "            name='orders',\n",
    "        ),\n",
    "    ],\n",
    "    axis=0,\n",
    ")\n",
    "\n",
    "sampleB = pd.concat(\n",
    "    [\n",
    "        ordersByUsersB['orders'],\n",
    "        pd.Series(\n",
    "            0,\n",
    "            index=np.arange(\n",
    "                data['visitorsPerDateB'].sum() - len(ordersByUsersB['orders'])\n",
    "            ),\n",
    "            name='orders',\n",
    "        ),\n",
    "    ],\n",
    "    axis=0,\n",
    ")\n",
    "\n",
    "print(\"{0:.3f}\".format(stats.mannwhitneyu(sampleA, sampleB)[1]))\n",
    "\n",
    "print(\"{0:.3f}\".format(sampleB.mean() / sampleA.mean() - 1))"
   ]
  },
  {
   "cell_type": "markdown",
   "metadata": {},
   "source": [
    "Вывод: По «сырым» данным различия в среднем числе заказов групп A и B есть.\n",
    "Первое число — p-value = 0.017 меньше 0.05. Значит, нулевую гипотезу о том, что статистически значимых различий в среднем числе заказов между группами нет, мы отвергаем. Однако относительный выигрыш группы B равен 13.8% — второе число в выводе.\n",
    "Теперь проверим статистическую значимость различий в среднем чеке между сегментами. Нулевая гипотеза: различий в среднем чеке между группами нет. Альтернативная гипотеза: различия в среднем чеке между группами есть.\n",
    "Чтобы рассчитать статистическую значимость различий в среднем чеке, передадим критерию mannwhitneyu() данные о выручке с заказов.\n",
    "А ещё найдём относительные различия в среднем чеке между группами:"
   ]
  },
  {
   "cell_type": "code",
   "execution_count": 41,
   "metadata": {
    "scrolled": true
   },
   "outputs": [
    {
     "name": "stdout",
     "output_type": "stream",
     "text": [
      "0.729\n",
      "0.259\n"
     ]
    }
   ],
   "source": [
    "print('{0:.3f}'.format(stats.mannwhitneyu(orders[orders['group']=='A']['revenue'], orders[orders['group']=='B']['revenue'])[1]))\n",
    "print('{0:.3f}'.format(orders[orders['group']=='B']['revenue'].mean()/orders[orders['group']=='A']['revenue'].mean()-1)) "
   ]
  },
  {
   "cell_type": "markdown",
   "metadata": {},
   "source": [
    "P-value значительно больше 0.05. Значит, причин отвергать нулевую гипотезу и считать, что в среднем чеке есть различия, нет. Впрочем, средний чек группы B значительно выше среднего чека группы A.\n",
    "Наблюдаемое различие не значимо, получено случайно из-за единичных выбросов.\n",
    "Напомним, что найденные в прошлых уроках 95-й и 99-й перцентили средних чеков равны 28000 и 58233.2 рублям. А 95-й и 99-й перцентили количества заказов на одного пользователя равны 2 и 4 заказа на пользователя.\n",
    "Примем за аномальных пользователей тех, кто совершил от 3 заказов или совершил заказ дороже 28000рублей. Так мы уберём 5% пользователей с наибольшим числом заказов и от 1% до 5% пользователей с дорогими заказами. Сделаем срезы пользователей с числом заказов больше 2 — usersWithManyOrders и пользователей, совершивших заказы дороже 28000— usersWithExpensiveOrders. Объединим их в таблице abnormalUsers.\n",
    "Узнаем, сколько всего аномальных пользователей атрибутом shape"
   ]
  },
  {
   "cell_type": "code",
   "execution_count": 42,
   "metadata": {},
   "outputs": [
    {
     "name": "stdout",
     "output_type": "stream",
     "text": [
      "1099    148427295\n",
      "18      199603092\n",
      "928     204675465\n",
      "23      237748145\n",
      "37      249864742\n",
      "Name: userId, dtype: int64\n",
      "74\n"
     ]
    }
   ],
   "source": [
    "usersWithManyOrders = pd.concat(\n",
    "    [\n",
    "        ordersByUsersA[ordersByUsersA['orders'] > 2]['userId'],\n",
    "        ordersByUsersB[ordersByUsersB['orders'] > 2]['userId'],\n",
    "    ],\n",
    "    axis=0,\n",
    ")\n",
    "usersWithExpensiveOrders = orders[orders['revenue'] > 28000]['userId']\n",
    "abnormalUsers = (\n",
    "    pd.concat([usersWithManyOrders, usersWithExpensiveOrders], axis=0)\n",
    "    .drop_duplicates()\n",
    "    .sort_values()\n",
    ")\n",
    "print(abnormalUsers.head(5))\n",
    "print(abnormalUsers.shape[0]) "
   ]
  },
  {
   "cell_type": "markdown",
   "metadata": {},
   "source": [
    "Всего 74 аномальных пользователей.\n",
    "Узнаем, как их действия повлияли на результаты теста. Посчитаем статистическую значимость различий в среднем количестве заказов между группами теста по очищенным данным. Сначала подготовим выборки количества заказов по пользователям по группам теста:"
   ]
  },
  {
   "cell_type": "code",
   "execution_count": 43,
   "metadata": {},
   "outputs": [],
   "source": [
    "sampleAFiltered = pd.concat(\n",
    "    [\n",
    "        ordersByUsersA[\n",
    "            np.logical_not(ordersByUsersA['userId'].isin(abnormalUsers))\n",
    "        ]['orders'],\n",
    "        pd.Series(\n",
    "            0,\n",
    "            index=np.arange(\n",
    "                data['visitorsPerDateA'].sum() - len(ordersByUsersA['orders'])\n",
    "            ),\n",
    "            name='orders',\n",
    "        ),\n",
    "    ],\n",
    "    axis=0,\n",
    ")\n",
    "\n",
    "sampleBFiltered = pd.concat(\n",
    "    [\n",
    "        ordersByUsersB[\n",
    "            np.logical_not(ordersByUsersB['userId'].isin(abnormalUsers))\n",
    "        ]['orders'],\n",
    "        pd.Series(\n",
    "            0,\n",
    "            index=np.arange(\n",
    "                data['visitorsPerDateB'].sum() - len(ordersByUsersB['orders'])\n",
    "            ),\n",
    "            name='orders',\n",
    "        ),\n",
    "    ],\n",
    "    axis=0,\n",
    ") "
   ]
  },
  {
   "cell_type": "markdown",
   "metadata": {},
   "source": [
    "Применим статистический критерий Манна-Уитни к полученным выборкам:"
   ]
  },
  {
   "cell_type": "code",
   "execution_count": 44,
   "metadata": {},
   "outputs": [
    {
     "name": "stdout",
     "output_type": "stream",
     "text": [
      "0.013\n",
      "0.173\n"
     ]
    }
   ],
   "source": [
    "print('{0:.3f}'.format(stats.mannwhitneyu(sampleAFiltered, sampleBFiltered)[1]))\n",
    "print('{0:.3f}'.format(sampleBFiltered.mean()/sampleAFiltered.mean()-1)) "
   ]
  },
  {
   "cell_type": "markdown",
   "metadata": {},
   "source": [
    "Результаты по среднему количеству заказов практически не изменились. Произошло ли что-нибудь с результатами по среднему чеку?"
   ]
  },
  {
   "cell_type": "code",
   "execution_count": 45,
   "metadata": {},
   "outputs": [
    {
     "name": "stdout",
     "output_type": "stream",
     "text": [
      "0.738\n",
      "-0.020\n"
     ]
    }
   ],
   "source": [
    "print(\n",
    "    '{0:.3f}'.format(\n",
    "        stats.mannwhitneyu(\n",
    "            orders[\n",
    "                np.logical_and(\n",
    "                    orders['group'] == 'A',\n",
    "                    np.logical_not(orders['userId'].isin(abnormalUsers)),\n",
    "                )\n",
    "            ]['revenue'],\n",
    "            orders[\n",
    "                np.logical_and(\n",
    "                    orders['group'] == 'B',\n",
    "                    np.logical_not(orders['userId'].isin(abnormalUsers)),\n",
    "                )\n",
    "            ]['revenue'],\n",
    "        )[1]\n",
    "    )\n",
    ")\n",
    "\n",
    "print(\n",
    "    \"{0:.3f}\".format(\n",
    "        orders[\n",
    "            np.logical_and(\n",
    "                orders['group'] == 'B',\n",
    "                np.logical_not(orders['userId'].isin(abnormalUsers)),\n",
    "            )\n",
    "        ]['revenue'].mean()\n",
    "        / orders[\n",
    "            np.logical_and(\n",
    "                orders['group'] == 'A',\n",
    "                np.logical_not(orders['userId'].isin(abnormalUsers)),\n",
    "            )\n",
    "        ]['revenue'].mean()\n",
    "        - 1\n",
    "    )\n",
    ") "
   ]
  },
  {
   "cell_type": "markdown",
   "metadata": {},
   "source": [
    "P-value увеличился, но и разница между сегментами сократилась с 26% до 2.5%.\n",
    "Хотя общие выводы по результатам теста не изменились, такой пример хорошо показывает, как сильно аномалии могут влиять на результаты A/B-теста!\n",
    "Какие выводы по тесту можем сделать?\n",
    "Имеющиеся факты:\n",
    "Есть статистически значимое различия по среднему количеству заказов между группами как по «сырым», так и по данным после фильтрации аномалий(группа B показала значительно лучший результат);\n",
    "Нет статистически значимого различия по среднему чеку между группами ни по «сырым», ни по данным после фильтрации аномалий;"
   ]
  },
  {
   "cell_type": "markdown",
   "metadata": {},
   "source": [
    "## Вывод"
   ]
  },
  {
   "cell_type": "markdown",
   "metadata": {},
   "source": [
    "В этой работе вы провели предобработку данных, заменили название столбцов, добавили новые столбцы для дальнейшей разбивки данных по неделям и месяцам. Далее прописали основные функции для дальнейшего анализа наших датафреймов.\n",
    "\n",
    "В первой части нашей работы, мы занимались приоритезацией гипотез, в каком порядке нужно их пробовать, и выяснили, что : гипотезы под номером 7,2,0,6 наиболее важные.\n",
    "Нам следует рассмотреть:\n",
    "- добавление формы подписки на все основные страницы,\n",
    "- добавление блоков рекомендаций товаров,\n",
    "- добавление двух новых каналов для привлечения графика,\n",
    "- настроить показ на главной странице баннеров с актуальной информацией.\n",
    "\n",
    "\n",
    "\n",
    "Во второй части мы провели A/B тестирование, где сравнивали среднее количество заказов, а также средние чеки у испытуемых групп.\n",
    "Мы пришли к выводу, что:\n",
    "- Наши группы были равномерно наполнены;\n",
    "- Оба показателя в группе B оказались лучше как в 'сырых' данных, так и после фильтрации аномалий;\n",
    "\n",
    "Остановить тест, признать его успешным, группа B статистически значимо лучше группы A по обеим метрикам."
   ]
  },
  {
   "cell_type": "code",
   "execution_count": null,
   "metadata": {},
   "outputs": [],
   "source": []
  }
 ],
 "metadata": {
  "ExecuteTimeLog": [
   {
    "duration": 842,
    "start_time": "2022-12-03T18:13:51.345Z"
   },
   {
    "duration": 722,
    "start_time": "2022-12-03T18:13:52.189Z"
   },
   {
    "duration": 12,
    "start_time": "2022-12-03T18:13:59.664Z"
   },
   {
    "duration": 12,
    "start_time": "2022-12-03T18:21:07.422Z"
   },
   {
    "duration": 6,
    "start_time": "2022-12-03T18:22:03.118Z"
   },
   {
    "duration": 11,
    "start_time": "2022-12-03T18:22:03.540Z"
   },
   {
    "duration": 11,
    "start_time": "2022-12-03T18:22:04.505Z"
   },
   {
    "duration": 4,
    "start_time": "2022-12-03T18:22:22.034Z"
   },
   {
    "duration": 14,
    "start_time": "2022-12-03T18:22:22.675Z"
   },
   {
    "duration": 9,
    "start_time": "2022-12-03T18:22:25.043Z"
   },
   {
    "duration": 14,
    "start_time": "2022-12-03T18:22:48.001Z"
   },
   {
    "duration": 139,
    "start_time": "2022-12-03T18:36:48.441Z"
   },
   {
    "duration": 4,
    "start_time": "2022-12-03T18:36:49.332Z"
   },
   {
    "duration": 10,
    "start_time": "2022-12-03T18:36:55.795Z"
   },
   {
    "duration": 45,
    "start_time": "2022-12-04T13:46:27.757Z"
   },
   {
    "duration": 814,
    "start_time": "2022-12-04T13:46:33.996Z"
   },
   {
    "duration": 340,
    "start_time": "2022-12-04T13:46:34.813Z"
   },
   {
    "duration": 5,
    "start_time": "2022-12-04T13:46:35.155Z"
   },
   {
    "duration": 15,
    "start_time": "2022-12-04T13:46:35.162Z"
   },
   {
    "duration": 12,
    "start_time": "2022-12-04T13:46:35.179Z"
   },
   {
    "duration": 9,
    "start_time": "2022-12-04T13:46:35.193Z"
   },
   {
    "duration": 10,
    "start_time": "2022-12-04T13:46:35.204Z"
   },
   {
    "duration": 8,
    "start_time": "2022-12-04T13:46:50.755Z"
   },
   {
    "duration": 13,
    "start_time": "2022-12-04T13:46:59.659Z"
   },
   {
    "duration": 14,
    "start_time": "2022-12-04T13:47:14.083Z"
   },
   {
    "duration": 17,
    "start_time": "2022-12-04T13:48:17.900Z"
   },
   {
    "duration": 10,
    "start_time": "2022-12-04T13:48:25.155Z"
   },
   {
    "duration": 1686,
    "start_time": "2022-12-04T13:48:47.485Z"
   },
   {
    "duration": 0,
    "start_time": "2022-12-04T13:48:49.172Z"
   },
   {
    "duration": 13,
    "start_time": "2022-12-04T13:49:48.685Z"
   },
   {
    "duration": 1733,
    "start_time": "2022-12-04T13:49:52.845Z"
   },
   {
    "duration": 873,
    "start_time": "2022-12-04T13:51:02.012Z"
   },
   {
    "duration": 1833,
    "start_time": "2022-12-04T13:54:31.478Z"
   },
   {
    "duration": 975,
    "start_time": "2022-12-04T13:57:59.786Z"
   },
   {
    "duration": 11,
    "start_time": "2022-12-04T14:00:56.087Z"
   },
   {
    "duration": 7,
    "start_time": "2022-12-04T14:01:07.855Z"
   },
   {
    "duration": 596,
    "start_time": "2022-12-04T14:01:43.135Z"
   },
   {
    "duration": 75,
    "start_time": "2022-12-04T14:01:43.733Z"
   },
   {
    "duration": 6,
    "start_time": "2022-12-04T14:01:43.810Z"
   },
   {
    "duration": 22,
    "start_time": "2022-12-04T14:01:43.819Z"
   },
   {
    "duration": 14,
    "start_time": "2022-12-04T14:01:43.843Z"
   },
   {
    "duration": 20,
    "start_time": "2022-12-04T14:01:43.859Z"
   },
   {
    "duration": 12,
    "start_time": "2022-12-04T14:01:43.881Z"
   },
   {
    "duration": 16,
    "start_time": "2022-12-04T14:01:43.895Z"
   },
   {
    "duration": 27,
    "start_time": "2022-12-04T14:01:43.913Z"
   },
   {
    "duration": 13,
    "start_time": "2022-12-04T14:01:43.943Z"
   },
   {
    "duration": 19,
    "start_time": "2022-12-04T14:01:43.978Z"
   },
   {
    "duration": 18,
    "start_time": "2022-12-04T14:01:43.999Z"
   },
   {
    "duration": 944,
    "start_time": "2022-12-04T14:01:44.019Z"
   },
   {
    "duration": 10,
    "start_time": "2022-12-04T14:02:02.999Z"
   },
   {
    "duration": 683,
    "start_time": "2022-12-04T14:04:14.140Z"
   },
   {
    "duration": 3,
    "start_time": "2022-12-04T14:04:53.377Z"
   },
   {
    "duration": 86,
    "start_time": "2022-12-04T14:04:53.896Z"
   },
   {
    "duration": 5,
    "start_time": "2022-12-04T14:04:54.777Z"
   },
   {
    "duration": 13,
    "start_time": "2022-12-04T14:04:55.450Z"
   },
   {
    "duration": 9,
    "start_time": "2022-12-04T14:04:59.160Z"
   },
   {
    "duration": 10,
    "start_time": "2022-12-04T14:05:00.271Z"
   },
   {
    "duration": 8,
    "start_time": "2022-12-04T14:05:01.840Z"
   },
   {
    "duration": 8,
    "start_time": "2022-12-04T14:05:05.218Z"
   },
   {
    "duration": 14,
    "start_time": "2022-12-04T14:05:12.392Z"
   },
   {
    "duration": 12,
    "start_time": "2022-12-04T14:05:13.160Z"
   },
   {
    "duration": 12,
    "start_time": "2022-12-04T14:05:13.512Z"
   },
   {
    "duration": 13,
    "start_time": "2022-12-04T14:05:14.322Z"
   },
   {
    "duration": 4,
    "start_time": "2022-12-04T14:05:41.248Z"
   },
   {
    "duration": 5,
    "start_time": "2022-12-04T14:06:07.585Z"
   },
   {
    "duration": 3,
    "start_time": "2022-12-04T14:06:15.036Z"
   },
   {
    "duration": 91,
    "start_time": "2022-12-04T14:06:15.041Z"
   },
   {
    "duration": 6,
    "start_time": "2022-12-04T14:06:15.133Z"
   },
   {
    "duration": 13,
    "start_time": "2022-12-04T14:06:15.140Z"
   },
   {
    "duration": 9,
    "start_time": "2022-12-04T14:06:15.156Z"
   },
   {
    "duration": 20,
    "start_time": "2022-12-04T14:06:15.166Z"
   },
   {
    "duration": 13,
    "start_time": "2022-12-04T14:06:15.188Z"
   },
   {
    "duration": 14,
    "start_time": "2022-12-04T14:06:15.203Z"
   },
   {
    "duration": 21,
    "start_time": "2022-12-04T14:06:15.219Z"
   },
   {
    "duration": 16,
    "start_time": "2022-12-04T14:06:15.242Z"
   },
   {
    "duration": 23,
    "start_time": "2022-12-04T14:06:15.260Z"
   },
   {
    "duration": 18,
    "start_time": "2022-12-04T14:06:15.285Z"
   },
   {
    "duration": 4,
    "start_time": "2022-12-04T14:06:15.305Z"
   },
   {
    "duration": 3,
    "start_time": "2022-12-04T14:06:24.675Z"
   },
   {
    "duration": 90,
    "start_time": "2022-12-04T14:06:24.680Z"
   },
   {
    "duration": 4,
    "start_time": "2022-12-04T14:06:24.772Z"
   },
   {
    "duration": 10,
    "start_time": "2022-12-04T14:06:24.778Z"
   },
   {
    "duration": 10,
    "start_time": "2022-12-04T14:06:24.790Z"
   },
   {
    "duration": 10,
    "start_time": "2022-12-04T14:06:24.802Z"
   },
   {
    "duration": 13,
    "start_time": "2022-12-04T14:06:24.814Z"
   },
   {
    "duration": 8,
    "start_time": "2022-12-04T14:06:24.829Z"
   },
   {
    "duration": 18,
    "start_time": "2022-12-04T14:06:24.839Z"
   },
   {
    "duration": 11,
    "start_time": "2022-12-04T14:06:24.878Z"
   },
   {
    "duration": 13,
    "start_time": "2022-12-04T14:06:24.891Z"
   },
   {
    "duration": 12,
    "start_time": "2022-12-04T14:06:24.905Z"
   },
   {
    "duration": 4,
    "start_time": "2022-12-04T14:06:24.919Z"
   },
   {
    "duration": 626,
    "start_time": "2022-12-04T14:06:47.740Z"
   },
   {
    "duration": 78,
    "start_time": "2022-12-04T14:06:48.368Z"
   },
   {
    "duration": 5,
    "start_time": "2022-12-04T14:06:48.447Z"
   },
   {
    "duration": 13,
    "start_time": "2022-12-04T14:06:48.454Z"
   },
   {
    "duration": 10,
    "start_time": "2022-12-04T14:06:48.469Z"
   },
   {
    "duration": 8,
    "start_time": "2022-12-04T14:06:48.481Z"
   },
   {
    "duration": 12,
    "start_time": "2022-12-04T14:06:48.491Z"
   },
   {
    "duration": 11,
    "start_time": "2022-12-04T14:06:48.505Z"
   },
   {
    "duration": 14,
    "start_time": "2022-12-04T14:06:48.518Z"
   },
   {
    "duration": 10,
    "start_time": "2022-12-04T14:06:48.534Z"
   },
   {
    "duration": 33,
    "start_time": "2022-12-04T14:06:48.546Z"
   },
   {
    "duration": 14,
    "start_time": "2022-12-04T14:06:48.581Z"
   },
   {
    "duration": 4,
    "start_time": "2022-12-04T14:06:48.597Z"
   },
   {
    "duration": 5,
    "start_time": "2022-12-04T14:07:09.899Z"
   },
   {
    "duration": 3,
    "start_time": "2022-12-04T14:07:51.990Z"
   },
   {
    "duration": 83,
    "start_time": "2022-12-04T14:07:51.995Z"
   },
   {
    "duration": 4,
    "start_time": "2022-12-04T14:07:52.080Z"
   },
   {
    "duration": 14,
    "start_time": "2022-12-04T14:07:52.086Z"
   },
   {
    "duration": 15,
    "start_time": "2022-12-04T14:07:52.103Z"
   },
   {
    "duration": 12,
    "start_time": "2022-12-04T14:07:52.120Z"
   },
   {
    "duration": 15,
    "start_time": "2022-12-04T14:07:52.134Z"
   },
   {
    "duration": 13,
    "start_time": "2022-12-04T14:07:52.151Z"
   },
   {
    "duration": 23,
    "start_time": "2022-12-04T14:07:52.165Z"
   },
   {
    "duration": 23,
    "start_time": "2022-12-04T14:07:52.190Z"
   },
   {
    "duration": 18,
    "start_time": "2022-12-04T14:07:52.215Z"
   },
   {
    "duration": 16,
    "start_time": "2022-12-04T14:07:52.236Z"
   },
   {
    "duration": 4,
    "start_time": "2022-12-04T14:07:52.254Z"
   },
   {
    "duration": 3,
    "start_time": "2022-12-04T14:07:58.300Z"
   },
   {
    "duration": 4,
    "start_time": "2022-12-04T14:08:06.890Z"
   },
   {
    "duration": 15,
    "start_time": "2022-12-04T14:08:07.322Z"
   },
   {
    "duration": 10,
    "start_time": "2022-12-04T14:08:24.826Z"
   },
   {
    "duration": 10,
    "start_time": "2022-12-04T14:09:12.163Z"
   },
   {
    "duration": 12,
    "start_time": "2022-12-04T14:23:28.159Z"
   },
   {
    "duration": 9,
    "start_time": "2022-12-04T14:23:38.207Z"
   },
   {
    "duration": 489,
    "start_time": "2022-12-04T14:26:24.616Z"
   },
   {
    "duration": 367,
    "start_time": "2022-12-04T14:27:05.464Z"
   },
   {
    "duration": 3,
    "start_time": "2022-12-04T14:27:18.219Z"
   },
   {
    "duration": 389,
    "start_time": "2022-12-04T14:27:23.000Z"
   },
   {
    "duration": 624,
    "start_time": "2022-12-04T14:27:41.855Z"
   },
   {
    "duration": 78,
    "start_time": "2022-12-04T14:27:42.481Z"
   },
   {
    "duration": 5,
    "start_time": "2022-12-04T14:27:42.560Z"
   },
   {
    "duration": 14,
    "start_time": "2022-12-04T14:27:42.567Z"
   },
   {
    "duration": 9,
    "start_time": "2022-12-04T14:27:42.582Z"
   },
   {
    "duration": 11,
    "start_time": "2022-12-04T14:27:42.593Z"
   },
   {
    "duration": 8,
    "start_time": "2022-12-04T14:27:42.606Z"
   },
   {
    "duration": 10,
    "start_time": "2022-12-04T14:27:42.616Z"
   },
   {
    "duration": 11,
    "start_time": "2022-12-04T14:27:42.627Z"
   },
   {
    "duration": 520,
    "start_time": "2022-12-04T14:27:42.640Z"
   },
   {
    "duration": 0,
    "start_time": "2022-12-04T14:27:43.163Z"
   },
   {
    "duration": 0,
    "start_time": "2022-12-04T14:27:43.164Z"
   },
   {
    "duration": 0,
    "start_time": "2022-12-04T14:27:43.165Z"
   },
   {
    "duration": 0,
    "start_time": "2022-12-04T14:27:43.167Z"
   },
   {
    "duration": 11,
    "start_time": "2022-12-04T14:28:03.682Z"
   },
   {
    "duration": 9,
    "start_time": "2022-12-04T14:28:04.036Z"
   },
   {
    "duration": 4,
    "start_time": "2022-12-04T14:28:06.145Z"
   },
   {
    "duration": 11,
    "start_time": "2022-12-04T14:28:06.456Z"
   },
   {
    "duration": 9,
    "start_time": "2022-12-04T14:28:06.985Z"
   },
   {
    "duration": 3,
    "start_time": "2022-12-04T14:29:40.257Z"
   },
   {
    "duration": 14,
    "start_time": "2022-12-04T14:30:28.065Z"
   },
   {
    "duration": 9,
    "start_time": "2022-12-04T14:30:29.107Z"
   },
   {
    "duration": 622,
    "start_time": "2022-12-04T14:30:53.527Z"
   },
   {
    "duration": 78,
    "start_time": "2022-12-04T14:30:54.151Z"
   },
   {
    "duration": 5,
    "start_time": "2022-12-04T14:30:54.230Z"
   },
   {
    "duration": 13,
    "start_time": "2022-12-04T14:30:54.237Z"
   },
   {
    "duration": 10,
    "start_time": "2022-12-04T14:30:54.252Z"
   },
   {
    "duration": 7,
    "start_time": "2022-12-04T14:30:54.263Z"
   },
   {
    "duration": 8,
    "start_time": "2022-12-04T14:30:54.272Z"
   },
   {
    "duration": 18,
    "start_time": "2022-12-04T14:30:54.281Z"
   },
   {
    "duration": 14,
    "start_time": "2022-12-04T14:30:54.301Z"
   },
   {
    "duration": 16,
    "start_time": "2022-12-04T14:30:54.317Z"
   },
   {
    "duration": 12,
    "start_time": "2022-12-04T14:30:54.335Z"
   },
   {
    "duration": 13,
    "start_time": "2022-12-04T14:30:54.348Z"
   },
   {
    "duration": 12,
    "start_time": "2022-12-04T14:30:54.363Z"
   },
   {
    "duration": 16,
    "start_time": "2022-12-04T14:30:54.377Z"
   },
   {
    "duration": 8,
    "start_time": "2022-12-04T14:31:32.555Z"
   },
   {
    "duration": 758,
    "start_time": "2022-12-06T06:31:43.629Z"
   },
   {
    "duration": 231,
    "start_time": "2022-12-06T06:31:44.389Z"
   },
   {
    "duration": 4,
    "start_time": "2022-12-06T06:31:44.622Z"
   },
   {
    "duration": 14,
    "start_time": "2022-12-06T06:31:44.628Z"
   },
   {
    "duration": 9,
    "start_time": "2022-12-06T06:31:44.644Z"
   },
   {
    "duration": 7,
    "start_time": "2022-12-06T06:31:44.654Z"
   },
   {
    "duration": 12,
    "start_time": "2022-12-06T06:31:44.663Z"
   },
   {
    "duration": 19,
    "start_time": "2022-12-06T06:31:44.677Z"
   },
   {
    "duration": 8,
    "start_time": "2022-12-06T06:31:44.698Z"
   },
   {
    "duration": 4,
    "start_time": "2022-12-06T06:31:44.709Z"
   },
   {
    "duration": 10,
    "start_time": "2022-12-06T06:31:44.714Z"
   },
   {
    "duration": 13,
    "start_time": "2022-12-06T06:31:44.726Z"
   },
   {
    "duration": 13,
    "start_time": "2022-12-06T06:31:44.742Z"
   },
   {
    "duration": 84,
    "start_time": "2022-12-06T06:34:10.316Z"
   },
   {
    "duration": 252,
    "start_time": "2022-12-06T06:37:53.973Z"
   },
   {
    "duration": 13,
    "start_time": "2022-12-06T06:46:18.950Z"
   },
   {
    "duration": 14,
    "start_time": "2022-12-06T06:46:31.767Z"
   },
   {
    "duration": 637,
    "start_time": "2022-12-06T06:46:38.683Z"
   },
   {
    "duration": 86,
    "start_time": "2022-12-06T06:46:39.322Z"
   },
   {
    "duration": 5,
    "start_time": "2022-12-06T06:46:39.410Z"
   },
   {
    "duration": 21,
    "start_time": "2022-12-06T06:46:39.417Z"
   },
   {
    "duration": 10,
    "start_time": "2022-12-06T06:46:39.439Z"
   },
   {
    "duration": 10,
    "start_time": "2022-12-06T06:46:39.450Z"
   },
   {
    "duration": 20,
    "start_time": "2022-12-06T06:46:39.461Z"
   },
   {
    "duration": 22,
    "start_time": "2022-12-06T06:46:39.482Z"
   },
   {
    "duration": 10,
    "start_time": "2022-12-06T06:46:39.506Z"
   },
   {
    "duration": 6,
    "start_time": "2022-12-06T06:46:39.518Z"
   },
   {
    "duration": 10,
    "start_time": "2022-12-06T06:46:39.526Z"
   },
   {
    "duration": 13,
    "start_time": "2022-12-06T06:46:39.537Z"
   },
   {
    "duration": 14,
    "start_time": "2022-12-06T06:46:39.552Z"
   },
   {
    "duration": 96,
    "start_time": "2022-12-06T06:46:39.567Z"
   },
   {
    "duration": 13,
    "start_time": "2022-12-06T06:47:02.063Z"
   },
   {
    "duration": 794,
    "start_time": "2022-12-06T15:26:27.550Z"
   },
   {
    "duration": 363,
    "start_time": "2022-12-06T15:26:28.346Z"
   },
   {
    "duration": 10,
    "start_time": "2022-12-06T15:26:28.711Z"
   },
   {
    "duration": 21,
    "start_time": "2022-12-06T15:26:28.725Z"
   },
   {
    "duration": 9,
    "start_time": "2022-12-06T15:26:28.748Z"
   },
   {
    "duration": 10,
    "start_time": "2022-12-06T15:26:28.758Z"
   },
   {
    "duration": 16,
    "start_time": "2022-12-06T15:26:28.770Z"
   },
   {
    "duration": 15,
    "start_time": "2022-12-06T15:26:28.787Z"
   },
   {
    "duration": 14,
    "start_time": "2022-12-06T15:26:28.815Z"
   },
   {
    "duration": 4,
    "start_time": "2022-12-06T15:26:28.832Z"
   },
   {
    "duration": 10,
    "start_time": "2022-12-06T15:26:28.837Z"
   },
   {
    "duration": 12,
    "start_time": "2022-12-06T15:26:28.849Z"
   },
   {
    "duration": 12,
    "start_time": "2022-12-06T15:26:28.862Z"
   },
   {
    "duration": 5,
    "start_time": "2022-12-06T15:27:23.263Z"
   },
   {
    "duration": 15,
    "start_time": "2022-12-06T15:27:29.265Z"
   },
   {
    "duration": 15,
    "start_time": "2022-12-06T15:28:13.407Z"
   },
   {
    "duration": 17,
    "start_time": "2022-12-06T15:28:13.931Z"
   },
   {
    "duration": 90,
    "start_time": "2022-12-06T15:32:56.458Z"
   },
   {
    "duration": 141,
    "start_time": "2022-12-06T15:38:47.693Z"
   },
   {
    "duration": 9,
    "start_time": "2022-12-06T15:38:49.049Z"
   },
   {
    "duration": 15,
    "start_time": "2022-12-06T15:38:49.726Z"
   },
   {
    "duration": 7,
    "start_time": "2022-12-06T15:38:51.062Z"
   },
   {
    "duration": 8,
    "start_time": "2022-12-06T15:38:51.901Z"
   },
   {
    "duration": 1277,
    "start_time": "2022-12-06T15:38:55.210Z"
   },
   {
    "duration": 13,
    "start_time": "2022-12-06T15:39:12.542Z"
   },
   {
    "duration": 21,
    "start_time": "2022-12-06T15:39:44.626Z"
   },
   {
    "duration": 4,
    "start_time": "2022-12-06T15:40:45.950Z"
   },
   {
    "duration": 16,
    "start_time": "2022-12-06T15:40:53.740Z"
   },
   {
    "duration": 8,
    "start_time": "2022-12-06T15:41:11.336Z"
   },
   {
    "duration": 18,
    "start_time": "2022-12-06T15:41:11.823Z"
   },
   {
    "duration": 14,
    "start_time": "2022-12-06T15:41:14.846Z"
   },
   {
    "duration": 10,
    "start_time": "2022-12-06T15:43:18.254Z"
   },
   {
    "duration": 5,
    "start_time": "2022-12-06T15:46:09.566Z"
   },
   {
    "duration": 17,
    "start_time": "2022-12-06T15:46:15.493Z"
   },
   {
    "duration": 304,
    "start_time": "2022-12-06T15:46:51.070Z"
   },
   {
    "duration": 299,
    "start_time": "2022-12-06T15:47:41.441Z"
   },
   {
    "duration": 173,
    "start_time": "2022-12-06T15:48:18.438Z"
   },
   {
    "duration": 304,
    "start_time": "2022-12-06T15:50:08.631Z"
   },
   {
    "duration": 381,
    "start_time": "2022-12-06T15:51:06.201Z"
   },
   {
    "duration": 232,
    "start_time": "2022-12-06T15:51:40.598Z"
   },
   {
    "duration": 248,
    "start_time": "2022-12-06T15:52:05.984Z"
   },
   {
    "duration": 241,
    "start_time": "2022-12-06T15:52:19.526Z"
   },
   {
    "duration": 311,
    "start_time": "2022-12-06T15:53:47.732Z"
   },
   {
    "duration": 1341,
    "start_time": "2022-12-06T16:00:47.799Z"
   },
   {
    "duration": 171,
    "start_time": "2022-12-06T16:01:05.598Z"
   },
   {
    "duration": 16,
    "start_time": "2022-12-06T16:02:12.374Z"
   },
   {
    "duration": 160,
    "start_time": "2022-12-06T16:02:39.381Z"
   },
   {
    "duration": 1368,
    "start_time": "2022-12-06T16:03:00.280Z"
   },
   {
    "duration": 213,
    "start_time": "2022-12-06T16:03:13.805Z"
   },
   {
    "duration": 156,
    "start_time": "2022-12-06T16:03:21.377Z"
   },
   {
    "duration": 1280,
    "start_time": "2022-12-06T16:05:00.166Z"
   },
   {
    "duration": 144,
    "start_time": "2022-12-06T16:05:16.310Z"
   },
   {
    "duration": 4,
    "start_time": "2022-12-06T16:06:13.294Z"
   },
   {
    "duration": 10,
    "start_time": "2022-12-06T16:08:21.087Z"
   },
   {
    "duration": 160,
    "start_time": "2022-12-06T16:08:38.272Z"
   },
   {
    "duration": 132,
    "start_time": "2022-12-06T16:08:56.969Z"
   },
   {
    "duration": 4,
    "start_time": "2022-12-06T16:09:17.607Z"
   },
   {
    "duration": 631,
    "start_time": "2022-12-06T16:11:01.942Z"
   },
   {
    "duration": 87,
    "start_time": "2022-12-06T16:11:02.575Z"
   },
   {
    "duration": 7,
    "start_time": "2022-12-06T16:11:02.664Z"
   },
   {
    "duration": 16,
    "start_time": "2022-12-06T16:11:02.672Z"
   },
   {
    "duration": 17,
    "start_time": "2022-12-06T16:11:02.690Z"
   },
   {
    "duration": 10,
    "start_time": "2022-12-06T16:11:02.709Z"
   },
   {
    "duration": 28,
    "start_time": "2022-12-06T16:11:02.721Z"
   },
   {
    "duration": 20,
    "start_time": "2022-12-06T16:11:02.751Z"
   },
   {
    "duration": 15,
    "start_time": "2022-12-06T16:11:02.773Z"
   },
   {
    "duration": 16,
    "start_time": "2022-12-06T16:11:02.790Z"
   },
   {
    "duration": 19,
    "start_time": "2022-12-06T16:11:02.813Z"
   },
   {
    "duration": 10,
    "start_time": "2022-12-06T16:11:02.835Z"
   },
   {
    "duration": 15,
    "start_time": "2022-12-06T16:11:02.847Z"
   },
   {
    "duration": 13,
    "start_time": "2022-12-06T16:11:02.866Z"
   },
   {
    "duration": 33,
    "start_time": "2022-12-06T16:11:02.882Z"
   },
   {
    "duration": 34,
    "start_time": "2022-12-06T16:11:02.916Z"
   },
   {
    "duration": 17,
    "start_time": "2022-12-06T16:11:02.951Z"
   },
   {
    "duration": 294,
    "start_time": "2022-12-06T16:11:02.969Z"
   },
   {
    "duration": 302,
    "start_time": "2022-12-06T16:11:03.265Z"
   },
   {
    "duration": 230,
    "start_time": "2022-12-06T16:11:03.569Z"
   },
   {
    "duration": 304,
    "start_time": "2022-12-06T16:11:03.801Z"
   },
   {
    "duration": 355,
    "start_time": "2022-12-06T16:11:04.113Z"
   },
   {
    "duration": 0,
    "start_time": "2022-12-06T16:11:04.469Z"
   },
   {
    "duration": 0,
    "start_time": "2022-12-06T16:11:04.471Z"
   },
   {
    "duration": 0,
    "start_time": "2022-12-06T16:11:04.472Z"
   },
   {
    "duration": 0,
    "start_time": "2022-12-06T16:11:04.473Z"
   },
   {
    "duration": 0,
    "start_time": "2022-12-06T16:11:04.474Z"
   },
   {
    "duration": 0,
    "start_time": "2022-12-06T16:11:04.476Z"
   },
   {
    "duration": 0,
    "start_time": "2022-12-06T16:11:04.477Z"
   },
   {
    "duration": 0,
    "start_time": "2022-12-06T16:11:04.477Z"
   },
   {
    "duration": 0,
    "start_time": "2022-12-06T16:11:04.478Z"
   },
   {
    "duration": 386,
    "start_time": "2022-12-06T16:11:31.678Z"
   },
   {
    "duration": 741,
    "start_time": "2022-12-06T17:52:44.920Z"
   },
   {
    "duration": 233,
    "start_time": "2022-12-06T17:52:45.663Z"
   },
   {
    "duration": 4,
    "start_time": "2022-12-06T17:52:45.898Z"
   },
   {
    "duration": 22,
    "start_time": "2022-12-06T17:52:45.904Z"
   },
   {
    "duration": 35,
    "start_time": "2022-12-06T17:52:45.927Z"
   },
   {
    "duration": 17,
    "start_time": "2022-12-06T17:52:45.963Z"
   },
   {
    "duration": 39,
    "start_time": "2022-12-06T17:52:45.982Z"
   },
   {
    "duration": 34,
    "start_time": "2022-12-06T17:52:46.023Z"
   },
   {
    "duration": 16,
    "start_time": "2022-12-06T17:52:46.059Z"
   },
   {
    "duration": 30,
    "start_time": "2022-12-06T17:52:46.078Z"
   },
   {
    "duration": 24,
    "start_time": "2022-12-06T17:52:46.110Z"
   },
   {
    "duration": 26,
    "start_time": "2022-12-06T17:52:46.135Z"
   },
   {
    "duration": 33,
    "start_time": "2022-12-06T17:52:46.163Z"
   },
   {
    "duration": 12,
    "start_time": "2022-12-06T17:52:46.198Z"
   },
   {
    "duration": 10,
    "start_time": "2022-12-06T17:52:46.212Z"
   },
   {
    "duration": 8,
    "start_time": "2022-12-06T17:52:46.224Z"
   },
   {
    "duration": 14,
    "start_time": "2022-12-06T17:52:46.233Z"
   },
   {
    "duration": 278,
    "start_time": "2022-12-06T17:52:46.248Z"
   },
   {
    "duration": 250,
    "start_time": "2022-12-06T17:52:46.528Z"
   },
   {
    "duration": 202,
    "start_time": "2022-12-06T17:52:46.780Z"
   },
   {
    "duration": 305,
    "start_time": "2022-12-06T17:52:46.983Z"
   },
   {
    "duration": 307,
    "start_time": "2022-12-06T17:52:47.290Z"
   },
   {
    "duration": 0,
    "start_time": "2022-12-06T17:52:47.599Z"
   },
   {
    "duration": 0,
    "start_time": "2022-12-06T17:52:47.600Z"
   },
   {
    "duration": 0,
    "start_time": "2022-12-06T17:52:47.601Z"
   },
   {
    "duration": 0,
    "start_time": "2022-12-06T17:52:47.602Z"
   },
   {
    "duration": 0,
    "start_time": "2022-12-06T17:52:47.604Z"
   },
   {
    "duration": 0,
    "start_time": "2022-12-06T17:52:47.605Z"
   },
   {
    "duration": 0,
    "start_time": "2022-12-06T17:52:47.606Z"
   },
   {
    "duration": 0,
    "start_time": "2022-12-06T17:52:47.607Z"
   },
   {
    "duration": 0,
    "start_time": "2022-12-06T17:52:47.608Z"
   },
   {
    "duration": 234,
    "start_time": "2022-12-06T17:53:04.054Z"
   },
   {
    "duration": 211,
    "start_time": "2022-12-06T17:53:18.806Z"
   },
   {
    "duration": 224,
    "start_time": "2022-12-06T17:53:38.223Z"
   },
   {
    "duration": 203,
    "start_time": "2022-12-06T17:54:17.007Z"
   },
   {
    "duration": 177,
    "start_time": "2022-12-06T17:54:43.188Z"
   },
   {
    "duration": 185,
    "start_time": "2022-12-06T17:54:51.478Z"
   },
   {
    "duration": 287,
    "start_time": "2022-12-06T17:55:01.138Z"
   },
   {
    "duration": 573,
    "start_time": "2022-12-06T17:55:15.637Z"
   },
   {
    "duration": 82,
    "start_time": "2022-12-06T17:55:16.212Z"
   },
   {
    "duration": 5,
    "start_time": "2022-12-06T17:55:16.296Z"
   },
   {
    "duration": 44,
    "start_time": "2022-12-06T17:55:16.302Z"
   },
   {
    "duration": 31,
    "start_time": "2022-12-06T17:55:16.348Z"
   },
   {
    "duration": 17,
    "start_time": "2022-12-06T17:55:16.380Z"
   },
   {
    "duration": 39,
    "start_time": "2022-12-06T17:55:16.399Z"
   },
   {
    "duration": 23,
    "start_time": "2022-12-06T17:55:16.441Z"
   },
   {
    "duration": 26,
    "start_time": "2022-12-06T17:55:16.465Z"
   },
   {
    "duration": 35,
    "start_time": "2022-12-06T17:55:16.493Z"
   },
   {
    "duration": 16,
    "start_time": "2022-12-06T17:55:16.529Z"
   },
   {
    "duration": 38,
    "start_time": "2022-12-06T17:55:16.547Z"
   },
   {
    "duration": 44,
    "start_time": "2022-12-06T17:55:16.586Z"
   },
   {
    "duration": 22,
    "start_time": "2022-12-06T17:55:16.632Z"
   },
   {
    "duration": 28,
    "start_time": "2022-12-06T17:55:16.656Z"
   },
   {
    "duration": 7,
    "start_time": "2022-12-06T17:55:16.686Z"
   },
   {
    "duration": 20,
    "start_time": "2022-12-06T17:55:16.694Z"
   },
   {
    "duration": 305,
    "start_time": "2022-12-06T17:55:16.716Z"
   },
   {
    "duration": 285,
    "start_time": "2022-12-06T17:55:17.023Z"
   },
   {
    "duration": 194,
    "start_time": "2022-12-06T17:55:17.310Z"
   },
   {
    "duration": 264,
    "start_time": "2022-12-06T17:55:17.506Z"
   },
   {
    "duration": 256,
    "start_time": "2022-12-06T17:55:17.778Z"
   },
   {
    "duration": 309,
    "start_time": "2022-12-06T17:55:18.036Z"
   },
   {
    "duration": 13,
    "start_time": "2022-12-06T17:55:18.347Z"
   },
   {
    "duration": 162,
    "start_time": "2022-12-06T17:55:18.361Z"
   },
   {
    "duration": 153,
    "start_time": "2022-12-06T17:55:18.525Z"
   },
   {
    "duration": 4,
    "start_time": "2022-12-06T17:55:18.680Z"
   },
   {
    "duration": 26,
    "start_time": "2022-12-06T17:55:18.686Z"
   },
   {
    "duration": 127,
    "start_time": "2022-12-06T17:55:18.714Z"
   },
   {
    "duration": 138,
    "start_time": "2022-12-06T17:55:18.843Z"
   },
   {
    "duration": 5,
    "start_time": "2022-12-06T17:55:18.983Z"
   },
   {
    "duration": 815,
    "start_time": "2022-12-07T18:09:25.916Z"
   },
   {
    "duration": 233,
    "start_time": "2022-12-07T18:09:26.734Z"
   },
   {
    "duration": 6,
    "start_time": "2022-12-07T18:09:26.969Z"
   },
   {
    "duration": 22,
    "start_time": "2022-12-07T18:09:26.978Z"
   },
   {
    "duration": 12,
    "start_time": "2022-12-07T18:09:27.002Z"
   },
   {
    "duration": 7,
    "start_time": "2022-12-07T18:09:27.016Z"
   },
   {
    "duration": 14,
    "start_time": "2022-12-07T18:09:27.025Z"
   },
   {
    "duration": 15,
    "start_time": "2022-12-07T18:09:27.055Z"
   },
   {
    "duration": 7,
    "start_time": "2022-12-07T18:09:27.072Z"
   },
   {
    "duration": 12,
    "start_time": "2022-12-07T18:09:27.082Z"
   },
   {
    "duration": 7,
    "start_time": "2022-12-07T18:09:27.095Z"
   },
   {
    "duration": 11,
    "start_time": "2022-12-07T18:09:27.103Z"
   },
   {
    "duration": 14,
    "start_time": "2022-12-07T18:09:27.116Z"
   },
   {
    "duration": 16,
    "start_time": "2022-12-07T18:09:27.154Z"
   },
   {
    "duration": 14,
    "start_time": "2022-12-07T18:09:27.172Z"
   },
   {
    "duration": 7,
    "start_time": "2022-12-07T18:09:27.188Z"
   },
   {
    "duration": 16,
    "start_time": "2022-12-07T18:09:27.197Z"
   },
   {
    "duration": 339,
    "start_time": "2022-12-07T18:09:27.214Z"
   },
   {
    "duration": 278,
    "start_time": "2022-12-07T18:09:27.555Z"
   },
   {
    "duration": 174,
    "start_time": "2022-12-07T18:09:27.834Z"
   },
   {
    "duration": 339,
    "start_time": "2022-12-07T18:09:28.009Z"
   },
   {
    "duration": 252,
    "start_time": "2022-12-07T18:09:28.350Z"
   },
   {
    "duration": 314,
    "start_time": "2022-12-07T18:09:28.604Z"
   },
   {
    "duration": 13,
    "start_time": "2022-12-07T18:09:28.920Z"
   },
   {
    "duration": 168,
    "start_time": "2022-12-07T18:09:28.934Z"
   },
   {
    "duration": 138,
    "start_time": "2022-12-07T18:09:29.104Z"
   },
   {
    "duration": 11,
    "start_time": "2022-12-07T18:09:29.244Z"
   },
   {
    "duration": 10,
    "start_time": "2022-12-07T18:09:29.259Z"
   },
   {
    "duration": 133,
    "start_time": "2022-12-07T18:09:29.270Z"
   },
   {
    "duration": 124,
    "start_time": "2022-12-07T18:09:29.405Z"
   },
   {
    "duration": 4,
    "start_time": "2022-12-07T18:09:29.531Z"
   },
   {
    "duration": 471,
    "start_time": "2022-12-07T18:11:26.275Z"
   },
   {
    "duration": 223,
    "start_time": "2022-12-07T18:31:00.167Z"
   },
   {
    "duration": 7,
    "start_time": "2022-12-07T18:31:17.578Z"
   },
   {
    "duration": 188,
    "start_time": "2022-12-07T18:32:16.929Z"
   },
   {
    "duration": 10,
    "start_time": "2022-12-07T18:36:56.403Z"
   },
   {
    "duration": 5,
    "start_time": "2022-12-07T18:38:06.122Z"
   },
   {
    "duration": 4,
    "start_time": "2022-12-07T18:38:10.852Z"
   },
   {
    "duration": 5,
    "start_time": "2022-12-07T18:38:16.035Z"
   },
   {
    "duration": 5,
    "start_time": "2022-12-07T18:38:22.856Z"
   },
   {
    "duration": 4,
    "start_time": "2022-12-07T18:38:29.020Z"
   },
   {
    "duration": 4,
    "start_time": "2022-12-07T18:38:37.634Z"
   },
   {
    "duration": 10,
    "start_time": "2022-12-07T18:41:26.229Z"
   },
   {
    "duration": 9,
    "start_time": "2022-12-07T18:42:16.514Z"
   },
   {
    "duration": 8,
    "start_time": "2022-12-07T18:42:27.900Z"
   },
   {
    "duration": 8,
    "start_time": "2022-12-07T18:43:41.341Z"
   },
   {
    "duration": 23,
    "start_time": "2022-12-07T18:44:12.278Z"
   },
   {
    "duration": 14,
    "start_time": "2022-12-07T18:44:50.175Z"
   },
   {
    "duration": 1158,
    "start_time": "2022-12-08T07:54:36.369Z"
   },
   {
    "duration": 307,
    "start_time": "2022-12-08T07:54:37.529Z"
   },
   {
    "duration": 5,
    "start_time": "2022-12-08T07:54:37.837Z"
   },
   {
    "duration": 17,
    "start_time": "2022-12-08T07:54:37.844Z"
   },
   {
    "duration": 9,
    "start_time": "2022-12-08T07:54:37.862Z"
   },
   {
    "duration": 8,
    "start_time": "2022-12-08T07:54:37.872Z"
   },
   {
    "duration": 12,
    "start_time": "2022-12-08T07:54:37.882Z"
   },
   {
    "duration": 25,
    "start_time": "2022-12-08T07:54:37.895Z"
   },
   {
    "duration": 7,
    "start_time": "2022-12-08T07:54:37.922Z"
   },
   {
    "duration": 9,
    "start_time": "2022-12-08T07:54:37.931Z"
   },
   {
    "duration": 8,
    "start_time": "2022-12-08T07:54:37.941Z"
   },
   {
    "duration": 11,
    "start_time": "2022-12-08T07:54:37.950Z"
   },
   {
    "duration": 12,
    "start_time": "2022-12-08T07:54:37.963Z"
   },
   {
    "duration": 12,
    "start_time": "2022-12-08T07:54:37.977Z"
   },
   {
    "duration": 33,
    "start_time": "2022-12-08T07:54:37.990Z"
   },
   {
    "duration": 6,
    "start_time": "2022-12-08T07:54:38.025Z"
   },
   {
    "duration": 23,
    "start_time": "2022-12-08T07:54:38.032Z"
   },
   {
    "duration": 301,
    "start_time": "2022-12-08T07:54:38.057Z"
   },
   {
    "duration": 279,
    "start_time": "2022-12-08T07:54:38.360Z"
   },
   {
    "duration": 197,
    "start_time": "2022-12-08T07:54:38.641Z"
   },
   {
    "duration": 296,
    "start_time": "2022-12-08T07:54:38.840Z"
   },
   {
    "duration": 202,
    "start_time": "2022-12-08T07:54:39.138Z"
   },
   {
    "duration": 297,
    "start_time": "2022-12-08T07:54:39.341Z"
   },
   {
    "duration": 13,
    "start_time": "2022-12-08T07:54:39.640Z"
   },
   {
    "duration": 157,
    "start_time": "2022-12-08T07:54:39.654Z"
   },
   {
    "duration": 139,
    "start_time": "2022-12-08T07:54:39.816Z"
   },
   {
    "duration": 3,
    "start_time": "2022-12-08T07:54:39.957Z"
   },
   {
    "duration": 14,
    "start_time": "2022-12-08T07:54:39.964Z"
   },
   {
    "duration": 127,
    "start_time": "2022-12-08T07:54:39.980Z"
   },
   {
    "duration": 169,
    "start_time": "2022-12-08T07:54:40.109Z"
   },
   {
    "duration": 5,
    "start_time": "2022-12-08T07:54:40.279Z"
   },
   {
    "duration": 317,
    "start_time": "2022-12-08T07:54:40.286Z"
   },
   {
    "duration": 15,
    "start_time": "2022-12-08T07:54:40.605Z"
   },
   {
    "duration": 178,
    "start_time": "2022-12-08T07:54:40.622Z"
   },
   {
    "duration": 16,
    "start_time": "2022-12-08T07:54:40.802Z"
   },
   {
    "duration": 10,
    "start_time": "2022-12-08T07:54:40.819Z"
   },
   {
    "duration": 11,
    "start_time": "2022-12-08T07:54:40.830Z"
   },
   {
    "duration": 26,
    "start_time": "2022-12-08T07:54:40.842Z"
   },
   {
    "duration": 46,
    "start_time": "2022-12-08T07:54:40.870Z"
   },
   {
    "duration": 183,
    "start_time": "2022-12-08T08:21:53.119Z"
   },
   {
    "duration": 32,
    "start_time": "2022-12-08T08:22:06.922Z"
   },
   {
    "duration": 20,
    "start_time": "2022-12-08T08:22:16.960Z"
   },
   {
    "duration": 38,
    "start_time": "2022-12-08T08:22:26.682Z"
   },
   {
    "duration": 35,
    "start_time": "2022-12-08T08:22:38.068Z"
   },
   {
    "duration": 7,
    "start_time": "2022-12-08T08:23:36.253Z"
   },
   {
    "duration": 9,
    "start_time": "2022-12-08T08:23:52.965Z"
   },
   {
    "duration": 7,
    "start_time": "2022-12-08T08:24:03.115Z"
   },
   {
    "duration": 15,
    "start_time": "2022-12-08T08:24:04.938Z"
   },
   {
    "duration": 5,
    "start_time": "2022-12-08T08:24:33.814Z"
   },
   {
    "duration": 6,
    "start_time": "2022-12-08T08:25:35.980Z"
   },
   {
    "duration": 6,
    "start_time": "2022-12-08T08:25:36.279Z"
   },
   {
    "duration": 7,
    "start_time": "2022-12-08T08:25:36.627Z"
   },
   {
    "duration": 4,
    "start_time": "2022-12-08T08:25:37.034Z"
   },
   {
    "duration": 1117,
    "start_time": "2022-12-08T08:28:47.666Z"
   },
   {
    "duration": 132,
    "start_time": "2022-12-08T08:28:48.785Z"
   },
   {
    "duration": 5,
    "start_time": "2022-12-08T08:28:48.920Z"
   },
   {
    "duration": 16,
    "start_time": "2022-12-08T08:28:48.927Z"
   },
   {
    "duration": 10,
    "start_time": "2022-12-08T08:28:48.946Z"
   },
   {
    "duration": 14,
    "start_time": "2022-12-08T08:28:48.958Z"
   },
   {
    "duration": 56,
    "start_time": "2022-12-08T08:28:48.974Z"
   },
   {
    "duration": 18,
    "start_time": "2022-12-08T08:28:49.032Z"
   },
   {
    "duration": 11,
    "start_time": "2022-12-08T08:28:49.053Z"
   },
   {
    "duration": 12,
    "start_time": "2022-12-08T08:28:49.066Z"
   },
   {
    "duration": 9,
    "start_time": "2022-12-08T08:28:49.080Z"
   },
   {
    "duration": 22,
    "start_time": "2022-12-08T08:28:49.091Z"
   },
   {
    "duration": 12,
    "start_time": "2022-12-08T08:28:49.115Z"
   },
   {
    "duration": 15,
    "start_time": "2022-12-08T08:28:49.132Z"
   },
   {
    "duration": 10,
    "start_time": "2022-12-08T08:28:49.149Z"
   },
   {
    "duration": 13,
    "start_time": "2022-12-08T08:28:49.161Z"
   },
   {
    "duration": 21,
    "start_time": "2022-12-08T08:28:49.175Z"
   },
   {
    "duration": 23,
    "start_time": "2022-12-08T08:28:49.199Z"
   },
   {
    "duration": 18,
    "start_time": "2022-12-08T08:28:49.224Z"
   },
   {
    "duration": 15,
    "start_time": "2022-12-08T08:28:49.244Z"
   },
   {
    "duration": 293,
    "start_time": "2022-12-08T08:28:49.260Z"
   },
   {
    "duration": 290,
    "start_time": "2022-12-08T08:28:49.555Z"
   },
   {
    "duration": 213,
    "start_time": "2022-12-08T08:28:49.847Z"
   },
   {
    "duration": 355,
    "start_time": "2022-12-08T08:28:50.063Z"
   },
   {
    "duration": 242,
    "start_time": "2022-12-08T08:28:50.421Z"
   },
   {
    "duration": 331,
    "start_time": "2022-12-08T08:28:50.665Z"
   },
   {
    "duration": 18,
    "start_time": "2022-12-08T08:28:51.000Z"
   },
   {
    "duration": 194,
    "start_time": "2022-12-08T08:28:51.020Z"
   },
   {
    "duration": 159,
    "start_time": "2022-12-08T08:28:51.216Z"
   },
   {
    "duration": 5,
    "start_time": "2022-12-08T08:28:51.377Z"
   },
   {
    "duration": 12,
    "start_time": "2022-12-08T08:28:51.384Z"
   },
   {
    "duration": 174,
    "start_time": "2022-12-08T08:28:51.398Z"
   },
   {
    "duration": 125,
    "start_time": "2022-12-08T08:28:51.574Z"
   },
   {
    "duration": 17,
    "start_time": "2022-12-08T08:28:51.701Z"
   },
   {
    "duration": 320,
    "start_time": "2022-12-08T08:28:51.720Z"
   },
   {
    "duration": 10,
    "start_time": "2022-12-08T08:28:52.042Z"
   },
   {
    "duration": 243,
    "start_time": "2022-12-08T08:28:52.053Z"
   },
   {
    "duration": 22,
    "start_time": "2022-12-08T08:28:52.298Z"
   },
   {
    "duration": 14,
    "start_time": "2022-12-08T08:28:52.322Z"
   },
   {
    "duration": 20,
    "start_time": "2022-12-08T08:28:52.339Z"
   },
   {
    "duration": 25,
    "start_time": "2022-12-08T08:28:52.364Z"
   },
   {
    "duration": 35,
    "start_time": "2022-12-08T08:28:52.391Z"
   },
   {
    "duration": 171,
    "start_time": "2022-12-08T08:44:26.922Z"
   },
   {
    "duration": 205,
    "start_time": "2022-12-08T08:44:34.723Z"
   },
   {
    "duration": 236,
    "start_time": "2022-12-08T08:44:44.579Z"
   },
   {
    "duration": 147,
    "start_time": "2022-12-08T08:46:41.092Z"
   },
   {
    "duration": 5,
    "start_time": "2022-12-08T09:05:42.965Z"
   },
   {
    "duration": 6,
    "start_time": "2022-12-08T09:05:51.549Z"
   },
   {
    "duration": 1011,
    "start_time": "2022-12-08T09:56:45.169Z"
   },
   {
    "duration": 132,
    "start_time": "2022-12-08T09:56:46.182Z"
   },
   {
    "duration": 6,
    "start_time": "2022-12-08T09:56:46.317Z"
   },
   {
    "duration": 16,
    "start_time": "2022-12-08T09:56:46.324Z"
   },
   {
    "duration": 10,
    "start_time": "2022-12-08T09:56:46.342Z"
   },
   {
    "duration": 9,
    "start_time": "2022-12-08T09:56:46.354Z"
   },
   {
    "duration": 15,
    "start_time": "2022-12-08T09:56:46.364Z"
   },
   {
    "duration": 35,
    "start_time": "2022-12-08T09:56:46.381Z"
   },
   {
    "duration": 4,
    "start_time": "2022-12-08T09:56:46.419Z"
   },
   {
    "duration": 19,
    "start_time": "2022-12-08T09:56:46.424Z"
   },
   {
    "duration": 18,
    "start_time": "2022-12-08T09:56:46.445Z"
   },
   {
    "duration": 25,
    "start_time": "2022-12-08T09:56:46.465Z"
   },
   {
    "duration": 15,
    "start_time": "2022-12-08T09:56:46.492Z"
   },
   {
    "duration": 17,
    "start_time": "2022-12-08T09:56:46.509Z"
   },
   {
    "duration": 8,
    "start_time": "2022-12-08T09:56:46.527Z"
   },
   {
    "duration": 15,
    "start_time": "2022-12-08T09:56:46.537Z"
   },
   {
    "duration": 20,
    "start_time": "2022-12-08T09:56:46.554Z"
   },
   {
    "duration": 19,
    "start_time": "2022-12-08T09:56:46.576Z"
   },
   {
    "duration": 19,
    "start_time": "2022-12-08T09:56:46.597Z"
   },
   {
    "duration": 15,
    "start_time": "2022-12-08T09:56:46.618Z"
   },
   {
    "duration": 320,
    "start_time": "2022-12-08T09:56:46.636Z"
   },
   {
    "duration": 265,
    "start_time": "2022-12-08T09:56:46.958Z"
   },
   {
    "duration": 175,
    "start_time": "2022-12-08T09:56:47.225Z"
   },
   {
    "duration": 292,
    "start_time": "2022-12-08T09:56:47.401Z"
   },
   {
    "duration": 211,
    "start_time": "2022-12-08T09:56:47.695Z"
   },
   {
    "duration": 317,
    "start_time": "2022-12-08T09:56:47.907Z"
   },
   {
    "duration": 11,
    "start_time": "2022-12-08T09:56:48.227Z"
   },
   {
    "duration": 143,
    "start_time": "2022-12-08T09:56:48.239Z"
   },
   {
    "duration": 4,
    "start_time": "2022-12-08T09:56:48.384Z"
   },
   {
    "duration": 13,
    "start_time": "2022-12-08T09:56:48.389Z"
   },
   {
    "duration": 115,
    "start_time": "2022-12-08T09:56:48.415Z"
   },
   {
    "duration": 130,
    "start_time": "2022-12-08T09:56:48.531Z"
   },
   {
    "duration": 5,
    "start_time": "2022-12-08T09:56:48.663Z"
   },
   {
    "duration": 222,
    "start_time": "2022-12-08T09:56:48.670Z"
   },
   {
    "duration": 6,
    "start_time": "2022-12-08T09:56:48.894Z"
   },
   {
    "duration": 195,
    "start_time": "2022-12-08T09:56:48.902Z"
   },
   {
    "duration": 21,
    "start_time": "2022-12-08T09:56:49.099Z"
   },
   {
    "duration": 10,
    "start_time": "2022-12-08T09:56:49.122Z"
   },
   {
    "duration": 14,
    "start_time": "2022-12-08T09:56:49.134Z"
   },
   {
    "duration": 25,
    "start_time": "2022-12-08T09:56:49.150Z"
   },
   {
    "duration": 15,
    "start_time": "2022-12-08T09:56:49.176Z"
   },
   {
    "duration": 1072,
    "start_time": "2022-12-08T13:10:19.461Z"
   },
   {
    "duration": 114,
    "start_time": "2022-12-08T13:10:20.535Z"
   },
   {
    "duration": 6,
    "start_time": "2022-12-08T13:10:20.652Z"
   },
   {
    "duration": 21,
    "start_time": "2022-12-08T13:10:20.660Z"
   },
   {
    "duration": 12,
    "start_time": "2022-12-08T13:10:20.684Z"
   },
   {
    "duration": 10,
    "start_time": "2022-12-08T13:10:20.698Z"
   },
   {
    "duration": 23,
    "start_time": "2022-12-08T13:10:20.710Z"
   },
   {
    "duration": 18,
    "start_time": "2022-12-08T13:10:20.736Z"
   },
   {
    "duration": 12,
    "start_time": "2022-12-08T13:10:20.756Z"
   },
   {
    "duration": 17,
    "start_time": "2022-12-08T13:10:20.770Z"
   },
   {
    "duration": 13,
    "start_time": "2022-12-08T13:10:20.789Z"
   },
   {
    "duration": 22,
    "start_time": "2022-12-08T13:10:20.804Z"
   },
   {
    "duration": 9,
    "start_time": "2022-12-08T13:10:20.828Z"
   },
   {
    "duration": 24,
    "start_time": "2022-12-08T13:10:20.841Z"
   },
   {
    "duration": 16,
    "start_time": "2022-12-08T13:10:20.867Z"
   },
   {
    "duration": 24,
    "start_time": "2022-12-08T13:10:20.885Z"
   },
   {
    "duration": 28,
    "start_time": "2022-12-08T13:10:20.911Z"
   },
   {
    "duration": 24,
    "start_time": "2022-12-08T13:10:20.941Z"
   },
   {
    "duration": 11,
    "start_time": "2022-12-08T13:10:20.967Z"
   },
   {
    "duration": 19,
    "start_time": "2022-12-08T13:10:20.980Z"
   },
   {
    "duration": 314,
    "start_time": "2022-12-08T13:10:21.001Z"
   },
   {
    "duration": 278,
    "start_time": "2022-12-08T13:10:21.316Z"
   },
   {
    "duration": 221,
    "start_time": "2022-12-08T13:10:21.596Z"
   },
   {
    "duration": 378,
    "start_time": "2022-12-08T13:10:21.820Z"
   },
   {
    "duration": 256,
    "start_time": "2022-12-08T13:10:22.201Z"
   },
   {
    "duration": 331,
    "start_time": "2022-12-08T13:10:22.459Z"
   },
   {
    "duration": 23,
    "start_time": "2022-12-08T13:10:22.792Z"
   },
   {
    "duration": 148,
    "start_time": "2022-12-08T13:10:22.817Z"
   },
   {
    "duration": 4,
    "start_time": "2022-12-08T13:10:22.967Z"
   },
   {
    "duration": 15,
    "start_time": "2022-12-08T13:10:22.973Z"
   },
   {
    "duration": 139,
    "start_time": "2022-12-08T13:10:22.990Z"
   },
   {
    "duration": 141,
    "start_time": "2022-12-08T13:10:23.131Z"
   },
   {
    "duration": 5,
    "start_time": "2022-12-08T13:10:23.275Z"
   },
   {
    "duration": 255,
    "start_time": "2022-12-08T13:10:23.282Z"
   },
   {
    "duration": 7,
    "start_time": "2022-12-08T13:10:23.539Z"
   },
   {
    "duration": 184,
    "start_time": "2022-12-08T13:10:23.548Z"
   },
   {
    "duration": 12,
    "start_time": "2022-12-08T13:10:23.734Z"
   },
   {
    "duration": 15,
    "start_time": "2022-12-08T13:10:23.748Z"
   },
   {
    "duration": 14,
    "start_time": "2022-12-08T13:10:23.765Z"
   },
   {
    "duration": 49,
    "start_time": "2022-12-08T13:10:23.781Z"
   },
   {
    "duration": 16,
    "start_time": "2022-12-08T13:10:23.834Z"
   },
   {
    "duration": 9,
    "start_time": "2022-12-08T13:18:17.360Z"
   },
   {
    "duration": 9,
    "start_time": "2022-12-08T13:18:44.088Z"
   },
   {
    "duration": 24,
    "start_time": "2022-12-08T13:18:45.000Z"
   },
   {
    "duration": 18,
    "start_time": "2022-12-08T13:19:54.958Z"
   },
   {
    "duration": 14,
    "start_time": "2022-12-08T13:20:15.024Z"
   },
   {
    "duration": 951,
    "start_time": "2022-12-08T14:12:38.378Z"
   },
   {
    "duration": 128,
    "start_time": "2022-12-08T14:12:39.331Z"
   },
   {
    "duration": 6,
    "start_time": "2022-12-08T14:12:39.460Z"
   },
   {
    "duration": 17,
    "start_time": "2022-12-08T14:12:39.468Z"
   },
   {
    "duration": 15,
    "start_time": "2022-12-08T14:12:39.488Z"
   },
   {
    "duration": 12,
    "start_time": "2022-12-08T14:12:39.505Z"
   },
   {
    "duration": 14,
    "start_time": "2022-12-08T14:12:39.519Z"
   },
   {
    "duration": 7,
    "start_time": "2022-12-08T14:12:39.535Z"
   },
   {
    "duration": 6,
    "start_time": "2022-12-08T14:12:39.544Z"
   },
   {
    "duration": 5,
    "start_time": "2022-12-08T14:12:39.553Z"
   },
   {
    "duration": 6,
    "start_time": "2022-12-08T14:12:39.559Z"
   },
   {
    "duration": 13,
    "start_time": "2022-12-08T14:12:39.566Z"
   },
   {
    "duration": 7,
    "start_time": "2022-12-08T14:12:39.580Z"
   },
   {
    "duration": 28,
    "start_time": "2022-12-08T14:12:39.589Z"
   },
   {
    "duration": 5,
    "start_time": "2022-12-08T14:12:39.618Z"
   },
   {
    "duration": 10,
    "start_time": "2022-12-08T14:12:39.624Z"
   },
   {
    "duration": 15,
    "start_time": "2022-12-08T14:12:39.635Z"
   },
   {
    "duration": 11,
    "start_time": "2022-12-08T14:12:39.652Z"
   },
   {
    "duration": 6,
    "start_time": "2022-12-08T14:12:39.664Z"
   },
   {
    "duration": 13,
    "start_time": "2022-12-08T14:12:39.671Z"
   },
   {
    "duration": 295,
    "start_time": "2022-12-08T14:12:39.685Z"
   },
   {
    "duration": 259,
    "start_time": "2022-12-08T14:12:39.982Z"
   },
   {
    "duration": 174,
    "start_time": "2022-12-08T14:12:40.243Z"
   },
   {
    "duration": 271,
    "start_time": "2022-12-08T14:12:40.418Z"
   },
   {
    "duration": 208,
    "start_time": "2022-12-08T14:12:40.691Z"
   },
   {
    "duration": 307,
    "start_time": "2022-12-08T14:12:40.901Z"
   },
   {
    "duration": 13,
    "start_time": "2022-12-08T14:12:41.215Z"
   },
   {
    "duration": 152,
    "start_time": "2022-12-08T14:12:41.232Z"
   },
   {
    "duration": 4,
    "start_time": "2022-12-08T14:12:41.386Z"
   },
   {
    "duration": 11,
    "start_time": "2022-12-08T14:12:41.392Z"
   },
   {
    "duration": 120,
    "start_time": "2022-12-08T14:12:41.416Z"
   },
   {
    "duration": 122,
    "start_time": "2022-12-08T14:12:41.538Z"
   },
   {
    "duration": 4,
    "start_time": "2022-12-08T14:12:41.662Z"
   },
   {
    "duration": 222,
    "start_time": "2022-12-08T14:12:41.668Z"
   },
   {
    "duration": 6,
    "start_time": "2022-12-08T14:12:41.892Z"
   },
   {
    "duration": 187,
    "start_time": "2022-12-08T14:12:41.900Z"
   },
   {
    "duration": 26,
    "start_time": "2022-12-08T14:12:42.090Z"
   },
   {
    "duration": 10,
    "start_time": "2022-12-08T14:12:42.117Z"
   },
   {
    "duration": 17,
    "start_time": "2022-12-08T14:12:42.129Z"
   },
   {
    "duration": 28,
    "start_time": "2022-12-08T14:12:42.148Z"
   },
   {
    "duration": 13,
    "start_time": "2022-12-08T14:12:42.178Z"
   },
   {
    "duration": 1156,
    "start_time": "2022-12-08T14:14:55.706Z"
   },
   {
    "duration": 147,
    "start_time": "2022-12-08T14:14:56.864Z"
   },
   {
    "duration": 5,
    "start_time": "2022-12-08T14:14:57.012Z"
   },
   {
    "duration": 14,
    "start_time": "2022-12-08T14:14:57.020Z"
   },
   {
    "duration": 12,
    "start_time": "2022-12-08T14:14:57.036Z"
   },
   {
    "duration": 11,
    "start_time": "2022-12-08T14:14:57.050Z"
   },
   {
    "duration": 16,
    "start_time": "2022-12-08T14:14:57.064Z"
   },
   {
    "duration": 34,
    "start_time": "2022-12-08T14:14:57.082Z"
   },
   {
    "duration": 5,
    "start_time": "2022-12-08T14:14:57.118Z"
   },
   {
    "duration": 6,
    "start_time": "2022-12-08T14:14:57.125Z"
   },
   {
    "duration": 8,
    "start_time": "2022-12-08T14:14:57.133Z"
   },
   {
    "duration": 19,
    "start_time": "2022-12-08T14:14:57.142Z"
   },
   {
    "duration": 10,
    "start_time": "2022-12-08T14:14:57.163Z"
   },
   {
    "duration": 14,
    "start_time": "2022-12-08T14:14:57.176Z"
   },
   {
    "duration": 24,
    "start_time": "2022-12-08T14:14:57.192Z"
   },
   {
    "duration": 8,
    "start_time": "2022-12-08T14:14:57.217Z"
   },
   {
    "duration": 15,
    "start_time": "2022-12-08T14:14:57.227Z"
   },
   {
    "duration": 18,
    "start_time": "2022-12-08T14:14:57.243Z"
   },
   {
    "duration": 3,
    "start_time": "2022-12-08T14:14:57.263Z"
   },
   {
    "duration": 21,
    "start_time": "2022-12-08T14:14:57.267Z"
   },
   {
    "duration": 294,
    "start_time": "2022-12-08T14:14:57.290Z"
   },
   {
    "duration": 302,
    "start_time": "2022-12-08T14:14:57.586Z"
   },
   {
    "duration": 187,
    "start_time": "2022-12-08T14:14:57.889Z"
   },
   {
    "duration": 327,
    "start_time": "2022-12-08T14:14:58.078Z"
   },
   {
    "duration": 211,
    "start_time": "2022-12-08T14:14:58.406Z"
   },
   {
    "duration": 330,
    "start_time": "2022-12-08T14:14:58.619Z"
   },
   {
    "duration": 12,
    "start_time": "2022-12-08T14:14:58.951Z"
   },
   {
    "duration": 140,
    "start_time": "2022-12-08T14:14:58.965Z"
   },
   {
    "duration": 4,
    "start_time": "2022-12-08T14:14:59.115Z"
   },
   {
    "duration": 11,
    "start_time": "2022-12-08T14:14:59.120Z"
   },
   {
    "duration": 131,
    "start_time": "2022-12-08T14:14:59.133Z"
   },
   {
    "duration": 123,
    "start_time": "2022-12-08T14:14:59.265Z"
   },
   {
    "duration": 3,
    "start_time": "2022-12-08T14:14:59.390Z"
   },
   {
    "duration": 230,
    "start_time": "2022-12-08T14:14:59.395Z"
   },
   {
    "duration": 6,
    "start_time": "2022-12-08T14:14:59.627Z"
   },
   {
    "duration": 182,
    "start_time": "2022-12-08T14:14:59.635Z"
   },
   {
    "duration": 13,
    "start_time": "2022-12-08T14:14:59.819Z"
   },
   {
    "duration": 9,
    "start_time": "2022-12-08T14:14:59.834Z"
   },
   {
    "duration": 12,
    "start_time": "2022-12-08T14:14:59.845Z"
   },
   {
    "duration": 23,
    "start_time": "2022-12-08T14:14:59.858Z"
   },
   {
    "duration": 43,
    "start_time": "2022-12-08T14:14:59.883Z"
   },
   {
    "duration": 1043,
    "start_time": "2022-12-08T15:32:35.228Z"
   },
   {
    "duration": 299,
    "start_time": "2022-12-08T15:32:36.272Z"
   },
   {
    "duration": 7,
    "start_time": "2022-12-08T15:32:36.573Z"
   },
   {
    "duration": 30,
    "start_time": "2022-12-08T15:32:36.583Z"
   },
   {
    "duration": 13,
    "start_time": "2022-12-08T15:32:36.616Z"
   },
   {
    "duration": 17,
    "start_time": "2022-12-08T15:32:36.631Z"
   },
   {
    "duration": 36,
    "start_time": "2022-12-08T15:32:36.650Z"
   },
   {
    "duration": 29,
    "start_time": "2022-12-08T15:32:36.689Z"
   },
   {
    "duration": 28,
    "start_time": "2022-12-08T15:32:36.720Z"
   },
   {
    "duration": 13,
    "start_time": "2022-12-08T15:32:36.752Z"
   },
   {
    "duration": 21,
    "start_time": "2022-12-08T15:32:36.768Z"
   },
   {
    "duration": 23,
    "start_time": "2022-12-08T15:32:36.791Z"
   },
   {
    "duration": 9,
    "start_time": "2022-12-08T15:32:36.816Z"
   },
   {
    "duration": 11,
    "start_time": "2022-12-08T15:32:36.827Z"
   },
   {
    "duration": 8,
    "start_time": "2022-12-08T15:32:36.840Z"
   },
   {
    "duration": 11,
    "start_time": "2022-12-08T15:32:36.851Z"
   },
   {
    "duration": 16,
    "start_time": "2022-12-08T15:32:36.864Z"
   },
   {
    "duration": 34,
    "start_time": "2022-12-08T15:32:36.882Z"
   },
   {
    "duration": 4,
    "start_time": "2022-12-08T15:32:36.918Z"
   },
   {
    "duration": 17,
    "start_time": "2022-12-08T15:32:36.923Z"
   },
   {
    "duration": 374,
    "start_time": "2022-12-08T15:32:36.942Z"
   },
   {
    "duration": 313,
    "start_time": "2022-12-08T15:32:37.318Z"
   },
   {
    "duration": 214,
    "start_time": "2022-12-08T15:32:37.633Z"
   },
   {
    "duration": 311,
    "start_time": "2022-12-08T15:32:37.849Z"
   },
   {
    "duration": 240,
    "start_time": "2022-12-08T15:32:38.163Z"
   },
   {
    "duration": 339,
    "start_time": "2022-12-08T15:32:38.404Z"
   },
   {
    "duration": 21,
    "start_time": "2022-12-08T15:32:38.745Z"
   },
   {
    "duration": 193,
    "start_time": "2022-12-08T15:32:38.771Z"
   },
   {
    "duration": 5,
    "start_time": "2022-12-08T15:32:38.967Z"
   },
   {
    "duration": 24,
    "start_time": "2022-12-08T15:32:38.974Z"
   },
   {
    "duration": 159,
    "start_time": "2022-12-08T15:32:39.000Z"
   },
   {
    "duration": 162,
    "start_time": "2022-12-08T15:32:39.161Z"
   },
   {
    "duration": 5,
    "start_time": "2022-12-08T15:32:39.325Z"
   },
   {
    "duration": 364,
    "start_time": "2022-12-08T15:32:39.332Z"
   },
   {
    "duration": 18,
    "start_time": "2022-12-08T15:32:39.697Z"
   },
   {
    "duration": 247,
    "start_time": "2022-12-08T15:32:39.717Z"
   },
   {
    "duration": 12,
    "start_time": "2022-12-08T15:32:39.965Z"
   },
   {
    "duration": 12,
    "start_time": "2022-12-08T15:32:39.978Z"
   },
   {
    "duration": 16,
    "start_time": "2022-12-08T15:32:40.013Z"
   },
   {
    "duration": 30,
    "start_time": "2022-12-08T15:32:40.031Z"
   },
   {
    "duration": 18,
    "start_time": "2022-12-08T15:32:40.063Z"
   },
   {
    "duration": 80,
    "start_time": "2022-12-09T05:23:14.787Z"
   },
   {
    "duration": 1237,
    "start_time": "2022-12-09T05:23:25.126Z"
   },
   {
    "duration": 321,
    "start_time": "2022-12-09T05:23:26.366Z"
   },
   {
    "duration": 7,
    "start_time": "2022-12-09T05:23:27.056Z"
   },
   {
    "duration": 2,
    "start_time": "2022-12-09T05:23:28.493Z"
   },
   {
    "duration": 14,
    "start_time": "2022-12-09T05:23:34.960Z"
   },
   {
    "duration": 1351,
    "start_time": "2022-12-09T18:02:50.558Z"
   },
   {
    "duration": 282,
    "start_time": "2022-12-09T18:02:51.912Z"
   },
   {
    "duration": 5,
    "start_time": "2022-12-09T18:02:52.196Z"
   },
   {
    "duration": 12,
    "start_time": "2022-12-09T18:02:52.204Z"
   },
   {
    "duration": 17,
    "start_time": "2022-12-09T18:02:52.218Z"
   },
   {
    "duration": 11,
    "start_time": "2022-12-09T18:02:52.237Z"
   },
   {
    "duration": 22,
    "start_time": "2022-12-09T18:02:52.250Z"
   },
   {
    "duration": 6,
    "start_time": "2022-12-09T18:02:52.274Z"
   },
   {
    "duration": 9,
    "start_time": "2022-12-09T18:02:52.282Z"
   },
   {
    "duration": 9,
    "start_time": "2022-12-09T18:02:52.293Z"
   },
   {
    "duration": 9,
    "start_time": "2022-12-09T18:02:52.304Z"
   },
   {
    "duration": 15,
    "start_time": "2022-12-09T18:02:52.314Z"
   },
   {
    "duration": 9,
    "start_time": "2022-12-09T18:02:52.331Z"
   },
   {
    "duration": 14,
    "start_time": "2022-12-09T18:02:52.342Z"
   },
   {
    "duration": 23,
    "start_time": "2022-12-09T18:02:52.357Z"
   },
   {
    "duration": 14,
    "start_time": "2022-12-09T18:02:52.381Z"
   },
   {
    "duration": 14,
    "start_time": "2022-12-09T18:02:52.396Z"
   },
   {
    "duration": 13,
    "start_time": "2022-12-09T18:02:52.412Z"
   },
   {
    "duration": 7,
    "start_time": "2022-12-09T18:02:52.426Z"
   },
   {
    "duration": 19,
    "start_time": "2022-12-09T18:02:52.435Z"
   },
   {
    "duration": 385,
    "start_time": "2022-12-09T18:02:52.456Z"
   },
   {
    "duration": 304,
    "start_time": "2022-12-09T18:02:52.843Z"
   },
   {
    "duration": 198,
    "start_time": "2022-12-09T18:02:53.149Z"
   },
   {
    "duration": 375,
    "start_time": "2022-12-09T18:02:53.349Z"
   },
   {
    "duration": 234,
    "start_time": "2022-12-09T18:02:53.725Z"
   },
   {
    "duration": 349,
    "start_time": "2022-12-09T18:02:53.961Z"
   },
   {
    "duration": 14,
    "start_time": "2022-12-09T18:02:54.312Z"
   },
   {
    "duration": 167,
    "start_time": "2022-12-09T18:02:54.330Z"
   },
   {
    "duration": 6,
    "start_time": "2022-12-09T18:02:54.499Z"
   },
   {
    "duration": 16,
    "start_time": "2022-12-09T18:02:54.507Z"
   },
   {
    "duration": 145,
    "start_time": "2022-12-09T18:02:54.525Z"
   },
   {
    "duration": 136,
    "start_time": "2022-12-09T18:02:54.672Z"
   },
   {
    "duration": 5,
    "start_time": "2022-12-09T18:02:54.810Z"
   },
   {
    "duration": 267,
    "start_time": "2022-12-09T18:02:54.816Z"
   },
   {
    "duration": 8,
    "start_time": "2022-12-09T18:02:55.085Z"
   },
   {
    "duration": 183,
    "start_time": "2022-12-09T18:02:55.094Z"
   },
   {
    "duration": 12,
    "start_time": "2022-12-09T18:02:55.279Z"
   },
   {
    "duration": 12,
    "start_time": "2022-12-09T18:02:55.293Z"
   },
   {
    "duration": 18,
    "start_time": "2022-12-09T18:02:55.307Z"
   },
   {
    "duration": 26,
    "start_time": "2022-12-09T18:02:55.327Z"
   },
   {
    "duration": 33,
    "start_time": "2022-12-09T18:02:55.355Z"
   },
   {
    "duration": 7,
    "start_time": "2022-12-09T18:05:01.992Z"
   },
   {
    "duration": 9,
    "start_time": "2022-12-09T18:05:37.312Z"
   },
   {
    "duration": 10,
    "start_time": "2022-12-09T18:11:17.338Z"
   },
   {
    "duration": 7,
    "start_time": "2022-12-09T18:11:25.461Z"
   },
   {
    "duration": 6,
    "start_time": "2022-12-09T18:11:53.299Z"
   },
   {
    "duration": 7,
    "start_time": "2022-12-09T18:12:12.326Z"
   },
   {
    "duration": 8,
    "start_time": "2022-12-09T18:14:03.548Z"
   },
   {
    "duration": 7,
    "start_time": "2022-12-09T18:14:08.941Z"
   },
   {
    "duration": 7,
    "start_time": "2022-12-09T18:14:33.572Z"
   },
   {
    "duration": 7,
    "start_time": "2022-12-09T18:14:36.920Z"
   },
   {
    "duration": 8,
    "start_time": "2022-12-09T18:14:41.944Z"
   },
   {
    "duration": 947,
    "start_time": "2022-12-09T18:15:04.958Z"
   },
   {
    "duration": 803,
    "start_time": "2022-12-09T18:15:21.623Z"
   },
   {
    "duration": 5,
    "start_time": "2022-12-09T18:15:36.749Z"
   },
   {
    "duration": 5,
    "start_time": "2022-12-09T18:15:42.573Z"
   },
   {
    "duration": 1290,
    "start_time": "2022-12-09T18:15:58.376Z"
   },
   {
    "duration": 153,
    "start_time": "2022-12-09T18:15:59.669Z"
   },
   {
    "duration": 6,
    "start_time": "2022-12-09T18:15:59.824Z"
   },
   {
    "duration": 100,
    "start_time": "2022-12-09T18:15:59.833Z"
   },
   {
    "duration": 90,
    "start_time": "2022-12-09T18:15:59.935Z"
   },
   {
    "duration": 88,
    "start_time": "2022-12-09T18:16:00.028Z"
   },
   {
    "duration": 376,
    "start_time": "2022-12-09T18:16:00.118Z"
   },
   {
    "duration": 213,
    "start_time": "2022-12-09T18:16:00.496Z"
   },
   {
    "duration": 204,
    "start_time": "2022-12-09T18:16:00.712Z"
   },
   {
    "duration": 176,
    "start_time": "2022-12-09T18:16:00.922Z"
   },
   {
    "duration": 190,
    "start_time": "2022-12-09T18:16:01.101Z"
   },
   {
    "duration": 223,
    "start_time": "2022-12-09T18:16:01.293Z"
   },
   {
    "duration": 167,
    "start_time": "2022-12-09T18:16:01.518Z"
   },
   {
    "duration": 120,
    "start_time": "2022-12-09T18:16:01.688Z"
   },
   {
    "duration": 287,
    "start_time": "2022-12-09T18:16:01.810Z"
   },
   {
    "duration": 91,
    "start_time": "2022-12-09T18:16:02.099Z"
   },
   {
    "duration": 95,
    "start_time": "2022-12-09T18:16:02.192Z"
   },
   {
    "duration": 207,
    "start_time": "2022-12-09T18:16:02.290Z"
   },
   {
    "duration": 219,
    "start_time": "2022-12-09T18:16:02.499Z"
   },
   {
    "duration": 0,
    "start_time": "2022-12-09T18:16:02.721Z"
   },
   {
    "duration": 0,
    "start_time": "2022-12-09T18:16:02.722Z"
   },
   {
    "duration": 0,
    "start_time": "2022-12-09T18:16:02.724Z"
   },
   {
    "duration": 0,
    "start_time": "2022-12-09T18:16:02.726Z"
   },
   {
    "duration": 0,
    "start_time": "2022-12-09T18:16:02.728Z"
   },
   {
    "duration": 0,
    "start_time": "2022-12-09T18:16:02.730Z"
   },
   {
    "duration": 0,
    "start_time": "2022-12-09T18:16:02.732Z"
   },
   {
    "duration": 0,
    "start_time": "2022-12-09T18:16:02.734Z"
   },
   {
    "duration": 0,
    "start_time": "2022-12-09T18:16:02.735Z"
   },
   {
    "duration": 0,
    "start_time": "2022-12-09T18:16:02.737Z"
   },
   {
    "duration": 0,
    "start_time": "2022-12-09T18:16:02.739Z"
   },
   {
    "duration": 0,
    "start_time": "2022-12-09T18:16:02.740Z"
   },
   {
    "duration": 0,
    "start_time": "2022-12-09T18:16:02.752Z"
   },
   {
    "duration": 0,
    "start_time": "2022-12-09T18:16:02.754Z"
   },
   {
    "duration": 0,
    "start_time": "2022-12-09T18:16:02.756Z"
   },
   {
    "duration": 0,
    "start_time": "2022-12-09T18:16:02.758Z"
   },
   {
    "duration": 0,
    "start_time": "2022-12-09T18:16:02.760Z"
   },
   {
    "duration": 0,
    "start_time": "2022-12-09T18:16:02.762Z"
   },
   {
    "duration": 0,
    "start_time": "2022-12-09T18:16:02.763Z"
   },
   {
    "duration": 0,
    "start_time": "2022-12-09T18:16:02.779Z"
   },
   {
    "duration": 0,
    "start_time": "2022-12-09T18:16:02.780Z"
   },
   {
    "duration": 0,
    "start_time": "2022-12-09T18:16:02.782Z"
   },
   {
    "duration": 0,
    "start_time": "2022-12-09T18:16:02.783Z"
   },
   {
    "duration": 0,
    "start_time": "2022-12-09T18:16:02.784Z"
   },
   {
    "duration": 0,
    "start_time": "2022-12-09T18:16:02.786Z"
   },
   {
    "duration": 0,
    "start_time": "2022-12-09T18:16:02.788Z"
   },
   {
    "duration": 1247,
    "start_time": "2022-12-09T18:16:23.482Z"
   },
   {
    "duration": 140,
    "start_time": "2022-12-09T18:16:24.732Z"
   },
   {
    "duration": 111,
    "start_time": "2022-12-09T18:16:24.874Z"
   },
   {
    "duration": 125,
    "start_time": "2022-12-09T18:16:24.988Z"
   },
   {
    "duration": 197,
    "start_time": "2022-12-09T18:16:25.116Z"
   },
   {
    "duration": 85,
    "start_time": "2022-12-09T18:16:25.315Z"
   },
   {
    "duration": 113,
    "start_time": "2022-12-09T18:16:25.403Z"
   },
   {
    "duration": 79,
    "start_time": "2022-12-09T18:16:25.518Z"
   },
   {
    "duration": 87,
    "start_time": "2022-12-09T18:16:25.600Z"
   },
   {
    "duration": 78,
    "start_time": "2022-12-09T18:16:25.690Z"
   },
   {
    "duration": 31,
    "start_time": "2022-12-09T18:16:25.770Z"
   },
   {
    "duration": 88,
    "start_time": "2022-12-09T18:16:25.804Z"
   },
   {
    "duration": 112,
    "start_time": "2022-12-09T18:16:25.895Z"
   },
   {
    "duration": 50,
    "start_time": "2022-12-09T18:16:26.009Z"
   },
   {
    "duration": 23,
    "start_time": "2022-12-09T18:16:26.062Z"
   },
   {
    "duration": 31,
    "start_time": "2022-12-09T18:16:26.087Z"
   },
   {
    "duration": 60,
    "start_time": "2022-12-09T18:16:26.121Z"
   },
   {
    "duration": 28,
    "start_time": "2022-12-09T18:16:26.183Z"
   },
   {
    "duration": 79,
    "start_time": "2022-12-09T18:16:26.213Z"
   },
   {
    "duration": 36,
    "start_time": "2022-12-09T18:16:26.294Z"
   },
   {
    "duration": 899,
    "start_time": "2022-12-09T18:16:26.332Z"
   },
   {
    "duration": 0,
    "start_time": "2022-12-09T18:16:27.235Z"
   },
   {
    "duration": 0,
    "start_time": "2022-12-09T18:16:27.236Z"
   },
   {
    "duration": 0,
    "start_time": "2022-12-09T18:16:27.238Z"
   },
   {
    "duration": 0,
    "start_time": "2022-12-09T18:16:27.239Z"
   },
   {
    "duration": 0,
    "start_time": "2022-12-09T18:16:27.240Z"
   },
   {
    "duration": 0,
    "start_time": "2022-12-09T18:16:27.241Z"
   },
   {
    "duration": 0,
    "start_time": "2022-12-09T18:16:27.242Z"
   },
   {
    "duration": 0,
    "start_time": "2022-12-09T18:16:27.244Z"
   },
   {
    "duration": 0,
    "start_time": "2022-12-09T18:16:27.245Z"
   },
   {
    "duration": 0,
    "start_time": "2022-12-09T18:16:27.246Z"
   },
   {
    "duration": 0,
    "start_time": "2022-12-09T18:16:27.248Z"
   },
   {
    "duration": 0,
    "start_time": "2022-12-09T18:16:27.249Z"
   },
   {
    "duration": 0,
    "start_time": "2022-12-09T18:16:27.251Z"
   },
   {
    "duration": 0,
    "start_time": "2022-12-09T18:16:27.253Z"
   },
   {
    "duration": 0,
    "start_time": "2022-12-09T18:16:27.254Z"
   },
   {
    "duration": 0,
    "start_time": "2022-12-09T18:16:27.256Z"
   },
   {
    "duration": 0,
    "start_time": "2022-12-09T18:16:27.258Z"
   },
   {
    "duration": 0,
    "start_time": "2022-12-09T18:16:27.259Z"
   },
   {
    "duration": 0,
    "start_time": "2022-12-09T18:16:27.261Z"
   },
   {
    "duration": 0,
    "start_time": "2022-12-09T18:16:27.263Z"
   },
   {
    "duration": 0,
    "start_time": "2022-12-09T18:16:27.265Z"
   },
   {
    "duration": 0,
    "start_time": "2022-12-09T18:16:27.266Z"
   },
   {
    "duration": 0,
    "start_time": "2022-12-09T18:16:27.268Z"
   },
   {
    "duration": 6,
    "start_time": "2022-12-09T18:16:44.613Z"
   },
   {
    "duration": 1224,
    "start_time": "2022-12-09T18:16:49.892Z"
   },
   {
    "duration": 150,
    "start_time": "2022-12-09T18:16:51.118Z"
   },
   {
    "duration": 5,
    "start_time": "2022-12-09T18:16:51.270Z"
   },
   {
    "duration": 45,
    "start_time": "2022-12-09T18:16:51.278Z"
   },
   {
    "duration": 43,
    "start_time": "2022-12-09T18:16:51.325Z"
   },
   {
    "duration": 56,
    "start_time": "2022-12-09T18:16:51.371Z"
   },
   {
    "duration": 59,
    "start_time": "2022-12-09T18:16:51.430Z"
   },
   {
    "duration": 16,
    "start_time": "2022-12-09T18:16:51.491Z"
   },
   {
    "duration": 12,
    "start_time": "2022-12-09T18:16:51.508Z"
   },
   {
    "duration": 17,
    "start_time": "2022-12-09T18:16:51.524Z"
   },
   {
    "duration": 15,
    "start_time": "2022-12-09T18:16:51.543Z"
   },
   {
    "duration": 42,
    "start_time": "2022-12-09T18:16:51.560Z"
   },
   {
    "duration": 19,
    "start_time": "2022-12-09T18:16:51.604Z"
   },
   {
    "duration": 17,
    "start_time": "2022-12-09T18:16:51.625Z"
   },
   {
    "duration": 21,
    "start_time": "2022-12-09T18:16:51.644Z"
   },
   {
    "duration": 43,
    "start_time": "2022-12-09T18:16:51.667Z"
   },
   {
    "duration": 26,
    "start_time": "2022-12-09T18:16:51.712Z"
   },
   {
    "duration": 32,
    "start_time": "2022-12-09T18:16:51.740Z"
   },
   {
    "duration": 28,
    "start_time": "2022-12-09T18:16:51.774Z"
   },
   {
    "duration": 19,
    "start_time": "2022-12-09T18:16:51.805Z"
   },
   {
    "duration": 9,
    "start_time": "2022-12-09T18:16:51.827Z"
   },
   {
    "duration": 35,
    "start_time": "2022-12-09T18:16:51.838Z"
   },
   {
    "duration": 28,
    "start_time": "2022-12-09T18:16:51.875Z"
   },
   {
    "duration": 331,
    "start_time": "2022-12-09T18:16:51.905Z"
   },
   {
    "duration": 373,
    "start_time": "2022-12-09T18:16:52.238Z"
   },
   {
    "duration": 273,
    "start_time": "2022-12-09T18:16:52.613Z"
   },
   {
    "duration": 330,
    "start_time": "2022-12-09T18:16:52.888Z"
   },
   {
    "duration": 239,
    "start_time": "2022-12-09T18:16:53.222Z"
   },
   {
    "duration": 356,
    "start_time": "2022-12-09T18:16:53.462Z"
   },
   {
    "duration": 15,
    "start_time": "2022-12-09T18:16:53.821Z"
   },
   {
    "duration": 199,
    "start_time": "2022-12-09T18:16:53.839Z"
   },
   {
    "duration": 6,
    "start_time": "2022-12-09T18:16:54.040Z"
   },
   {
    "duration": 119,
    "start_time": "2022-12-09T18:16:54.048Z"
   },
   {
    "duration": 213,
    "start_time": "2022-12-09T18:16:54.169Z"
   },
   {
    "duration": 150,
    "start_time": "2022-12-09T18:16:54.384Z"
   },
   {
    "duration": 5,
    "start_time": "2022-12-09T18:16:54.536Z"
   },
   {
    "duration": 291,
    "start_time": "2022-12-09T18:16:54.543Z"
   },
   {
    "duration": 8,
    "start_time": "2022-12-09T18:16:54.837Z"
   },
   {
    "duration": 233,
    "start_time": "2022-12-09T18:16:54.847Z"
   },
   {
    "duration": 17,
    "start_time": "2022-12-09T18:16:55.083Z"
   },
   {
    "duration": 33,
    "start_time": "2022-12-09T18:16:55.102Z"
   },
   {
    "duration": 39,
    "start_time": "2022-12-09T18:16:55.138Z"
   },
   {
    "duration": 58,
    "start_time": "2022-12-09T18:16:55.180Z"
   },
   {
    "duration": 19,
    "start_time": "2022-12-09T18:16:55.240Z"
   },
   {
    "duration": 837,
    "start_time": "2022-12-09T18:17:48.862Z"
   },
   {
    "duration": 1190,
    "start_time": "2022-12-09T18:18:22.999Z"
   },
   {
    "duration": 153,
    "start_time": "2022-12-09T18:18:24.192Z"
   },
   {
    "duration": 7,
    "start_time": "2022-12-09T18:18:24.351Z"
   },
   {
    "duration": 204,
    "start_time": "2022-12-09T18:18:24.360Z"
   },
   {
    "duration": 132,
    "start_time": "2022-12-09T18:18:24.567Z"
   },
   {
    "duration": 10,
    "start_time": "2022-12-09T18:18:24.702Z"
   },
   {
    "duration": 94,
    "start_time": "2022-12-09T18:18:24.714Z"
   },
   {
    "duration": 69,
    "start_time": "2022-12-09T18:18:24.810Z"
   },
   {
    "duration": 42,
    "start_time": "2022-12-09T18:18:24.883Z"
   },
   {
    "duration": 79,
    "start_time": "2022-12-09T18:18:24.927Z"
   },
   {
    "duration": 151,
    "start_time": "2022-12-09T18:18:25.008Z"
   },
   {
    "duration": 165,
    "start_time": "2022-12-09T18:18:25.161Z"
   },
   {
    "duration": 30,
    "start_time": "2022-12-09T18:18:25.329Z"
   },
   {
    "duration": 38,
    "start_time": "2022-12-09T18:18:25.361Z"
   },
   {
    "duration": 24,
    "start_time": "2022-12-09T18:18:25.401Z"
   },
   {
    "duration": 64,
    "start_time": "2022-12-09T18:18:25.427Z"
   },
   {
    "duration": 58,
    "start_time": "2022-12-09T18:18:25.493Z"
   },
   {
    "duration": 21,
    "start_time": "2022-12-09T18:18:25.553Z"
   },
   {
    "duration": 15,
    "start_time": "2022-12-09T18:18:25.576Z"
   },
   {
    "duration": 15,
    "start_time": "2022-12-09T18:18:25.593Z"
   },
   {
    "duration": 41,
    "start_time": "2022-12-09T18:18:25.610Z"
   },
   {
    "duration": 115,
    "start_time": "2022-12-09T18:18:25.653Z"
   },
   {
    "duration": 59,
    "start_time": "2022-12-09T18:18:25.770Z"
   },
   {
    "duration": 50,
    "start_time": "2022-12-09T18:18:25.831Z"
   },
   {
    "duration": 406,
    "start_time": "2022-12-09T18:18:25.883Z"
   },
   {
    "duration": 325,
    "start_time": "2022-12-09T18:18:26.292Z"
   },
   {
    "duration": 240,
    "start_time": "2022-12-09T18:18:26.621Z"
   },
   {
    "duration": 332,
    "start_time": "2022-12-09T18:18:26.864Z"
   },
   {
    "duration": 237,
    "start_time": "2022-12-09T18:18:27.198Z"
   },
   {
    "duration": 378,
    "start_time": "2022-12-09T18:18:27.436Z"
   },
   {
    "duration": 16,
    "start_time": "2022-12-09T18:18:27.816Z"
   },
   {
    "duration": 183,
    "start_time": "2022-12-09T18:18:27.833Z"
   },
   {
    "duration": 5,
    "start_time": "2022-12-09T18:18:28.017Z"
   },
   {
    "duration": 22,
    "start_time": "2022-12-09T18:18:28.024Z"
   },
   {
    "duration": 157,
    "start_time": "2022-12-09T18:18:28.048Z"
   },
   {
    "duration": 190,
    "start_time": "2022-12-09T18:18:28.206Z"
   },
   {
    "duration": 6,
    "start_time": "2022-12-09T18:18:28.398Z"
   },
   {
    "duration": 298,
    "start_time": "2022-12-09T18:18:28.407Z"
   },
   {
    "duration": 10,
    "start_time": "2022-12-09T18:18:28.707Z"
   },
   {
    "duration": 195,
    "start_time": "2022-12-09T18:18:28.719Z"
   },
   {
    "duration": 11,
    "start_time": "2022-12-09T18:18:28.916Z"
   },
   {
    "duration": 11,
    "start_time": "2022-12-09T18:18:28.929Z"
   },
   {
    "duration": 19,
    "start_time": "2022-12-09T18:18:28.942Z"
   },
   {
    "duration": 25,
    "start_time": "2022-12-09T18:18:28.977Z"
   },
   {
    "duration": 16,
    "start_time": "2022-12-09T18:18:29.004Z"
   },
   {
    "duration": 877,
    "start_time": "2022-12-09T18:18:52.996Z"
   },
   {
    "duration": 1157,
    "start_time": "2022-12-09T18:19:04.590Z"
   },
   {
    "duration": 163,
    "start_time": "2022-12-09T18:19:05.749Z"
   },
   {
    "duration": 8,
    "start_time": "2022-12-09T18:19:05.915Z"
   },
   {
    "duration": 67,
    "start_time": "2022-12-09T18:19:05.926Z"
   },
   {
    "duration": 45,
    "start_time": "2022-12-09T18:19:05.995Z"
   },
   {
    "duration": 10,
    "start_time": "2022-12-09T18:19:06.042Z"
   },
   {
    "duration": 81,
    "start_time": "2022-12-09T18:19:06.053Z"
   },
   {
    "duration": 63,
    "start_time": "2022-12-09T18:19:06.136Z"
   },
   {
    "duration": 50,
    "start_time": "2022-12-09T18:19:06.201Z"
   },
   {
    "duration": 13,
    "start_time": "2022-12-09T18:19:06.255Z"
   },
   {
    "duration": 67,
    "start_time": "2022-12-09T18:19:06.270Z"
   },
   {
    "duration": 28,
    "start_time": "2022-12-09T18:19:06.338Z"
   },
   {
    "duration": 221,
    "start_time": "2022-12-09T18:19:06.368Z"
   },
   {
    "duration": 166,
    "start_time": "2022-12-09T18:19:06.592Z"
   },
   {
    "duration": 136,
    "start_time": "2022-12-09T18:19:06.761Z"
   },
   {
    "duration": 134,
    "start_time": "2022-12-09T18:19:06.899Z"
   },
   {
    "duration": 65,
    "start_time": "2022-12-09T18:19:07.036Z"
   },
   {
    "duration": 37,
    "start_time": "2022-12-09T18:19:07.104Z"
   },
   {
    "duration": 19,
    "start_time": "2022-12-09T18:19:07.143Z"
   },
   {
    "duration": 77,
    "start_time": "2022-12-09T18:19:07.164Z"
   },
   {
    "duration": 44,
    "start_time": "2022-12-09T18:19:07.243Z"
   },
   {
    "duration": 55,
    "start_time": "2022-12-09T18:19:07.289Z"
   },
   {
    "duration": 36,
    "start_time": "2022-12-09T18:19:07.346Z"
   },
   {
    "duration": 358,
    "start_time": "2022-12-09T18:19:07.384Z"
   },
   {
    "duration": 327,
    "start_time": "2022-12-09T18:19:07.744Z"
   },
   {
    "duration": 325,
    "start_time": "2022-12-09T18:19:08.078Z"
   },
   {
    "duration": 299,
    "start_time": "2022-12-09T18:19:08.406Z"
   },
   {
    "duration": 264,
    "start_time": "2022-12-09T18:19:08.709Z"
   },
   {
    "duration": 350,
    "start_time": "2022-12-09T18:19:08.977Z"
   },
   {
    "duration": 14,
    "start_time": "2022-12-09T18:19:09.329Z"
   },
   {
    "duration": 169,
    "start_time": "2022-12-09T18:19:09.345Z"
   },
   {
    "duration": 6,
    "start_time": "2022-12-09T18:19:09.516Z"
   },
   {
    "duration": 25,
    "start_time": "2022-12-09T18:19:09.524Z"
   },
   {
    "duration": 142,
    "start_time": "2022-12-09T18:19:09.551Z"
   },
   {
    "duration": 174,
    "start_time": "2022-12-09T18:19:09.695Z"
   },
   {
    "duration": 6,
    "start_time": "2022-12-09T18:19:09.877Z"
   },
   {
    "duration": 283,
    "start_time": "2022-12-09T18:19:09.886Z"
   },
   {
    "duration": 12,
    "start_time": "2022-12-09T18:19:10.171Z"
   },
   {
    "duration": 199,
    "start_time": "2022-12-09T18:19:10.185Z"
   },
   {
    "duration": 15,
    "start_time": "2022-12-09T18:19:10.386Z"
   },
   {
    "duration": 53,
    "start_time": "2022-12-09T18:19:10.402Z"
   },
   {
    "duration": 27,
    "start_time": "2022-12-09T18:19:10.457Z"
   },
   {
    "duration": 31,
    "start_time": "2022-12-09T18:19:10.486Z"
   },
   {
    "duration": 18,
    "start_time": "2022-12-09T18:19:10.519Z"
   },
   {
    "duration": 7,
    "start_time": "2022-12-09T18:19:32.502Z"
   },
   {
    "duration": 7,
    "start_time": "2022-12-09T18:19:46.279Z"
   },
   {
    "duration": 4,
    "start_time": "2022-12-09T18:19:58.764Z"
   },
   {
    "duration": 871,
    "start_time": "2022-12-09T18:20:14.206Z"
   },
   {
    "duration": 1181,
    "start_time": "2022-12-09T18:21:31.028Z"
   },
   {
    "duration": 164,
    "start_time": "2022-12-09T18:21:32.211Z"
   },
   {
    "duration": 7,
    "start_time": "2022-12-09T18:21:32.377Z"
   },
   {
    "duration": 24,
    "start_time": "2022-12-09T18:21:32.387Z"
   },
   {
    "duration": 70,
    "start_time": "2022-12-09T18:21:32.413Z"
   },
   {
    "duration": 15,
    "start_time": "2022-12-09T18:21:32.486Z"
   },
   {
    "duration": 31,
    "start_time": "2022-12-09T18:21:32.503Z"
   },
   {
    "duration": 35,
    "start_time": "2022-12-09T18:21:32.537Z"
   },
   {
    "duration": 24,
    "start_time": "2022-12-09T18:21:32.575Z"
   },
   {
    "duration": 42,
    "start_time": "2022-12-09T18:21:32.604Z"
   },
   {
    "duration": 48,
    "start_time": "2022-12-09T18:21:32.648Z"
   },
   {
    "duration": 53,
    "start_time": "2022-12-09T18:21:32.698Z"
   },
   {
    "duration": 36,
    "start_time": "2022-12-09T18:21:32.753Z"
   },
   {
    "duration": 96,
    "start_time": "2022-12-09T18:21:32.791Z"
   },
   {
    "duration": 85,
    "start_time": "2022-12-09T18:21:32.889Z"
   },
   {
    "duration": 47,
    "start_time": "2022-12-09T18:21:32.976Z"
   },
   {
    "duration": 131,
    "start_time": "2022-12-09T18:21:33.026Z"
   },
   {
    "duration": 76,
    "start_time": "2022-12-09T18:21:33.160Z"
   },
   {
    "duration": 25,
    "start_time": "2022-12-09T18:21:33.239Z"
   },
   {
    "duration": 18,
    "start_time": "2022-12-09T18:21:33.266Z"
   },
   {
    "duration": 18,
    "start_time": "2022-12-09T18:21:33.287Z"
   },
   {
    "duration": 37,
    "start_time": "2022-12-09T18:21:33.308Z"
   },
   {
    "duration": 888,
    "start_time": "2022-12-09T18:21:33.348Z"
   },
   {
    "duration": 0,
    "start_time": "2022-12-09T18:21:34.239Z"
   },
   {
    "duration": 0,
    "start_time": "2022-12-09T18:21:34.240Z"
   },
   {
    "duration": 0,
    "start_time": "2022-12-09T18:21:34.242Z"
   },
   {
    "duration": 0,
    "start_time": "2022-12-09T18:21:34.243Z"
   },
   {
    "duration": 0,
    "start_time": "2022-12-09T18:21:34.244Z"
   },
   {
    "duration": 0,
    "start_time": "2022-12-09T18:21:34.245Z"
   },
   {
    "duration": 0,
    "start_time": "2022-12-09T18:21:34.247Z"
   },
   {
    "duration": 0,
    "start_time": "2022-12-09T18:21:34.247Z"
   },
   {
    "duration": 0,
    "start_time": "2022-12-09T18:21:34.249Z"
   },
   {
    "duration": 0,
    "start_time": "2022-12-09T18:21:34.251Z"
   },
   {
    "duration": 0,
    "start_time": "2022-12-09T18:21:34.252Z"
   },
   {
    "duration": 0,
    "start_time": "2022-12-09T18:21:34.253Z"
   },
   {
    "duration": 0,
    "start_time": "2022-12-09T18:21:34.254Z"
   },
   {
    "duration": 0,
    "start_time": "2022-12-09T18:21:34.255Z"
   },
   {
    "duration": 0,
    "start_time": "2022-12-09T18:21:34.257Z"
   },
   {
    "duration": 0,
    "start_time": "2022-12-09T18:21:34.258Z"
   },
   {
    "duration": 0,
    "start_time": "2022-12-09T18:21:34.260Z"
   },
   {
    "duration": 0,
    "start_time": "2022-12-09T18:21:34.261Z"
   },
   {
    "duration": 0,
    "start_time": "2022-12-09T18:21:34.267Z"
   },
   {
    "duration": 0,
    "start_time": "2022-12-09T18:21:34.268Z"
   },
   {
    "duration": 0,
    "start_time": "2022-12-09T18:21:34.270Z"
   },
   {
    "duration": 0,
    "start_time": "2022-12-09T18:21:34.271Z"
   },
   {
    "duration": 7,
    "start_time": "2022-12-09T18:21:58.134Z"
   },
   {
    "duration": 1244,
    "start_time": "2022-12-09T18:22:03.658Z"
   },
   {
    "duration": 154,
    "start_time": "2022-12-09T18:22:04.905Z"
   },
   {
    "duration": 11,
    "start_time": "2022-12-09T18:22:05.062Z"
   },
   {
    "duration": 33,
    "start_time": "2022-12-09T18:22:05.077Z"
   },
   {
    "duration": 38,
    "start_time": "2022-12-09T18:22:05.112Z"
   },
   {
    "duration": 39,
    "start_time": "2022-12-09T18:22:05.152Z"
   },
   {
    "duration": 49,
    "start_time": "2022-12-09T18:22:05.193Z"
   },
   {
    "duration": 30,
    "start_time": "2022-12-09T18:22:05.244Z"
   },
   {
    "duration": 17,
    "start_time": "2022-12-09T18:22:05.276Z"
   },
   {
    "duration": 18,
    "start_time": "2022-12-09T18:22:05.297Z"
   },
   {
    "duration": 19,
    "start_time": "2022-12-09T18:22:05.317Z"
   },
   {
    "duration": 27,
    "start_time": "2022-12-09T18:22:05.337Z"
   },
   {
    "duration": 34,
    "start_time": "2022-12-09T18:22:05.366Z"
   },
   {
    "duration": 32,
    "start_time": "2022-12-09T18:22:05.402Z"
   },
   {
    "duration": 14,
    "start_time": "2022-12-09T18:22:05.436Z"
   },
   {
    "duration": 25,
    "start_time": "2022-12-09T18:22:05.452Z"
   },
   {
    "duration": 42,
    "start_time": "2022-12-09T18:22:05.479Z"
   },
   {
    "duration": 25,
    "start_time": "2022-12-09T18:22:05.523Z"
   },
   {
    "duration": 35,
    "start_time": "2022-12-09T18:22:05.550Z"
   },
   {
    "duration": 32,
    "start_time": "2022-12-09T18:22:05.587Z"
   },
   {
    "duration": 30,
    "start_time": "2022-12-09T18:22:05.620Z"
   },
   {
    "duration": 20,
    "start_time": "2022-12-09T18:22:05.652Z"
   },
   {
    "duration": 16,
    "start_time": "2022-12-09T18:22:05.674Z"
   },
   {
    "duration": 38,
    "start_time": "2022-12-09T18:22:05.692Z"
   },
   {
    "duration": 383,
    "start_time": "2022-12-09T18:22:05.732Z"
   },
   {
    "duration": 339,
    "start_time": "2022-12-09T18:22:06.117Z"
   },
   {
    "duration": 226,
    "start_time": "2022-12-09T18:22:06.458Z"
   },
   {
    "duration": 334,
    "start_time": "2022-12-09T18:22:06.688Z"
   },
   {
    "duration": 256,
    "start_time": "2022-12-09T18:22:07.025Z"
   },
   {
    "duration": 368,
    "start_time": "2022-12-09T18:22:07.284Z"
   },
   {
    "duration": 26,
    "start_time": "2022-12-09T18:22:07.653Z"
   },
   {
    "duration": 235,
    "start_time": "2022-12-09T18:22:07.682Z"
   },
   {
    "duration": 6,
    "start_time": "2022-12-09T18:22:07.919Z"
   },
   {
    "duration": 32,
    "start_time": "2022-12-09T18:22:07.927Z"
   },
   {
    "duration": 151,
    "start_time": "2022-12-09T18:22:07.961Z"
   },
   {
    "duration": 159,
    "start_time": "2022-12-09T18:22:08.115Z"
   },
   {
    "duration": 7,
    "start_time": "2022-12-09T18:22:08.278Z"
   },
   {
    "duration": 327,
    "start_time": "2022-12-09T18:22:08.287Z"
   },
   {
    "duration": 6,
    "start_time": "2022-12-09T18:22:08.616Z"
   },
   {
    "duration": 188,
    "start_time": "2022-12-09T18:22:08.624Z"
   },
   {
    "duration": 15,
    "start_time": "2022-12-09T18:22:08.814Z"
   },
   {
    "duration": 13,
    "start_time": "2022-12-09T18:22:08.831Z"
   },
   {
    "duration": 18,
    "start_time": "2022-12-09T18:22:08.846Z"
   },
   {
    "duration": 25,
    "start_time": "2022-12-09T18:22:08.877Z"
   },
   {
    "duration": 16,
    "start_time": "2022-12-09T18:22:08.904Z"
   },
   {
    "duration": 232,
    "start_time": "2022-12-09T18:33:01.441Z"
   },
   {
    "duration": 309,
    "start_time": "2022-12-09T18:33:42.938Z"
   },
   {
    "duration": 376,
    "start_time": "2022-12-09T18:35:08.385Z"
   },
   {
    "duration": 51,
    "start_time": "2022-12-09T18:35:49.947Z"
   },
   {
    "duration": 319,
    "start_time": "2022-12-09T18:35:58.650Z"
   },
   {
    "duration": 326,
    "start_time": "2022-12-09T18:36:14.602Z"
   },
   {
    "duration": 335,
    "start_time": "2022-12-09T18:36:36.547Z"
   },
   {
    "duration": 238,
    "start_time": "2022-12-09T18:36:46.069Z"
   },
   {
    "duration": 220,
    "start_time": "2022-12-09T18:37:34.215Z"
   },
   {
    "duration": 354,
    "start_time": "2022-12-09T18:38:55.788Z"
   },
   {
    "duration": 328,
    "start_time": "2022-12-09T18:39:16.044Z"
   },
   {
    "duration": 364,
    "start_time": "2022-12-09T18:39:25.024Z"
   },
   {
    "duration": 340,
    "start_time": "2022-12-09T18:39:48.684Z"
   },
   {
    "duration": 273,
    "start_time": "2022-12-09T18:40:37.756Z"
   },
   {
    "duration": 390,
    "start_time": "2022-12-09T18:41:06.965Z"
   },
   {
    "duration": 447,
    "start_time": "2022-12-09T18:42:08.782Z"
   },
   {
    "duration": 1154,
    "start_time": "2022-12-09T19:30:13.566Z"
   },
   {
    "duration": 141,
    "start_time": "2022-12-09T19:30:14.722Z"
   },
   {
    "duration": 7,
    "start_time": "2022-12-09T19:30:14.864Z"
   },
   {
    "duration": 7,
    "start_time": "2022-12-09T19:30:14.873Z"
   },
   {
    "duration": 17,
    "start_time": "2022-12-09T19:30:14.881Z"
   },
   {
    "duration": 10,
    "start_time": "2022-12-09T19:30:14.899Z"
   },
   {
    "duration": 19,
    "start_time": "2022-12-09T19:30:14.911Z"
   },
   {
    "duration": 9,
    "start_time": "2022-12-09T19:30:14.932Z"
   },
   {
    "duration": 7,
    "start_time": "2022-12-09T19:30:14.943Z"
   },
   {
    "duration": 7,
    "start_time": "2022-12-09T19:30:14.980Z"
   },
   {
    "duration": 10,
    "start_time": "2022-12-09T19:30:14.989Z"
   },
   {
    "duration": 32,
    "start_time": "2022-12-09T19:30:15.001Z"
   },
   {
    "duration": 9,
    "start_time": "2022-12-09T19:30:15.035Z"
   },
   {
    "duration": 15,
    "start_time": "2022-12-09T19:30:15.046Z"
   },
   {
    "duration": 5,
    "start_time": "2022-12-09T19:30:15.077Z"
   },
   {
    "duration": 13,
    "start_time": "2022-12-09T19:30:15.084Z"
   },
   {
    "duration": 17,
    "start_time": "2022-12-09T19:30:15.099Z"
   },
   {
    "duration": 12,
    "start_time": "2022-12-09T19:30:15.118Z"
   },
   {
    "duration": 8,
    "start_time": "2022-12-09T19:30:15.132Z"
   },
   {
    "duration": 36,
    "start_time": "2022-12-09T19:30:15.142Z"
   },
   {
    "duration": 4,
    "start_time": "2022-12-09T19:30:15.180Z"
   },
   {
    "duration": 9,
    "start_time": "2022-12-09T19:30:15.186Z"
   },
   {
    "duration": 8,
    "start_time": "2022-12-09T19:30:15.197Z"
   },
   {
    "duration": 20,
    "start_time": "2022-12-09T19:30:15.207Z"
   },
   {
    "duration": 335,
    "start_time": "2022-12-09T19:30:15.229Z"
   },
   {
    "duration": 365,
    "start_time": "2022-12-09T19:30:15.566Z"
   },
   {
    "duration": 270,
    "start_time": "2022-12-09T19:30:15.932Z"
   },
   {
    "duration": 319,
    "start_time": "2022-12-09T19:30:16.207Z"
   },
   {
    "duration": 261,
    "start_time": "2022-12-09T19:30:16.528Z"
   },
   {
    "duration": 340,
    "start_time": "2022-12-09T19:30:16.791Z"
   },
   {
    "duration": 15,
    "start_time": "2022-12-09T19:30:17.133Z"
   },
   {
    "duration": 176,
    "start_time": "2022-12-09T19:30:17.150Z"
   },
   {
    "duration": 5,
    "start_time": "2022-12-09T19:30:17.328Z"
   },
   {
    "duration": 15,
    "start_time": "2022-12-09T19:30:17.335Z"
   },
   {
    "duration": 184,
    "start_time": "2022-12-09T19:30:17.353Z"
   },
   {
    "duration": 165,
    "start_time": "2022-12-09T19:30:17.539Z"
   },
   {
    "duration": 6,
    "start_time": "2022-12-09T19:30:17.706Z"
   },
   {
    "duration": 267,
    "start_time": "2022-12-09T19:30:17.713Z"
   },
   {
    "duration": 7,
    "start_time": "2022-12-09T19:30:17.982Z"
   },
   {
    "duration": 205,
    "start_time": "2022-12-09T19:30:17.991Z"
   },
   {
    "duration": 15,
    "start_time": "2022-12-09T19:30:18.199Z"
   },
   {
    "duration": 25,
    "start_time": "2022-12-09T19:30:18.216Z"
   },
   {
    "duration": 31,
    "start_time": "2022-12-09T19:30:18.243Z"
   },
   {
    "duration": 53,
    "start_time": "2022-12-09T19:30:18.276Z"
   },
   {
    "duration": 23,
    "start_time": "2022-12-09T19:30:18.333Z"
   },
   {
    "duration": 1316,
    "start_time": "2022-12-10T06:46:07.707Z"
   },
   {
    "duration": 304,
    "start_time": "2022-12-10T06:46:09.033Z"
   },
   {
    "duration": 6,
    "start_time": "2022-12-10T06:46:09.339Z"
   },
   {
    "duration": 16,
    "start_time": "2022-12-10T06:46:09.346Z"
   },
   {
    "duration": 43,
    "start_time": "2022-12-10T06:46:09.364Z"
   },
   {
    "duration": 43,
    "start_time": "2022-12-10T06:46:09.409Z"
   },
   {
    "duration": 63,
    "start_time": "2022-12-10T06:46:09.453Z"
   },
   {
    "duration": 38,
    "start_time": "2022-12-10T06:46:09.517Z"
   },
   {
    "duration": 35,
    "start_time": "2022-12-10T06:46:09.558Z"
   },
   {
    "duration": 23,
    "start_time": "2022-12-10T06:46:09.595Z"
   },
   {
    "duration": 4,
    "start_time": "2022-12-10T06:46:09.620Z"
   },
   {
    "duration": 45,
    "start_time": "2022-12-10T06:46:09.625Z"
   },
   {
    "duration": 56,
    "start_time": "2022-12-10T06:46:09.672Z"
   },
   {
    "duration": 34,
    "start_time": "2022-12-10T06:46:09.729Z"
   },
   {
    "duration": 40,
    "start_time": "2022-12-10T06:46:09.764Z"
   },
   {
    "duration": 40,
    "start_time": "2022-12-10T06:46:09.805Z"
   },
   {
    "duration": 41,
    "start_time": "2022-12-10T06:46:09.847Z"
   },
   {
    "duration": 13,
    "start_time": "2022-12-10T06:46:09.890Z"
   },
   {
    "duration": 54,
    "start_time": "2022-12-10T06:46:09.905Z"
   },
   {
    "duration": 33,
    "start_time": "2022-12-10T06:46:09.961Z"
   },
   {
    "duration": 48,
    "start_time": "2022-12-10T06:46:09.996Z"
   },
   {
    "duration": 44,
    "start_time": "2022-12-10T06:46:10.046Z"
   },
   {
    "duration": 45,
    "start_time": "2022-12-10T06:46:10.092Z"
   },
   {
    "duration": 39,
    "start_time": "2022-12-10T06:46:10.139Z"
   },
   {
    "duration": 425,
    "start_time": "2022-12-10T06:46:10.181Z"
   },
   {
    "duration": 317,
    "start_time": "2022-12-10T06:46:10.608Z"
   },
   {
    "duration": 237,
    "start_time": "2022-12-10T06:46:10.933Z"
   },
   {
    "duration": 370,
    "start_time": "2022-12-10T06:46:11.173Z"
   },
   {
    "duration": 242,
    "start_time": "2022-12-10T06:46:11.545Z"
   },
   {
    "duration": 351,
    "start_time": "2022-12-10T06:46:11.789Z"
   },
   {
    "duration": 13,
    "start_time": "2022-12-10T06:46:12.141Z"
   },
   {
    "duration": 179,
    "start_time": "2022-12-10T06:46:12.156Z"
   },
   {
    "duration": 4,
    "start_time": "2022-12-10T06:46:12.337Z"
   },
   {
    "duration": 21,
    "start_time": "2022-12-10T06:46:12.343Z"
   },
   {
    "duration": 180,
    "start_time": "2022-12-10T06:46:12.365Z"
   },
   {
    "duration": 136,
    "start_time": "2022-12-10T06:46:12.547Z"
   },
   {
    "duration": 4,
    "start_time": "2022-12-10T06:46:12.685Z"
   },
   {
    "duration": 310,
    "start_time": "2022-12-10T06:46:12.690Z"
   },
   {
    "duration": 14,
    "start_time": "2022-12-10T06:46:13.002Z"
   },
   {
    "duration": 203,
    "start_time": "2022-12-10T06:46:13.017Z"
   },
   {
    "duration": 14,
    "start_time": "2022-12-10T06:46:13.221Z"
   },
   {
    "duration": 12,
    "start_time": "2022-12-10T06:46:13.237Z"
   },
   {
    "duration": 9,
    "start_time": "2022-12-10T06:46:13.250Z"
   },
   {
    "duration": 25,
    "start_time": "2022-12-10T06:46:13.261Z"
   },
   {
    "duration": 43,
    "start_time": "2022-12-10T06:46:13.288Z"
   },
   {
    "duration": 156,
    "start_time": "2022-12-10T06:47:01.828Z"
   },
   {
    "duration": 217,
    "start_time": "2022-12-10T06:48:14.053Z"
   },
   {
    "duration": 142,
    "start_time": "2022-12-10T06:48:34.968Z"
   },
   {
    "duration": 5,
    "start_time": "2022-12-10T06:48:47.935Z"
   },
   {
    "duration": 172,
    "start_time": "2022-12-10T06:49:59.865Z"
   },
   {
    "duration": 140,
    "start_time": "2022-12-10T06:50:24.735Z"
   },
   {
    "duration": 142,
    "start_time": "2022-12-10T06:50:43.694Z"
   },
   {
    "duration": 6,
    "start_time": "2022-12-10T06:50:49.639Z"
   },
   {
    "duration": 1073,
    "start_time": "2022-12-10T06:59:57.306Z"
   },
   {
    "duration": 142,
    "start_time": "2022-12-10T06:59:58.381Z"
   },
   {
    "duration": 6,
    "start_time": "2022-12-10T06:59:58.527Z"
   },
   {
    "duration": 6,
    "start_time": "2022-12-10T06:59:58.535Z"
   },
   {
    "duration": 21,
    "start_time": "2022-12-10T06:59:58.543Z"
   },
   {
    "duration": 10,
    "start_time": "2022-12-10T06:59:58.566Z"
   },
   {
    "duration": 21,
    "start_time": "2022-12-10T06:59:58.578Z"
   },
   {
    "duration": 20,
    "start_time": "2022-12-10T06:59:58.601Z"
   },
   {
    "duration": 12,
    "start_time": "2022-12-10T06:59:58.623Z"
   },
   {
    "duration": 5,
    "start_time": "2022-12-10T06:59:58.638Z"
   },
   {
    "duration": 8,
    "start_time": "2022-12-10T06:59:58.645Z"
   },
   {
    "duration": 11,
    "start_time": "2022-12-10T06:59:58.655Z"
   },
   {
    "duration": 6,
    "start_time": "2022-12-10T06:59:58.668Z"
   },
   {
    "duration": 10,
    "start_time": "2022-12-10T06:59:58.676Z"
   },
   {
    "duration": 29,
    "start_time": "2022-12-10T06:59:58.688Z"
   },
   {
    "duration": 12,
    "start_time": "2022-12-10T06:59:58.719Z"
   },
   {
    "duration": 13,
    "start_time": "2022-12-10T06:59:58.732Z"
   },
   {
    "duration": 11,
    "start_time": "2022-12-10T06:59:58.746Z"
   },
   {
    "duration": 8,
    "start_time": "2022-12-10T06:59:58.758Z"
   },
   {
    "duration": 9,
    "start_time": "2022-12-10T06:59:58.767Z"
   },
   {
    "duration": 4,
    "start_time": "2022-12-10T06:59:58.778Z"
   },
   {
    "duration": 32,
    "start_time": "2022-12-10T06:59:58.784Z"
   },
   {
    "duration": 6,
    "start_time": "2022-12-10T06:59:58.826Z"
   },
   {
    "duration": 17,
    "start_time": "2022-12-10T06:59:58.834Z"
   },
   {
    "duration": 310,
    "start_time": "2022-12-10T06:59:58.853Z"
   },
   {
    "duration": 324,
    "start_time": "2022-12-10T06:59:59.165Z"
   },
   {
    "duration": 240,
    "start_time": "2022-12-10T06:59:59.491Z"
   },
   {
    "duration": 309,
    "start_time": "2022-12-10T06:59:59.735Z"
   },
   {
    "duration": 254,
    "start_time": "2022-12-10T07:00:00.045Z"
   },
   {
    "duration": 367,
    "start_time": "2022-12-10T07:00:00.301Z"
   },
   {
    "duration": 14,
    "start_time": "2022-12-10T07:00:00.670Z"
   },
   {
    "duration": 184,
    "start_time": "2022-12-10T07:00:00.686Z"
   },
   {
    "duration": 5,
    "start_time": "2022-12-10T07:00:00.872Z"
   },
   {
    "duration": 56,
    "start_time": "2022-12-10T07:00:00.879Z"
   },
   {
    "duration": 169,
    "start_time": "2022-12-10T07:00:00.938Z"
   },
   {
    "duration": 142,
    "start_time": "2022-12-10T07:00:01.109Z"
   },
   {
    "duration": 4,
    "start_time": "2022-12-10T07:00:01.253Z"
   },
   {
    "duration": 312,
    "start_time": "2022-12-10T07:00:01.259Z"
   },
   {
    "duration": 9,
    "start_time": "2022-12-10T07:00:01.573Z"
   },
   {
    "duration": 258,
    "start_time": "2022-12-10T07:00:01.584Z"
   },
   {
    "duration": 11,
    "start_time": "2022-12-10T07:00:01.844Z"
   },
   {
    "duration": 11,
    "start_time": "2022-12-10T07:00:01.858Z"
   },
   {
    "duration": 26,
    "start_time": "2022-12-10T07:00:01.871Z"
   },
   {
    "duration": 39,
    "start_time": "2022-12-10T07:00:01.899Z"
   },
   {
    "duration": 16,
    "start_time": "2022-12-10T07:00:01.940Z"
   },
   {
    "duration": 9,
    "start_time": "2022-12-10T07:03:07.500Z"
   },
   {
    "duration": 9,
    "start_time": "2022-12-10T07:03:22.268Z"
   },
   {
    "duration": 22,
    "start_time": "2022-12-10T07:03:23.179Z"
   },
   {
    "duration": 21,
    "start_time": "2022-12-10T07:03:29.304Z"
   },
   {
    "duration": 1069,
    "start_time": "2022-12-10T07:19:35.873Z"
   },
   {
    "duration": 141,
    "start_time": "2022-12-10T07:19:36.945Z"
   },
   {
    "duration": 6,
    "start_time": "2022-12-10T07:19:37.088Z"
   },
   {
    "duration": 10,
    "start_time": "2022-12-10T07:19:37.096Z"
   },
   {
    "duration": 50,
    "start_time": "2022-12-10T07:19:37.108Z"
   },
   {
    "duration": 12,
    "start_time": "2022-12-10T07:19:37.160Z"
   },
   {
    "duration": 29,
    "start_time": "2022-12-10T07:19:37.175Z"
   },
   {
    "duration": 11,
    "start_time": "2022-12-10T07:19:37.206Z"
   },
   {
    "duration": 38,
    "start_time": "2022-12-10T07:19:37.221Z"
   },
   {
    "duration": 12,
    "start_time": "2022-12-10T07:19:37.263Z"
   },
   {
    "duration": 12,
    "start_time": "2022-12-10T07:19:37.277Z"
   },
   {
    "duration": 27,
    "start_time": "2022-12-10T07:19:37.291Z"
   },
   {
    "duration": 28,
    "start_time": "2022-12-10T07:19:37.320Z"
   },
   {
    "duration": 15,
    "start_time": "2022-12-10T07:19:37.350Z"
   },
   {
    "duration": 9,
    "start_time": "2022-12-10T07:19:37.367Z"
   },
   {
    "duration": 20,
    "start_time": "2022-12-10T07:19:37.378Z"
   },
   {
    "duration": 48,
    "start_time": "2022-12-10T07:19:37.400Z"
   },
   {
    "duration": 27,
    "start_time": "2022-12-10T07:19:37.450Z"
   },
   {
    "duration": 11,
    "start_time": "2022-12-10T07:19:37.479Z"
   },
   {
    "duration": 17,
    "start_time": "2022-12-10T07:19:37.491Z"
   },
   {
    "duration": 39,
    "start_time": "2022-12-10T07:19:37.510Z"
   },
   {
    "duration": 16,
    "start_time": "2022-12-10T07:19:37.551Z"
   },
   {
    "duration": 19,
    "start_time": "2022-12-10T07:19:37.569Z"
   },
   {
    "duration": 25,
    "start_time": "2022-12-10T07:19:37.590Z"
   },
   {
    "duration": 343,
    "start_time": "2022-12-10T07:19:37.617Z"
   },
   {
    "duration": 337,
    "start_time": "2022-12-10T07:19:37.962Z"
   },
   {
    "duration": 280,
    "start_time": "2022-12-10T07:19:38.301Z"
   },
   {
    "duration": 307,
    "start_time": "2022-12-10T07:19:38.584Z"
   },
   {
    "duration": 331,
    "start_time": "2022-12-10T07:19:38.894Z"
   },
   {
    "duration": 324,
    "start_time": "2022-12-10T07:19:39.227Z"
   },
   {
    "duration": 13,
    "start_time": "2022-12-10T07:19:39.556Z"
   },
   {
    "duration": 197,
    "start_time": "2022-12-10T07:19:39.571Z"
   },
   {
    "duration": 5,
    "start_time": "2022-12-10T07:19:39.770Z"
   },
   {
    "duration": 20,
    "start_time": "2022-12-10T07:19:39.777Z"
   },
   {
    "duration": 188,
    "start_time": "2022-12-10T07:19:39.799Z"
   },
   {
    "duration": 174,
    "start_time": "2022-12-10T07:19:39.989Z"
   },
   {
    "duration": 5,
    "start_time": "2022-12-10T07:19:40.165Z"
   },
   {
    "duration": 311,
    "start_time": "2022-12-10T07:19:40.171Z"
   },
   {
    "duration": 7,
    "start_time": "2022-12-10T07:19:40.484Z"
   },
   {
    "duration": 345,
    "start_time": "2022-12-10T07:19:40.493Z"
   },
   {
    "duration": 16,
    "start_time": "2022-12-10T07:19:40.845Z"
   },
   {
    "duration": 9,
    "start_time": "2022-12-10T07:19:40.863Z"
   },
   {
    "duration": 10,
    "start_time": "2022-12-10T07:19:40.874Z"
   },
   {
    "duration": 33,
    "start_time": "2022-12-10T07:19:40.886Z"
   },
   {
    "duration": 30,
    "start_time": "2022-12-10T07:19:40.920Z"
   },
   {
    "duration": 95,
    "start_time": "2022-12-10T07:20:43.413Z"
   },
   {
    "duration": 1585,
    "start_time": "2022-12-10T07:20:47.741Z"
   },
   {
    "duration": 1461,
    "start_time": "2022-12-10T07:21:00.338Z"
   },
   {
    "duration": 1580,
    "start_time": "2022-12-10T07:21:13.591Z"
   },
   {
    "duration": 1144,
    "start_time": "2022-12-10T07:21:30.510Z"
   },
   {
    "duration": 136,
    "start_time": "2022-12-10T07:21:31.656Z"
   },
   {
    "duration": 5,
    "start_time": "2022-12-10T07:21:31.794Z"
   },
   {
    "duration": 9,
    "start_time": "2022-12-10T07:21:31.801Z"
   },
   {
    "duration": 54,
    "start_time": "2022-12-10T07:21:31.813Z"
   },
   {
    "duration": 10,
    "start_time": "2022-12-10T07:21:31.869Z"
   },
   {
    "duration": 20,
    "start_time": "2022-12-10T07:21:31.881Z"
   },
   {
    "duration": 6,
    "start_time": "2022-12-10T07:21:31.903Z"
   },
   {
    "duration": 39,
    "start_time": "2022-12-10T07:21:31.911Z"
   },
   {
    "duration": 16,
    "start_time": "2022-12-10T07:21:31.952Z"
   },
   {
    "duration": 17,
    "start_time": "2022-12-10T07:21:31.970Z"
   },
   {
    "duration": 26,
    "start_time": "2022-12-10T07:21:31.989Z"
   },
   {
    "duration": 33,
    "start_time": "2022-12-10T07:21:32.017Z"
   },
   {
    "duration": 15,
    "start_time": "2022-12-10T07:21:32.054Z"
   },
   {
    "duration": 14,
    "start_time": "2022-12-10T07:21:32.071Z"
   },
   {
    "duration": 11,
    "start_time": "2022-12-10T07:21:32.088Z"
   },
   {
    "duration": 19,
    "start_time": "2022-12-10T07:21:32.101Z"
   },
   {
    "duration": 35,
    "start_time": "2022-12-10T07:21:32.125Z"
   },
   {
    "duration": 19,
    "start_time": "2022-12-10T07:21:32.161Z"
   },
   {
    "duration": 28,
    "start_time": "2022-12-10T07:21:32.182Z"
   },
   {
    "duration": 43,
    "start_time": "2022-12-10T07:21:32.212Z"
   },
   {
    "duration": 7,
    "start_time": "2022-12-10T07:21:32.257Z"
   },
   {
    "duration": 7,
    "start_time": "2022-12-10T07:21:32.266Z"
   },
   {
    "duration": 16,
    "start_time": "2022-12-10T07:21:32.274Z"
   },
   {
    "duration": 334,
    "start_time": "2022-12-10T07:21:32.292Z"
   },
   {
    "duration": 340,
    "start_time": "2022-12-10T07:21:32.627Z"
   },
   {
    "duration": 233,
    "start_time": "2022-12-10T07:21:32.969Z"
   },
   {
    "duration": 346,
    "start_time": "2022-12-10T07:21:33.204Z"
   },
   {
    "duration": 241,
    "start_time": "2022-12-10T07:21:33.551Z"
   },
   {
    "duration": 345,
    "start_time": "2022-12-10T07:21:33.794Z"
   },
   {
    "duration": 16,
    "start_time": "2022-12-10T07:21:34.141Z"
   },
   {
    "duration": 181,
    "start_time": "2022-12-10T07:21:34.159Z"
   },
   {
    "duration": 4,
    "start_time": "2022-12-10T07:21:34.347Z"
   },
   {
    "duration": 11,
    "start_time": "2022-12-10T07:21:34.353Z"
   },
   {
    "duration": 168,
    "start_time": "2022-12-10T07:21:34.366Z"
   },
   {
    "duration": 142,
    "start_time": "2022-12-10T07:21:34.539Z"
   },
   {
    "duration": 5,
    "start_time": "2022-12-10T07:21:34.683Z"
   },
   {
    "duration": 253,
    "start_time": "2022-12-10T07:21:34.690Z"
   },
   {
    "duration": 23,
    "start_time": "2022-12-10T07:21:34.945Z"
   },
   {
    "duration": 186,
    "start_time": "2022-12-10T07:21:34.970Z"
   },
   {
    "duration": 11,
    "start_time": "2022-12-10T07:21:35.160Z"
   },
   {
    "duration": 10,
    "start_time": "2022-12-10T07:21:35.173Z"
   },
   {
    "duration": 28,
    "start_time": "2022-12-10T07:21:35.185Z"
   },
   {
    "duration": 32,
    "start_time": "2022-12-10T07:21:35.215Z"
   },
   {
    "duration": 16,
    "start_time": "2022-12-10T07:21:35.249Z"
   },
   {
    "duration": 1291,
    "start_time": "2022-12-11T02:02:39.553Z"
   },
   {
    "duration": 390,
    "start_time": "2022-12-11T02:02:40.846Z"
   },
   {
    "duration": 8,
    "start_time": "2022-12-11T02:02:41.238Z"
   },
   {
    "duration": 8,
    "start_time": "2022-12-11T02:02:41.249Z"
   },
   {
    "duration": 15,
    "start_time": "2022-12-11T02:02:41.259Z"
   },
   {
    "duration": 15,
    "start_time": "2022-12-11T02:02:41.276Z"
   },
   {
    "duration": 28,
    "start_time": "2022-12-11T02:02:41.293Z"
   },
   {
    "duration": 23,
    "start_time": "2022-12-11T02:02:41.326Z"
   },
   {
    "duration": 6,
    "start_time": "2022-12-11T02:02:41.352Z"
   },
   {
    "duration": 7,
    "start_time": "2022-12-11T02:02:41.362Z"
   },
   {
    "duration": 6,
    "start_time": "2022-12-11T02:02:41.372Z"
   },
   {
    "duration": 13,
    "start_time": "2022-12-11T02:02:41.380Z"
   },
   {
    "duration": 21,
    "start_time": "2022-12-11T02:02:41.395Z"
   },
   {
    "duration": 12,
    "start_time": "2022-12-11T02:02:41.418Z"
   },
   {
    "duration": 17,
    "start_time": "2022-12-11T02:02:41.432Z"
   },
   {
    "duration": 15,
    "start_time": "2022-12-11T02:02:41.451Z"
   },
   {
    "duration": 16,
    "start_time": "2022-12-11T02:02:41.468Z"
   },
   {
    "duration": 33,
    "start_time": "2022-12-11T02:02:41.487Z"
   },
   {
    "duration": 34,
    "start_time": "2022-12-11T02:02:41.522Z"
   },
   {
    "duration": 20,
    "start_time": "2022-12-11T02:02:41.559Z"
   },
   {
    "duration": 11,
    "start_time": "2022-12-11T02:02:41.582Z"
   },
   {
    "duration": 13,
    "start_time": "2022-12-11T02:02:41.595Z"
   },
   {
    "duration": 34,
    "start_time": "2022-12-11T02:02:41.610Z"
   },
   {
    "duration": 14,
    "start_time": "2022-12-11T02:02:41.646Z"
   },
   {
    "duration": 322,
    "start_time": "2022-12-11T02:02:41.662Z"
   },
   {
    "duration": 413,
    "start_time": "2022-12-11T02:02:41.987Z"
   },
   {
    "duration": 267,
    "start_time": "2022-12-11T02:02:42.402Z"
   },
   {
    "duration": 438,
    "start_time": "2022-12-11T02:02:42.672Z"
   },
   {
    "duration": 271,
    "start_time": "2022-12-11T02:02:43.112Z"
   },
   {
    "duration": 376,
    "start_time": "2022-12-11T02:02:43.385Z"
   },
   {
    "duration": 15,
    "start_time": "2022-12-11T02:02:43.763Z"
   },
   {
    "duration": 168,
    "start_time": "2022-12-11T02:02:43.779Z"
   },
   {
    "duration": 5,
    "start_time": "2022-12-11T02:02:43.949Z"
   },
   {
    "duration": 16,
    "start_time": "2022-12-11T02:02:43.956Z"
   },
   {
    "duration": 183,
    "start_time": "2022-12-11T02:02:43.975Z"
   },
   {
    "duration": 145,
    "start_time": "2022-12-11T02:02:44.160Z"
   },
   {
    "duration": 10,
    "start_time": "2022-12-11T02:02:44.317Z"
   },
   {
    "duration": 260,
    "start_time": "2022-12-11T02:02:44.331Z"
   },
   {
    "duration": 14,
    "start_time": "2022-12-11T02:02:44.593Z"
   },
   {
    "duration": 335,
    "start_time": "2022-12-11T02:02:44.609Z"
   },
   {
    "duration": 15,
    "start_time": "2022-12-11T02:02:44.946Z"
   },
   {
    "duration": 12,
    "start_time": "2022-12-11T02:02:44.963Z"
   },
   {
    "duration": 15,
    "start_time": "2022-12-11T02:02:44.977Z"
   },
   {
    "duration": 65,
    "start_time": "2022-12-11T02:02:44.995Z"
   },
   {
    "duration": 17,
    "start_time": "2022-12-11T02:02:45.063Z"
   }
  ],
  "kernelspec": {
   "display_name": "Python 3 (ipykernel)",
   "language": "python",
   "name": "python3"
  },
  "language_info": {
   "codemirror_mode": {
    "name": "ipython",
    "version": 3
   },
   "file_extension": ".py",
   "mimetype": "text/x-python",
   "name": "python",
   "nbconvert_exporter": "python",
   "pygments_lexer": "ipython3",
   "version": "3.9.12"
  },
  "toc": {
   "base_numbering": 1,
   "nav_menu": {},
   "number_sections": true,
   "sideBar": true,
   "skip_h1_title": true,
   "title_cell": "Table of Contents",
   "title_sidebar": "Contents",
   "toc_cell": false,
   "toc_position": {},
   "toc_section_display": true,
   "toc_window_display": false
  }
 },
 "nbformat": 4,
 "nbformat_minor": 2
}
